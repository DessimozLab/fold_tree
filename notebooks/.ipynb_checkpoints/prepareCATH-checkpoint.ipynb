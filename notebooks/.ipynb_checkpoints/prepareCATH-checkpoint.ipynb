{
 "cells": [
  {
   "cell_type": "code",
   "execution_count": 1,
   "id": "b2012693-c6a3-4b72-bf8f-d657e3983ded",
   "metadata": {},
   "outputs": [],
   "source": [
    "%load_ext autoreload\n",
    "%autoreload 2"
   ]
  },
  {
   "cell_type": "code",
   "execution_count": 2,
   "id": "9cf13a9a-2970-432c-a45b-91dbf077f11b",
   "metadata": {},
   "outputs": [],
   "source": [
    "import sys\n",
    "sys.path.append('../')\n",
    "from src import AFDB_tools, treescore , foldseek2tree\n",
    "import pandas as pd\n",
    "import torch"
   ]
  },
  {
   "cell_type": "code",
   "execution_count": 3,
   "id": "15642502-23d3-4cde-aa32-fb2c2cf68274",
   "metadata": {},
   "outputs": [
    {
     "name": "stdout",
     "output_type": "stream",
     "text": [
      "        0   1   2   3   4   5   6   7   8   9   10     11\n",
      "0  1oaiA00   1  10   8  10   1   1   1   1   1  59    1.0\n",
      "1  1go5A00   1  10   8  10   1   1   1   1   2  69  999.0\n",
      "2  3frhA01   1  10   8  10   2   1   1   1   1  58    1.2\n",
      "3  3friA01   1  10   8  10   2   1   1   1   2  54    1.8\n",
      "4  3b89A01   1  10   8  10   2   1   1   2   1  54    2.6\n"
     ]
    }
   ],
   "source": [
    "#load cath dataset from CATH data folder with comment lines as # and white space seperator\n",
    "domain_df = pd.read_csv('../CATH_data/cath-domain-list.txt' , comment='#' , header = None , delim_whitespace=True)\n",
    "print(domain_df.head())"
   ]
  },
  {
   "cell_type": "code",
   "execution_count": 10,
   "id": "21ea694f",
   "metadata": {},
   "outputs": [],
   "source": [
    "#change the type to string\n",
    "domain_df = domain_df.astype(str)\n",
    "domain_df['superfam'] = domain_df[[1,2,3,4]].apply(lambda x : '.'.join(x), axis = 1) \n",
    "domain_df['CAT'] = domain_df[[1,2,3]].apply(lambda x : '.'.join(x), axis = 1) \n"
   ]
  },
  {
   "cell_type": "code",
   "execution_count": 11,
   "id": "74af3e1f",
   "metadata": {},
   "outputs": [],
   "source": [
    "siftsdf = pd.read_csv('../CATH_data/pdb_chain_cath_uniprot.csv', header=1 )\n"
   ]
  },
  {
   "cell_type": "code",
   "execution_count": 12,
   "id": "9dc72239",
   "metadata": {},
   "outputs": [
    {
     "name": "stdout",
     "output_type": "stream",
     "text": [
      "6485\n",
      "    PDB CHAIN SP_PRIMARY  CATH_ID        0  1   2    3   4  5  6  7   8  9  \\\n",
      "0  101m     A     P02185  101mA00  101mA00  1  10  490  10  1  1  1  51  4   \n",
      "1  102l     A     P00720  102lA00  102lA00  1  10  530  40  1  1  2  30  2   \n",
      "2  102m     A     P02185  102mA00  102mA00  1  10  490  10  1  1  1  42  7   \n",
      "3  103l     A     P00720  103lA00  103lA00  1  10  530  40  1  1  2  69  2   \n",
      "4  103m     A     P02185  103mA00  103mA00  1  10  490  10  1  1  1  42  8   \n",
      "\n",
      "    10    11     superfam       CAT  \n",
      "0  154  2.07  1.10.490.10  1.10.490  \n",
      "1  163  1.74  1.10.530.40  1.10.530  \n",
      "2  154  1.84  1.10.490.10  1.10.490  \n",
      "3  159   1.9  1.10.530.40  1.10.530  \n",
      "4  154  2.07  1.10.490.10  1.10.490   451320 None\n"
     ]
    }
   ],
   "source": [
    "#merge with domain df on cath id\n",
    "siftsdf = siftsdf.merge(domain_df, left_on = 'CATH_ID' , right_on = 0 , how = 'left')\n",
    "siftsdf = siftsdf.dropna()\n",
    "print(siftsdf.head(), len(siftsdf) , print(len(siftsdf.superfam.unique())))"
   ]
  },
  {
   "cell_type": "code",
   "execution_count": 13,
   "id": "69e5913b",
   "metadata": {},
   "outputs": [
    {
     "name": "stdout",
     "output_type": "stream",
     "text": [
      "['1.10.490.10' '1.10.530.40' '3.40.30.10' ... '6.10.140.1500'\n",
      " '1.20.120.1500' '1.10.10.1760'] 6485\n"
     ]
    },
    {
     "data": {
      "image/png": "[encoded data removed]",
      "text/plain": [
       "<Figure size 640x480 with 1 Axes>"
      ]
     },
     "metadata": {},
     "output_type": "display_data"
    }
   ],
   "source": [
    "from matplotlib import pyplot as plt\n",
    "print(siftsdf.superfam.unique(),len(siftsdf.superfam.unique()))\n",
    "#make a histogram of the superfam counts\n",
    "famsizes = siftsdf.CAT.value_counts().to_numpy()\n",
    "plt.hist( famsizes[famsizes>10] , bins = 100)\n",
    "plt.show()"
   ]
  },
  {
   "cell_type": "code",
   "execution_count": 21,
   "id": "1a7d7f38",
   "metadata": {},
   "outputs": [
    {
     "name": "stdout",
     "output_type": "stream",
     "text": [
      "done 91\n"
     ]
    },
    {
     "data": {
      "image/png": "[encoded data removed]",
      "text/plain": [
       "<Figure size 640x480 with 1 Axes>"
      ]
     },
     "metadata": {},
     "output_type": "display_data"
    }
   ],
   "source": [
    "from src import AFDB_tools\n",
    "import os\n",
    "#datapath = '../CATH_data/'\n",
    "\n",
    "datapath = '../CAT_data/'\n",
    "\n",
    "nprots = 500\n",
    "fams = 2000\n",
    "total = 0\n",
    "lengths = []\n",
    "#iterate over all superfamilies and create a tree for each\n",
    "\n",
    "if not os.path.exists(datapath):\n",
    "    os.mkdir(datapath)\n",
    "    \n",
    "for i,superfam in enumerate(siftsdf.CAT.unique()):\n",
    "    if not os.path.exists(datapath+superfam):\n",
    "        os.mkdir(datapath+superfam)\n",
    "\n",
    "    #create a tree for each superfam\n",
    "    #sample 1000 proteins from the superfam\n",
    "    sub = siftsdf[siftsdf.CAT == superfam]\n",
    "    prots = list(sub['SP_PRIMARY'].unique())\n",
    "    prots = prots[:nprots]\n",
    "    #output the sequence dataset to a file\n",
    "    #create a folder for the superfam if it does not exist\n",
    "    #output the uniport ids to a file\n",
    "    if len(prots)> 100:\n",
    "        lengths.append(len(prots))\n",
    "        total+=1\n",
    "        with open(datapath+superfam+'/identifiers.txt', 'w') as f:\n",
    "            f.write('\\n'.join( prots ))\n",
    "print('done', total)\n",
    "plt.hist(lengths)\n",
    "plt.show()\n"
   ]
  },
  {
   "cell_type": "code",
   "execution_count": 22,
   "id": "a4650ada-b027-4ff9-b90e-61ee16b57f06",
   "metadata": {},
   "outputs": [
    {
     "name": "stdout",
     "output_type": "stream",
     "text": [
      "1465\n"
     ]
    },
    {
     "data": {
      "image/png": "[encoded data removed]",
      "text/plain": [
       "<Figure size 640x480 with 1 Axes>"
      ]
     },
     "metadata": {},
     "output_type": "display_data"
    }
   ],
   "source": [
    "print(len(siftsdf.CAT.unique()))\n",
    "plt.hist(lengths,bins = 20)\n",
    "plt.show()"
   ]
  },
  {
   "cell_type": "code",
   "execution_count": 23,
   "id": "7d9c2c39-5f4e-4700-ab09-118199493ecb",
   "metadata": {},
   "outputs": [
    {
     "name": "stdout",
     "output_type": "stream",
     "text": [
      "                            # 2023/03/12 - 10:28 | PDB: 10.23 | UniProt: 2023.02\n",
      "PDB  CHAIN SP_PRIMARY SUNID                                            SCOP_ID  \n",
      "101m A     P02185     15125                                            d101ma_  \n",
      "102l A     P00720     36724                                            d102la_  \n",
      "102m A     P02185     15073                                            d102ma_  \n",
      "103l A     P00720     36870                                            d103la_  \n",
      "...                                                                        ...  \n",
      "9xia A     P24300     29434                                            d9xiaa_  \n",
      "9xim A     P12851     29505                                            d9xima_  \n",
      "     B     P12851     29506                                            d9ximb_  \n",
      "     C     P12851     29507                                            d9ximc_  \n",
      "     D     P12851     29508                                            d9ximd_  \n",
      "\n",
      "[104837 rows x 1 columns]\n"
     ]
    }
   ],
   "source": [
    "scopdf = pd.read_csv('../SCOP_data/pdb_chain_scop_uniprot.csv')\n",
    "print(scopdf)"
   ]
  },
  {
   "cell_type": "code",
   "execution_count": 33,
   "id": "f617a707-4eef-44fd-a9ee-18e154f08c4c",
   "metadata": {},
   "outputs": [
    {
     "name": "stdout",
     "output_type": "stream",
     "text": [
      "       FA-DOMID FA-PDBID    FA-PDBREG FA-UNIID  FA-UNIREG  SF-DOMID SF-PDBID  \\\n",
      "0       8045703     3H8D  C:1143-1264   Q64331  1143-1264   8091604     3H8D   \n",
      "1       8094330     6J56  A:1158-1282   Q9UM54  1167-1291   8094331     6J56   \n",
      "2       8017835     3FKQ      A:1-116   D0VX10      1-116   8017836     3FKQ   \n",
      "3       8021315     1XHF      A:2-122   P0A9Q1      2-122   8033695     1XHF   \n",
      "4       8021787     1Y7P     B:79-215   O28869     79-215   8034167     1Y7P   \n",
      "...         ...      ...          ...      ...        ...       ...      ...   \n",
      "36895   8022870     1SCJ    B:307-377   P04189     36-106   8035250     1SCJ   \n",
      "36896   8027500     1T1E     A:12-188   Q8RR56     12-188   8039879     1T1E   \n",
      "36897   8027593     1JQG    A:4P-100P   O97389     18-109   8039972     1JQG   \n",
      "36898   8028119     1KN6       A:4-76   P63239     31-103   8040498     1KN6   \n",
      "36899   8028297     1KWM     A:1A-95A   P15086     16-110   8040676     1KWM   \n",
      "\n",
      "         SF-PDBREG SF-UNIID  SF-UNIREG  \\\n",
      "0      C:1143-1264   Q64331  1143-1264   \n",
      "1      A:1158-1282   Q9UM54  1167-1291   \n",
      "2          A:1-116   D0VX10      1-116   \n",
      "3          A:2-122   P0A9Q1      2-122   \n",
      "4         B:79-215   O28869     79-215   \n",
      "...            ...      ...        ...   \n",
      "36895    B:307-377   P04189     36-106   \n",
      "36896     A:12-188   Q8RR56     12-188   \n",
      "36897    A:4P-100P   O97389     18-109   \n",
      "36898       A:4-76   P63239     31-103   \n",
      "36899     A:1A-95A   P15086     16-110   \n",
      "\n",
      "                                                SCOPCLA          SF  \n",
      "0      TP=1,CL=1000003,CF=2001470,SF=3002524,FA=4004627  SF=3002524  \n",
      "1      TP=1,CL=1000003,CF=2001470,SF=3002524,FA=4004627  SF=3002524  \n",
      "2      TP=1,CL=1000002,CF=2000016,SF=3001156,FA=4003986  SF=3001156  \n",
      "3      TP=1,CL=1000002,CF=2000016,SF=3001156,FA=4003632  SF=3001156  \n",
      "4      TP=1,CL=1000002,CF=2000016,SF=3001156,FA=4002481  SF=3001156  \n",
      "...                                                 ...         ...  \n",
      "36895  TP=1,CL=1000003,CF=2000014,SF=3001155,FA=4001246  SF=3001155  \n",
      "36896  TP=1,CL=1000003,CF=2000014,SF=3001155,FA=4001246  SF=3001155  \n",
      "36897  TP=1,CL=1000003,CF=2000014,SF=3001155,FA=4001250  SF=3001155  \n",
      "36898  TP=1,CL=1000003,CF=2000014,SF=3001155,FA=4002630  SF=3001155  \n",
      "36899  TP=1,CL=1000003,CF=2000014,SF=3001155,FA=4001250  SF=3001155  \n",
      "\n",
      "[36900 rows x 12 columns]\n"
     ]
    },
    {
     "data": {
      "text/plain": [
       "(array([485.,  72.,  31.,  13.,   7.,   2.,   6.,   1.,   2.,   1.]),\n",
       " array([ 11. ,  61.7, 112.4, 163.1, 213.8, 264.5, 315.2, 365.9, 416.6,\n",
       "        467.3, 518. ]),\n",
       " <BarContainer object of 10 artists>)"
      ]
     },
     "execution_count": 33,
     "metadata": {},
     "output_type": "execute_result"
    },
    {
     "data": {
      "image/png": "[encoded data removed]",
      "text/plain": [
       "<Figure size 640x480 with 1 Axes>"
      ]
     },
     "metadata": {},
     "output_type": "display_data"
    }
   ],
   "source": [
    "scopdf = pd.read_csv('../SCOP_data/scop-cla-latest.txt', header = None, comment= '#' , sep = ' ')\n",
    "scopdf.columns = 'FA-DOMID FA-PDBID FA-PDBREG FA-UNIID FA-UNIREG SF-DOMID SF-PDBID SF-PDBREG SF-UNIID SF-UNIREG SCOPCLA'.split()\n",
    "scopdf['SF'] = scopdf['SCOPCLA'].map( lambda x : ''.join(x.split(',')[0-2]) )\n",
    "print(scopdf)\n",
    "\n",
    "vc = scopdf.SF.value_counts()\n",
    "plt.hist( vc[vc>10])\n"
   ]
  },
  {
   "cell_type": "code",
   "execution_count": 35,
   "id": "45aab2af-036f-4095-9539-d536fa21048b",
   "metadata": {},
   "outputs": [
    {
     "name": "stderr",
     "output_type": "stream",
     "text": [
      "/tmp/26039522/ipykernel_2051606/378371935.py:19: UserWarning: Boolean Series key will be reindexed to match DataFrame index.\n",
      "  sub = siftsdf[scopdf.SF == superfam]\n"
     ]
    },
    {
     "ename": "IndexingError",
     "evalue": "Unalignable boolean Series provided as indexer (index of the boolean Series and of the indexed object do not match).",
     "output_type": "error",
     "traceback": [
      "\u001b[0;31m---------------------------------------------------------------------------\u001b[0m",
      "\u001b[0;31mIndexingError\u001b[0m                             Traceback (most recent call last)",
      "Cell \u001b[0;32mIn[35], line 19\u001b[0m\n\u001b[1;32m     15\u001b[0m     os\u001b[38;5;241m.\u001b[39mmkdir(datapath\u001b[38;5;241m+\u001b[39msuperfam)\n\u001b[1;32m     17\u001b[0m \u001b[38;5;66;03m#create a tree for each superfam\u001b[39;00m\n\u001b[1;32m     18\u001b[0m \u001b[38;5;66;03m#sample 1000 proteins from the superfam\u001b[39;00m\n\u001b[0;32m---> 19\u001b[0m sub \u001b[38;5;241m=\u001b[39m \u001b[43msiftsdf\u001b[49m\u001b[43m[\u001b[49m\u001b[43mscopdf\u001b[49m\u001b[38;5;241;43m.\u001b[39;49m\u001b[43mSF\u001b[49m\u001b[43m \u001b[49m\u001b[38;5;241;43m==\u001b[39;49m\u001b[43m \u001b[49m\u001b[43msuperfam\u001b[49m\u001b[43m]\u001b[49m\n\u001b[1;32m     20\u001b[0m prots \u001b[38;5;241m=\u001b[39m \u001b[38;5;28mlist\u001b[39m(sub[\u001b[38;5;124m'\u001b[39m\u001b[38;5;124mSF-UNIID\u001b[39m\u001b[38;5;124m'\u001b[39m]\u001b[38;5;241m.\u001b[39munique())\n\u001b[1;32m     21\u001b[0m prots \u001b[38;5;241m=\u001b[39m prots[:nprots]\n",
      "File \u001b[0;32m/work/FAC/FBM/DBC/cdessim2/default/dmoi/miniconda3/envs/ML2/lib/python3.10/site-packages/pandas/core/frame.py:3449\u001b[0m, in \u001b[0;36mDataFrame.__getitem__\u001b[0;34m(self, key)\u001b[0m\n\u001b[1;32m   3447\u001b[0m \u001b[38;5;66;03m# Do we have a (boolean) 1d indexer?\u001b[39;00m\n\u001b[1;32m   3448\u001b[0m \u001b[38;5;28;01mif\u001b[39;00m com\u001b[38;5;241m.\u001b[39mis_bool_indexer(key):\n\u001b[0;32m-> 3449\u001b[0m     \u001b[38;5;28;01mreturn\u001b[39;00m \u001b[38;5;28;43mself\u001b[39;49m\u001b[38;5;241;43m.\u001b[39;49m\u001b[43m_getitem_bool_array\u001b[49m\u001b[43m(\u001b[49m\u001b[43mkey\u001b[49m\u001b[43m)\u001b[49m\n\u001b[1;32m   3451\u001b[0m \u001b[38;5;66;03m# We are left with two options: a single key, and a collection of keys,\u001b[39;00m\n\u001b[1;32m   3452\u001b[0m \u001b[38;5;66;03m# We interpret tuples as collections only for non-MultiIndex\u001b[39;00m\n\u001b[1;32m   3453\u001b[0m is_single_key \u001b[38;5;241m=\u001b[39m \u001b[38;5;28misinstance\u001b[39m(key, \u001b[38;5;28mtuple\u001b[39m) \u001b[38;5;129;01mor\u001b[39;00m \u001b[38;5;129;01mnot\u001b[39;00m is_list_like(key)\n",
      "File \u001b[0;32m/work/FAC/FBM/DBC/cdessim2/default/dmoi/miniconda3/envs/ML2/lib/python3.10/site-packages/pandas/core/frame.py:3502\u001b[0m, in \u001b[0;36mDataFrame._getitem_bool_array\u001b[0;34m(self, key)\u001b[0m\n\u001b[1;32m   3496\u001b[0m     \u001b[38;5;28;01mraise\u001b[39;00m \u001b[38;5;167;01mValueError\u001b[39;00m(\n\u001b[1;32m   3497\u001b[0m         \u001b[38;5;124mf\u001b[39m\u001b[38;5;124m\"\u001b[39m\u001b[38;5;124mItem wrong length \u001b[39m\u001b[38;5;132;01m{\u001b[39;00m\u001b[38;5;28mlen\u001b[39m(key)\u001b[38;5;132;01m}\u001b[39;00m\u001b[38;5;124m instead of \u001b[39m\u001b[38;5;132;01m{\u001b[39;00m\u001b[38;5;28mlen\u001b[39m(\u001b[38;5;28mself\u001b[39m\u001b[38;5;241m.\u001b[39mindex)\u001b[38;5;132;01m}\u001b[39;00m\u001b[38;5;124m.\u001b[39m\u001b[38;5;124m\"\u001b[39m\n\u001b[1;32m   3498\u001b[0m     )\n\u001b[1;32m   3500\u001b[0m \u001b[38;5;66;03m# check_bool_indexer will throw exception if Series key cannot\u001b[39;00m\n\u001b[1;32m   3501\u001b[0m \u001b[38;5;66;03m# be reindexed to match DataFrame rows\u001b[39;00m\n\u001b[0;32m-> 3502\u001b[0m key \u001b[38;5;241m=\u001b[39m \u001b[43mcheck_bool_indexer\u001b[49m\u001b[43m(\u001b[49m\u001b[38;5;28;43mself\u001b[39;49m\u001b[38;5;241;43m.\u001b[39;49m\u001b[43mindex\u001b[49m\u001b[43m,\u001b[49m\u001b[43m \u001b[49m\u001b[43mkey\u001b[49m\u001b[43m)\u001b[49m\n\u001b[1;32m   3503\u001b[0m indexer \u001b[38;5;241m=\u001b[39m key\u001b[38;5;241m.\u001b[39mnonzero()[\u001b[38;5;241m0\u001b[39m]\n\u001b[1;32m   3504\u001b[0m \u001b[38;5;28;01mreturn\u001b[39;00m \u001b[38;5;28mself\u001b[39m\u001b[38;5;241m.\u001b[39m_take_with_is_copy(indexer, axis\u001b[38;5;241m=\u001b[39m\u001b[38;5;241m0\u001b[39m)\n",
      "File \u001b[0;32m/work/FAC/FBM/DBC/cdessim2/default/dmoi/miniconda3/envs/ML2/lib/python3.10/site-packages/pandas/core/indexing.py:2388\u001b[0m, in \u001b[0;36mcheck_bool_indexer\u001b[0;34m(index, key)\u001b[0m\n\u001b[1;32m   2386\u001b[0m     mask \u001b[38;5;241m=\u001b[39m isna(result\u001b[38;5;241m.\u001b[39m_values)\n\u001b[1;32m   2387\u001b[0m     \u001b[38;5;28;01mif\u001b[39;00m mask\u001b[38;5;241m.\u001b[39many():\n\u001b[0;32m-> 2388\u001b[0m         \u001b[38;5;28;01mraise\u001b[39;00m IndexingError(\n\u001b[1;32m   2389\u001b[0m             \u001b[38;5;124m\"\u001b[39m\u001b[38;5;124mUnalignable boolean Series provided as \u001b[39m\u001b[38;5;124m\"\u001b[39m\n\u001b[1;32m   2390\u001b[0m             \u001b[38;5;124m\"\u001b[39m\u001b[38;5;124mindexer (index of the boolean Series and of \u001b[39m\u001b[38;5;124m\"\u001b[39m\n\u001b[1;32m   2391\u001b[0m             \u001b[38;5;124m\"\u001b[39m\u001b[38;5;124mthe indexed object do not match).\u001b[39m\u001b[38;5;124m\"\u001b[39m\n\u001b[1;32m   2392\u001b[0m         )\n\u001b[1;32m   2393\u001b[0m     \u001b[38;5;28;01mreturn\u001b[39;00m result\u001b[38;5;241m.\u001b[39mastype(\u001b[38;5;28mbool\u001b[39m)\u001b[38;5;241m.\u001b[39m_values\n\u001b[1;32m   2394\u001b[0m \u001b[38;5;28;01mif\u001b[39;00m is_object_dtype(key):\n\u001b[1;32m   2395\u001b[0m     \u001b[38;5;66;03m# key might be object-dtype bool, check_array_indexer needs bool array\u001b[39;00m\n",
      "\u001b[0;31mIndexingError\u001b[0m: Unalignable boolean Series provided as indexer (index of the boolean Series and of the indexed object do not match)."
     ]
    }
   ],
   "source": [
    "from src import AFDB_tools\n",
    "import os\n",
    "datapath = '../SCOP_data/'\n",
    "nprots = 500\n",
    "fams = 2000\n",
    "total = 0\n",
    "lengths = []\n",
    "#iterate over all superfamilies and create a tree for each\n",
    "\n",
    "if not os.path.exists(datapath):\n",
    "    os.mkdir(datapath)\n",
    "    \n",
    "for i,superfam in enumerate(scopdf.SF.unique()):\n",
    "    if not os.path.exists(datapath+superfam):\n",
    "        os.mkdir(datapath+superfam)\n",
    "\n",
    "    #create a tree for each superfam\n",
    "    #sample 1000 proteins from the superfam\n",
    "    sub = scopdf[scopdf.SF == superfam]\n",
    "    prots = list(sub['SF-UNIID'].unique())\n",
    "    prots = prots[:nprots]\n",
    "    #output the sequence dataset to a file\n",
    "    #create a folder for the superfam if it does not exist\n",
    "    #output the uniport ids to a file\n",
    "    if len(prots)> 100:\n",
    "        lengths.append(len(prots))\n",
    "        total+=1\n",
    "        with open(datapath+superfam+'/identifiers.txt', 'w') as f:\n",
    "            f.write('\\n'.join( prots ))\n",
    "print('done', total)\n",
    "plt.hist(lengths)\n",
    "plt.show()\n"
   ]
  },
  {
   "cell_type": "code",
   "execution_count": null,
   "id": "bcb0eaeb-bae9-430f-9b15-85a0687ac9d2",
   "metadata": {},
   "outputs": [],
   "source": []
  }
 ],
 "metadata": {
  "kernelspec": {
   "display_name": "Python 3 (ipykernel)",
   "language": "python",
   "name": "python3"
  },
  "language_info": {
   "codemirror_mode": {
    "name": "ipython",
    "version": 3
   },
   "file_extension": ".py",
   "mimetype": "text/x-python",
   "name": "python",
   "nbconvert_exporter": "python",
   "pygments_lexer": "ipython3",
   "version": "3.10.8"
  },
  "vscode": {
   "interpreter": {
    "hash": "de5d7f200d48311110fd5aad35b72e9d2d5b7cd2d05319e69d8eae45c81b4a25"
   }
  }
 },
 "nbformat": 4,
 "nbformat_minor": 5
}
