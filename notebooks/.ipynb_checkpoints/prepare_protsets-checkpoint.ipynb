{
 "cells": [
  {
   "cell_type": "code",
   "execution_count": 1,
   "id": "b2012693-c6a3-4b72-bf8f-d657e3983ded",
   "metadata": {},
   "outputs": [],
   "source": [
    "%load_ext autoreload\n",
    "%autoreload 2"
   ]
  },
  {
   "cell_type": "code",
   "execution_count": 1,
   "id": "9cf13a9a-2970-432c-a45b-91dbf077f11b",
   "metadata": {},
   "outputs": [],
   "source": [
    "import sys\n",
    "sys.path.append('../')\n",
    "from src import AFDB_tools, treescore , foldseek2tree\n",
    "import pandas as pd\n",
    "import torch"
   ]
  },
  {
   "cell_type": "code",
   "execution_count": 2,
   "id": "1a7d7f38",
   "metadata": {},
   "outputs": [],
   "source": [
    "from src import AFDB_tools\n",
    "import os\n",
    "import shutil\n",
    "import random\n",
    "import wget\n",
    "import glob\n",
    "from tqdm import tqdm"
   ]
  },
  {
   "cell_type": "code",
   "execution_count": 7,
   "id": "90a05c6f-b8f7-4a3a-a9f4-1dd1bb2447cc",
   "metadata": {},
   "outputs": [
    {
     "name": "stdout",
     "output_type": "stream",
     "text": [
      "../OMA_data/logs/\n"
     ]
    },
    {
     "name": "stderr",
     "output_type": "stream",
     "text": [
      "0it [00:00, ?it/s]"
     ]
    },
    {
     "name": "stdout",
     "output_type": "stream",
     "text": [
      "../OMA_data/Bacteria/\n"
     ]
    },
    {
     "name": "stderr",
     "output_type": "stream",
     "text": [
      "\n",
      "100%|██████████| 501/501 [00:10<00:00, 47.28it/s]\n"
     ]
    },
    {
     "name": "stdout",
     "output_type": "stream",
     "text": [
      "../OMA_data/LUCA/\n"
     ]
    },
    {
     "name": "stderr",
     "output_type": "stream",
     "text": [
      " 10%|█         | 51/501 [00:01<00:13, 34.39it/s]\n"
     ]
    },
    {
     "ename": "NameError",
     "evalue": "name 'f1' is not defined",
     "output_type": "error",
     "traceback": [
      "\u001b[0;31m---------------------------------------------------------------------------\u001b[0m",
      "\u001b[0;31mNameError\u001b[0m                                 Traceback (most recent call last)",
      "Cell \u001b[0;32mIn[7], line 13\u001b[0m\n\u001b[1;32m     11\u001b[0m rejected \u001b[38;5;241m=\u001b[39m glob\u001b[38;5;241m.\u001b[39mglob(fam \u001b[38;5;241m+\u001b[39m \u001b[38;5;124m'\u001b[39m\u001b[38;5;124mrejected/*.pdb\u001b[39m\u001b[38;5;124m'\u001b[39m)\n\u001b[1;32m     12\u001b[0m \u001b[38;5;28;01mif\u001b[39;00m \u001b[38;5;28mlen\u001b[39m(rejected)\u001b[38;5;241m>\u001b[39m\u001b[38;5;241m0\u001b[39m:\n\u001b[0;32m---> 13\u001b[0m     shutil\u001b[38;5;241m.\u001b[39mmove( \u001b[43mf1\u001b[49m, fam \u001b[38;5;241m+\u001b[39m\u001b[38;5;124m'\u001b[39m\u001b[38;5;124mstructs/\u001b[39m\u001b[38;5;124m'\u001b[39m\u001b[38;5;241m+\u001b[39mf1\u001b[38;5;241m.\u001b[39msplit(\u001b[38;5;124m'\u001b[39m\u001b[38;5;124m/\u001b[39m\u001b[38;5;124m'\u001b[39m)[\u001b[38;5;241m-\u001b[39m\u001b[38;5;241m1\u001b[39m] )\n",
      "\u001b[0;31mNameError\u001b[0m: name 'f1' is not defined"
     ]
    }
   ],
   "source": [
    "#move all structs from rejected to structs\n",
    "\n",
    "reset = True\n",
    "if reset == True:\n",
    "    outpath = '../OMA_data/'\n",
    "    clades = glob.glob(outpath +'*/')\n",
    "    for clade in clades:\n",
    "        print(clade)\n",
    "        fams = glob.glob(clade+'*/')\n",
    "        for fam in tqdm(fams):\n",
    "            rejected = glob.glob(fam + 'rejected/*.pdb')\n",
    "            if len(rejected)>0:\n",
    "                for f1 in rejected:\n",
    "                    shutil.move( f1, fam +'structs/'+f1.split('/')[-1] )"
   ]
  },
  {
   "cell_type": "code",
   "execution_count": 4,
   "id": "bcb0eaeb-bae9-430f-9b15-85a0687ac9d2",
   "metadata": {},
   "outputs": [
    {
     "name": "stdout",
     "output_type": "stream",
     "text": [
      "../../../datasets/Structure_Trees_mk2/Bacteria/\n"
     ]
    },
    {
     "name": "stderr",
     "output_type": "stream",
     "text": [
      "100%|██████████| 671/671 [00:08<00:00, 83.11it/s] \n"
     ]
    },
    {
     "name": "stdout",
     "output_type": "stream",
     "text": [
      "../../../datasets/Structure_Trees_mk2/LUCA/\n"
     ]
    },
    {
     "name": "stderr",
     "output_type": "stream",
     "text": [
      "100%|██████████| 1392/1392 [00:03<00:00, 463.64it/s]\n"
     ]
    },
    {
     "name": "stdout",
     "output_type": "stream",
     "text": [
      "../../../datasets/Structure_Trees_mk2/Euteleostomi/\n"
     ]
    },
    {
     "name": "stderr",
     "output_type": "stream",
     "text": [
      "100%|██████████| 3267/3267 [00:01<00:00, 2319.40it/s]\n"
     ]
    },
    {
     "name": "stdout",
     "output_type": "stream",
     "text": [
      "../../../datasets/Structure_Trees_mk2/Eumetazoa/\n"
     ]
    },
    {
     "name": "stderr",
     "output_type": "stream",
     "text": [
      "100%|██████████| 1568/1568 [00:08<00:00, 184.87it/s]\n"
     ]
    },
    {
     "name": "stdout",
     "output_type": "stream",
     "text": [
      "../../../datasets/Structure_Trees_mk2/Chordata/\n"
     ]
    },
    {
     "name": "stderr",
     "output_type": "stream",
     "text": [
      "100%|██████████| 1038/1038 [00:04<00:00, 226.35it/s]\n"
     ]
    },
    {
     "name": "stdout",
     "output_type": "stream",
     "text": [
      "../../../datasets/Structure_Trees_mk2/Tetrapoda/\n"
     ]
    },
    {
     "name": "stderr",
     "output_type": "stream",
     "text": [
      "100%|██████████| 359/359 [00:00<00:00, 2120.40it/s]\n"
     ]
    },
    {
     "name": "stdout",
     "output_type": "stream",
     "text": [
      "../../../datasets/Structure_Trees_mk2/Opisthokonta/\n"
     ]
    },
    {
     "name": "stderr",
     "output_type": "stream",
     "text": [
      "100%|██████████| 662/662 [00:00<00:00, 971.27it/s] \n"
     ]
    },
    {
     "name": "stdout",
     "output_type": "stream",
     "text": [
      "../../../datasets/Structure_Trees_mk2/Dikarya/\n"
     ]
    },
    {
     "name": "stderr",
     "output_type": "stream",
     "text": [
      "100%|██████████| 186/186 [00:01<00:00, 96.48it/s] \n"
     ]
    },
    {
     "name": "stdout",
     "output_type": "stream",
     "text": [
      "../../../datasets/Structure_Trees_mk2/Fungi/\n"
     ]
    },
    {
     "name": "stderr",
     "output_type": "stream",
     "text": [
      "100%|██████████| 138/138 [00:00<00:00, 1685.13it/s]\n"
     ]
    },
    {
     "name": "stdout",
     "output_type": "stream",
     "text": [
      "../../../datasets/Structure_Trees_mk2/Bilateria/\n"
     ]
    },
    {
     "name": "stderr",
     "output_type": "stream",
     "text": [
      "100%|██████████| 1033/1033 [00:04<00:00, 219.62it/s]\n"
     ]
    },
    {
     "name": "stdout",
     "output_type": "stream",
     "text": [
      "../../../datasets/Structure_Trees_mk2/Eukaryota/\n"
     ]
    },
    {
     "name": "stderr",
     "output_type": "stream",
     "text": [
      "100%|██████████| 3218/3218 [00:36<00:00, 87.89it/s] \n"
     ]
    },
    {
     "name": "stdout",
     "output_type": "stream",
     "text": [
      "{'../../../datasets/Structure_Trees_mk2/Bacteria/': 671, '../../../datasets/Structure_Trees_mk2/LUCA/': 1392, '../../../datasets/Structure_Trees_mk2/Euteleostomi/': 3267, '../../../datasets/Structure_Trees_mk2/Eumetazoa/': 1568, '../../../datasets/Structure_Trees_mk2/Chordata/': 1038, '../../../datasets/Structure_Trees_mk2/Tetrapoda/': 359, '../../../datasets/Structure_Trees_mk2/Opisthokonta/': 662, '../../../datasets/Structure_Trees_mk2/Dikarya/': 186, '../../../datasets/Structure_Trees_mk2/Fungi/': 138, '../../../datasets/Structure_Trees_mk2/Bilateria/': 1033, '../../../datasets/Structure_Trees_mk2/Eukaryota/': 3218}\n"
     ]
    },
    {
     "data": {
      "image/png": "[encoded data removed]",
      "text/plain": [
       "<Figure size 640x480 with 1 Axes>"
      ]
     },
     "metadata": {},
     "output_type": "display_data"
    }
   ],
   "source": [
    "#subsample the oma folders\n",
    "\n",
    "import os\n",
    "import shutil\n",
    "import random\n",
    "import glob\n",
    "from tqdm import tqdm\n",
    "from matplotlib import pyplot as plt\n",
    "\n",
    "#path to the oma folder\n",
    "path = '../../../datasets/Structure_Trees_mk2/*/'\n",
    "#path to the output folder\n",
    "outpath = '../OMA_data/'\n",
    "\n",
    "#make the output folder if it does not exist\n",
    "if not os.path.exists(outpath):\n",
    "    os.mkdir(outpath)\n",
    "#number of proteins to sample\n",
    "min_prots = 10\n",
    "#number of superfamilies to sample\n",
    "fams = 2000\n",
    "superfams={}\n",
    "#iterate over all superfamilies and compile an identifiers.txt file in the output folder\n",
    "for clade in glob.glob(path):\n",
    "    print(clade)\n",
    "    if clade not in superfams:\n",
    "        superfams[clade] = {}\n",
    "    #stores length of each superfam\n",
    "    superfam = set(glob.glob(clade+'*/'))-set([clade + 'logs/'])\n",
    "    #use tqdm progress bar\n",
    "    for s in tqdm(superfam):\n",
    "        with open(clade+s+'identifiers.txt', 'r') as f:\n",
    "                nprots = len(f.readlines())\n",
    "        if nprots >= min_prots:\n",
    "            superfams[clade][s] = nprots\n",
    "            \n",
    "lengths = { c:len(superfams[c]) for c in superfams}\n",
    "print(lengths)\n",
    "plt.hist(list(lengths.values()))\n",
    "plt.show()\n"
   ]
  },
  {
   "cell_type": "code",
   "execution_count": 12,
   "id": "c3fe6a88-1ad4-4fb8-9bae-d69ee034a626",
   "metadata": {},
   "outputs": [
    {
     "name": "stdout",
     "output_type": "stream",
     "text": [
      "../OMA_data/\n",
      "clades ['../OMA_data/logs/', '../OMA_data/Bacteria/', '../OMA_data/LUCA/', '../OMA_data/Euteleostomi/', '../OMA_data/Eumetazoa/', '../OMA_data/Chordata/', '../OMA_data/Tetrapoda/', '../OMA_data/Opisthokonta/', '../OMA_data/Dikarya/', '../OMA_data/Fungi/', '../OMA_data/Bilateria/', '../OMA_data/Eukaryota/']\n",
      "[]\n",
      "[]\n",
      "[]\n",
      "[]\n",
      "[]\n",
      "[]\n",
      "[]\n",
      "[]\n",
      "[]\n",
      "[]\n",
      "[]\n",
      "[]\n",
      "../OMA_data_unfiltered/OMA_data/\n",
      "clades ['../OMA_data_unfiltered/OMA_data/Bacteria/', '../OMA_data_unfiltered/OMA_data/LUCA/', '../OMA_data_unfiltered/OMA_data/Euteleostomi/', '../OMA_data_unfiltered/OMA_data/Eumetazoa/', '../OMA_data_unfiltered/OMA_data/Chordata/', '../OMA_data_unfiltered/OMA_data/Tetrapoda/', '../OMA_data_unfiltered/OMA_data/Opisthokonta/', '../OMA_data_unfiltered/OMA_data/Dikarya/', '../OMA_data_unfiltered/OMA_data/Fungi/', '../OMA_data_unfiltered/OMA_data/Bilateria/', '../OMA_data_unfiltered/OMA_data/Eukaryota/']\n",
      "['../OMA_data_unfiltered/OMA_data/Bacteria/HOG569/', '../OMA_data_unfiltered/OMA_data/Bacteria/HOG279/', '../OMA_data_unfiltered/OMA_data/Bacteria/HOG269/', '../OMA_data_unfiltered/OMA_data/Bacteria/HOG197/', '../OMA_data_unfiltered/OMA_data/Bacteria/HOG503/', '../OMA_data_unfiltered/OMA_data/Bacteria/HOG130/', '../OMA_data_unfiltered/OMA_data/Bacteria/HOG57/', '../OMA_data_unfiltered/OMA_data/Bacteria/HOG287/', '../OMA_data_unfiltered/OMA_data/Bacteria/logs/', '../OMA_data_unfiltered/OMA_data/Bacteria/HOG142/']\n",
      "['../OMA_data_unfiltered/OMA_data/LUCA/HOG1077/', '../OMA_data_unfiltered/OMA_data/LUCA/HOG790/', '../OMA_data_unfiltered/OMA_data/LUCA/HOG279/', '../OMA_data_unfiltered/OMA_data/LUCA/HOG885/', '../OMA_data_unfiltered/OMA_data/LUCA/HOG967/', '../OMA_data_unfiltered/OMA_data/LUCA/HOG608/', '../OMA_data_unfiltered/OMA_data/LUCA/HOG1171/', '../OMA_data_unfiltered/OMA_data/LUCA/HOG813/', '../OMA_data_unfiltered/OMA_data/LUCA/HOG282/', '../OMA_data_unfiltered/OMA_data/LUCA/HOG192/']\n",
      "['../OMA_data_unfiltered/OMA_data/Euteleostomi/HOG59/', '../OMA_data_unfiltered/OMA_data/Euteleostomi/HOG3087/', '../OMA_data_unfiltered/OMA_data/Euteleostomi/HOG1492/', '../OMA_data_unfiltered/OMA_data/Euteleostomi/HOG1970/', '../OMA_data_unfiltered/OMA_data/Euteleostomi/HOG1001/', '../OMA_data_unfiltered/OMA_data/Euteleostomi/HOG1442/', '../OMA_data_unfiltered/OMA_data/Euteleostomi/HOG2443/', '../OMA_data_unfiltered/OMA_data/Euteleostomi/HOG2496/', '../OMA_data_unfiltered/OMA_data/Euteleostomi/HOG1653/', '../OMA_data_unfiltered/OMA_data/Euteleostomi/logs/']\n",
      "['../OMA_data_unfiltered/OMA_data/Eumetazoa/HOG935/', '../OMA_data_unfiltered/OMA_data/Eumetazoa/HOG180/', '../OMA_data_unfiltered/OMA_data/Eumetazoa/HOG1417/', '../OMA_data_unfiltered/OMA_data/Eumetazoa/HOG197/', '../OMA_data_unfiltered/OMA_data/Eumetazoa/HOG1329/', '../OMA_data_unfiltered/OMA_data/Eumetazoa/HOG35/', '../OMA_data_unfiltered/OMA_data/Eumetazoa/HOG900/', '../OMA_data_unfiltered/OMA_data/Eumetazoa/HOG147/', '../OMA_data_unfiltered/OMA_data/Eumetazoa/HOG1449/', '../OMA_data_unfiltered/OMA_data/Eumetazoa/logs/']\n",
      "['../OMA_data_unfiltered/OMA_data/Chordata/HOG294/', '../OMA_data_unfiltered/OMA_data/Chordata/HOG411/', '../OMA_data_unfiltered/OMA_data/Chordata/HOG284/', '../OMA_data_unfiltered/OMA_data/Chordata/HOG279/', '../OMA_data_unfiltered/OMA_data/Chordata/HOG269/', '../OMA_data_unfiltered/OMA_data/Chordata/HOG592/', '../OMA_data_unfiltered/OMA_data/Chordata/HOG135/', '../OMA_data_unfiltered/OMA_data/Chordata/HOG721/', '../OMA_data_unfiltered/OMA_data/Chordata/HOG786/', '../OMA_data_unfiltered/OMA_data/Chordata/HOG282/']\n",
      "['../OMA_data_unfiltered/OMA_data/Tetrapoda/HOG33/', '../OMA_data_unfiltered/OMA_data/Tetrapoda/HOG185/', '../OMA_data_unfiltered/OMA_data/Tetrapoda/HOG284/', '../OMA_data_unfiltered/OMA_data/Tetrapoda/HOG274/', '../OMA_data_unfiltered/OMA_data/Tetrapoda/HOG279/', '../OMA_data_unfiltered/OMA_data/Tetrapoda/HOG76/', '../OMA_data_unfiltered/OMA_data/Tetrapoda/HOG35/', '../OMA_data_unfiltered/OMA_data/Tetrapoda/HOG292/', '../OMA_data_unfiltered/OMA_data/Tetrapoda/HOG297/', '../OMA_data_unfiltered/OMA_data/Tetrapoda/HOG282/']\n",
      "['../OMA_data_unfiltered/OMA_data/Opisthokonta/HOG123/', '../OMA_data_unfiltered/OMA_data/Opisthokonta/HOG20/', '../OMA_data_unfiltered/OMA_data/Opisthokonta/HOG411/', '../OMA_data_unfiltered/OMA_data/Opisthokonta/HOG567/', '../OMA_data_unfiltered/OMA_data/Opisthokonta/HOG264/', '../OMA_data_unfiltered/OMA_data/Opisthokonta/HOG35/', '../OMA_data_unfiltered/OMA_data/Opisthokonta/HOG282/', '../OMA_data_unfiltered/OMA_data/Opisthokonta/HOG416/', '../OMA_data_unfiltered/OMA_data/Opisthokonta/HOG468/', '../OMA_data_unfiltered/OMA_data/Opisthokonta/HOG549/']\n",
      "['../OMA_data_unfiltered/OMA_data/Dikarya/HOG33/', '../OMA_data_unfiltered/OMA_data/Dikarya/HOG59/', '../OMA_data_unfiltered/OMA_data/Dikarya/HOG185/', '../OMA_data_unfiltered/OMA_data/Dikarya/HOG180/', '../OMA_data_unfiltered/OMA_data/Dikarya/HOG76/', '../OMA_data_unfiltered/OMA_data/Dikarya/HOG35/', '../OMA_data_unfiltered/OMA_data/Dikarya/HOG130/', '../OMA_data_unfiltered/OMA_data/Dikarya/HOG57/', '../OMA_data_unfiltered/OMA_data/Dikarya/HOG147/', '../OMA_data_unfiltered/OMA_data/Dikarya/logs/']\n",
      "['../OMA_data_unfiltered/OMA_data/Fungi/HOG59/', '../OMA_data_unfiltered/OMA_data/Fungi/HOG123/', '../OMA_data_unfiltered/OMA_data/Fungi/HOG20/', '../OMA_data_unfiltered/OMA_data/Fungi/HOG76/', '../OMA_data_unfiltered/OMA_data/Fungi/HOG135/', '../OMA_data_unfiltered/OMA_data/Fungi/HOG35/', '../OMA_data_unfiltered/OMA_data/Fungi/HOG130/', '../OMA_data_unfiltered/OMA_data/Fungi/HOG57/', '../OMA_data_unfiltered/OMA_data/Fungi/logs/', '../OMA_data_unfiltered/OMA_data/Fungi/HOG136/']\n",
      "['../OMA_data_unfiltered/OMA_data/Bilateria/HOG748/', '../OMA_data_unfiltered/OMA_data/Bilateria/HOG458/', '../OMA_data_unfiltered/OMA_data/Bilateria/HOG600/', '../OMA_data_unfiltered/OMA_data/Bilateria/HOG721/', '../OMA_data_unfiltered/OMA_data/Bilateria/HOG685/', '../OMA_data_unfiltered/OMA_data/Bilateria/HOG292/', '../OMA_data_unfiltered/OMA_data/Bilateria/logs/', '../OMA_data_unfiltered/OMA_data/Bilateria/HOG445/', '../OMA_data_unfiltered/OMA_data/Bilateria/HOG921/', '../OMA_data_unfiltered/OMA_data/Bilateria/HOG647/']\n",
      "['../OMA_data_unfiltered/OMA_data/Eukaryota/HOG2442/', '../OMA_data_unfiltered/OMA_data/Eukaryota/HOG2822/', '../OMA_data_unfiltered/OMA_data/Eukaryota/HOG492/', '../OMA_data_unfiltered/OMA_data/Eukaryota/HOG3166/', '../OMA_data_unfiltered/OMA_data/Eukaryota/HOG2393/', '../OMA_data_unfiltered/OMA_data/Eukaryota/logs/', '../OMA_data_unfiltered/OMA_data/Eukaryota/HOG845/', '../OMA_data_unfiltered/OMA_data/Eukaryota/HOG1814/', '../OMA_data_unfiltered/OMA_data/Eukaryota/HOG1090/', '../OMA_data_unfiltered/OMA_data/Eukaryota/HOG2956/']\n"
     ]
    }
   ],
   "source": [
    "cleardata = True\n",
    "import glob\n",
    "import shutil\n",
    "\n",
    "outpaths = ['../OMA_data/' , '../OMA_data_unfiltered/OMA_data/']\n",
    "for outpath in outpaths:\n",
    "    print(outpath)\n",
    "    clades = glob.glob(outpath+'*/')\n",
    "    print('clades' , clades)\n",
    "    for clade in clades:\n",
    "        hogs = glob.glob( clade+'*/')\n",
    "        print(hogs[0:10])\n",
    "        for hog in hogs:\n",
    "            if cleardata == True:\n",
    "                shutil.rmtree(hog)\n"
   ]
  },
  {
   "cell_type": "code",
   "execution_count": 13,
   "id": "9c073b42",
   "metadata": {},
   "outputs": [
    {
     "name": "stdout",
     "output_type": "stream",
     "text": [
      "138\n",
      "../../../datasets/Structure_Trees_mk2/Bacteria/\n",
      "500\n"
     ]
    },
    {
     "name": "stderr",
     "output_type": "stream",
     "text": [
      "100%|██████████| 500/500 [00:06<00:00, 78.14it/s] \n"
     ]
    },
    {
     "name": "stdout",
     "output_type": "stream",
     "text": [
      "../../../datasets/Structure_Trees_mk2/LUCA/\n",
      "500\n"
     ]
    },
    {
     "name": "stderr",
     "output_type": "stream",
     "text": [
      "100%|██████████| 500/500 [00:06<00:00, 77.97it/s] \n"
     ]
    },
    {
     "name": "stdout",
     "output_type": "stream",
     "text": [
      "../../../datasets/Structure_Trees_mk2/Euteleostomi/\n",
      "500\n"
     ]
    },
    {
     "name": "stderr",
     "output_type": "stream",
     "text": [
      "100%|██████████| 500/500 [00:06<00:00, 78.26it/s] \n"
     ]
    },
    {
     "name": "stdout",
     "output_type": "stream",
     "text": [
      "../../../datasets/Structure_Trees_mk2/Eumetazoa/\n",
      "500\n"
     ]
    },
    {
     "name": "stderr",
     "output_type": "stream",
     "text": [
      "100%|██████████| 500/500 [00:06<00:00, 75.93it/s]\n"
     ]
    },
    {
     "name": "stdout",
     "output_type": "stream",
     "text": [
      "../../../datasets/Structure_Trees_mk2/Chordata/\n",
      "500\n"
     ]
    },
    {
     "name": "stderr",
     "output_type": "stream",
     "text": [
      "100%|██████████| 500/500 [00:05<00:00, 93.16it/s] \n"
     ]
    },
    {
     "name": "stdout",
     "output_type": "stream",
     "text": [
      "../../../datasets/Structure_Trees_mk2/Tetrapoda/\n",
      "359\n"
     ]
    },
    {
     "name": "stderr",
     "output_type": "stream",
     "text": [
      "100%|██████████| 359/359 [00:02<00:00, 126.22it/s]\n"
     ]
    },
    {
     "name": "stdout",
     "output_type": "stream",
     "text": [
      "../../../datasets/Structure_Trees_mk2/Opisthokonta/\n",
      "500\n"
     ]
    },
    {
     "name": "stderr",
     "output_type": "stream",
     "text": [
      "100%|██████████| 500/500 [00:04<00:00, 113.67it/s]\n"
     ]
    },
    {
     "name": "stdout",
     "output_type": "stream",
     "text": [
      "../../../datasets/Structure_Trees_mk2/Dikarya/\n",
      "186\n"
     ]
    },
    {
     "name": "stderr",
     "output_type": "stream",
     "text": [
      "100%|██████████| 186/186 [00:01<00:00, 118.58it/s]\n"
     ]
    },
    {
     "name": "stdout",
     "output_type": "stream",
     "text": [
      "../../../datasets/Structure_Trees_mk2/Fungi/\n",
      "138\n"
     ]
    },
    {
     "name": "stderr",
     "output_type": "stream",
     "text": [
      "100%|██████████| 138/138 [00:01<00:00, 98.20it/s] \n"
     ]
    },
    {
     "name": "stdout",
     "output_type": "stream",
     "text": [
      "../../../datasets/Structure_Trees_mk2/Bilateria/\n",
      "500\n"
     ]
    },
    {
     "name": "stderr",
     "output_type": "stream",
     "text": [
      "100%|██████████| 500/500 [00:04<00:00, 108.82it/s]\n"
     ]
    },
    {
     "name": "stdout",
     "output_type": "stream",
     "text": [
      "../../../datasets/Structure_Trees_mk2/Eukaryota/\n",
      "500\n"
     ]
    },
    {
     "name": "stderr",
     "output_type": "stream",
     "text": [
      "100%|██████████| 500/500 [00:04<00:00, 103.93it/s]\n"
     ]
    }
   ],
   "source": [
    "minlen = min(list(lengths.values()) )\n",
    "print(minlen)\n",
    "#sample the superfamilies\n",
    "for clade in superfams:\n",
    "    cladestr = clade.split('/')[-2]+'/'\n",
    "    if not os.path.isdir(outpath+cladestr):\n",
    "        os.mkdir(outpath+cladestr)\n",
    "    print(clade)    \n",
    "    superfams[clade] = random.sample( list(superfams[clade]) ,  min( len(list(superfams[clade]))  , 500 )  )\n",
    "    print(len(superfams[clade]))\n",
    "    for s in tqdm(superfams[clade]):\n",
    "        #copy the files to the output folder\n",
    "        superfam = s.split('/')[-2]+'/'\n",
    "        for outpath in outpaths:\n",
    "            if not os.path.exists(outpath+cladestr+superfam):\n",
    "                os.mkdir(outpath+cladestr+superfam)\n",
    "                shutil.copy(s+'identifiers.txt', outpath+cladestr+superfam+'identifiers.txt')\n"
   ]
  },
  {
   "cell_type": "code",
   "execution_count": null,
   "id": "e0793dd2",
   "metadata": {},
   "outputs": [],
   "source": []
  }
 ],
 "metadata": {
  "kernelspec": {
   "display_name": "Python 3 (ipykernel)",
   "language": "python",
   "name": "python3"
  },
  "language_info": {
   "codemirror_mode": {
    "name": "ipython",
    "version": 3
   },
   "file_extension": ".py",
   "mimetype": "text/x-python",
   "name": "python",
   "nbconvert_exporter": "python",
   "pygments_lexer": "ipython3",
   "version": "3.10.8"
  },
  "vscode": {
   "interpreter": {
    "hash": "de5d7f200d48311110fd5aad35b72e9d2d5b7cd2d05319e69d8eae45c81b4a25"
   }
  }
 },
 "nbformat": 4,
 "nbformat_minor": 5
}
