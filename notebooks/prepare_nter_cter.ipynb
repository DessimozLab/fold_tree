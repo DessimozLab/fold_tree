{
 "cells": [
  {
   "cell_type": "code",
   "execution_count": 16,
   "metadata": {},
   "outputs": [
    {
     "name": "stdout",
     "output_type": "stream",
     "text": [
      "Index(['id', 'community_nter', 'center_nter', 'hexcolor_nter_charles',\n",
      "       'rgb_nter', 'community_cter', 'center_cter', 'hexcolor_cter_charles',\n",
      "       'rgb_cter'],\n",
      "      dtype='object')\n"
     ]
    }
   ],
   "source": [
    "import pandas as pd\n",
    "import colour \n",
    "pdbs = pd.read_table('./ter_assignment_final_colorcode.tsv')\n",
    "print(pdbs.columns)\n"
   ]
  },
  {
   "cell_type": "code",
   "execution_count": 20,
   "metadata": {},
   "outputs": [
    {
     "name": "stdout",
     "output_type": "stream",
     "text": [
      "A0A7D4BZ44.pdb #fcbe6f #FDBF6F\n",
      "A0A806PIQ5.pdb #6a3d99 #6A3D9A\n",
      "A0A0M5JM41.pdb #b05928 #B15928\n",
      "A0A679FHW6.pdb #b1de89 #B2DF8A\n",
      "A0A1S7FCY4.pdb #e21a1c #E31A1C\n",
      "A0A1Y0IMR9.pdb #fefe98 #FFFF99\n"
     ]
    }
   ],
   "source": [
    "pdbs = pdbs[( pdbs.center_cter == True) | (pdbs.center_nter == True) ]\n",
    "\n",
    "for cter in pdbs.community_cter.unique():\n",
    "    if cter != -1:\n",
    "        sub = pdbs[(pdbs.center_cter == True) &  (pdbs.community_cter == cter)].iloc[0]\n",
    "        colors = sub.rgb_cter.replace('(', '').replace(')' , '').split(',')\n",
    "        colors = [ int(c)/256  for c in colors]\n",
    "\n",
    "        c = colour.Color(rgb=colors)\n",
    "        \n",
    "        print(sub.id , c.hex_l , sub.hexcolor_cter_charles)\n"
   ]
  },
  {
   "cell_type": "code",
   "execution_count": 22,
   "metadata": {},
   "outputs": [
    {
     "name": "stdout",
     "output_type": "stream",
     "text": [
      "C3DQ44.pdb #a5cde2 #A6CEE3\n",
      "U5LGD2.pdb #339f2c #33A02C\n",
      "A0A0T6BSE8.pdb #fa9998 #FB9A99\n",
      "A0A160IIM1.pdb #fe7f00 #FF7F00\n",
      "C2VBZ6.pdb #c9b1d5 #CAB2D6\n"
     ]
    }
   ],
   "source": [
    "\n",
    "for nter in pdbs.community_nter.unique():\n",
    "    if nter != -1:\n",
    "        sub = pdbs[(pdbs.center_nter == True) &  (pdbs.community_nter == nter)].iloc[0]\n",
    "        colors = sub.rgb_nter.replace('(', '').replace(')' , '').split(',')\n",
    "        colors = [ int(c)/256  for c in colors]\n",
    "\n",
    "        c = colour.Color(rgb=colors)\n",
    "        \n",
    "        print(sub.id , c.hex_l , sub.hexcolor_nter_charles)"
   ]
  },
  {
   "cell_type": "code",
   "execution_count": null,
   "metadata": {},
   "outputs": [],
   "source": []
  }
 ],
 "metadata": {
  "kernelspec": {
   "display_name": "Python 3 (ipykernel)",
   "language": "python",
   "name": "python3"
  },
  "language_info": {
   "codemirror_mode": {
    "name": "ipython",
    "version": 3
   },
   "file_extension": ".py",
   "mimetype": "text/x-python",
   "name": "python",
   "nbconvert_exporter": "python",
   "pygments_lexer": "ipython3",
   "version": "3.10.8"
  }
 },
 "nbformat": 4,
 "nbformat_minor": 4
}
