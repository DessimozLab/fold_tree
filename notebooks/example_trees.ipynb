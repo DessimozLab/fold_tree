{
 "cells": [
  {
   "cell_type": "code",
   "execution_count": 7,
   "id": "9cf13a9a-2970-432c-a45b-91dbf077f11b",
   "metadata": {},
   "outputs": [
    {
     "ename": "ModuleNotFoundError",
     "evalue": "No module named 'wget'",
     "output_type": "error",
     "traceback": [
      "\u001b[0;31m---------------------------------------------------------------------------\u001b[0m",
      "\u001b[0;31mModuleNotFoundError\u001b[0m                       Traceback (most recent call last)",
      "Cell \u001b[0;32mIn[7], line 3\u001b[0m\n\u001b[1;32m      1\u001b[0m \u001b[38;5;28;01mimport\u001b[39;00m \u001b[38;5;21;01mglob\u001b[39;00m\n\u001b[1;32m      2\u001b[0m \u001b[38;5;28;01mimport\u001b[39;00m \u001b[38;5;21;01mete3\u001b[39;00m\n\u001b[0;32m----> 3\u001b[0m \u001b[38;5;28;01mimport\u001b[39;00m \u001b[38;5;21;01mwget\u001b[39;00m \n\u001b[1;32m      4\u001b[0m \u001b[38;5;28;01mimport\u001b[39;00m \u001b[38;5;21;01mpandas\u001b[39;00m \u001b[38;5;28;01mas\u001b[39;00m \u001b[38;5;21;01mpd\u001b[39;00m\n\u001b[1;32m      5\u001b[0m \u001b[38;5;28;01mimport\u001b[39;00m \u001b[38;5;21;01mos\u001b[39;00m\n",
      "\u001b[0;31mModuleNotFoundError\u001b[0m: No module named 'wget'"
     ]
    }
   ],
   "source": [
    "import glob\n",
    "import ete3\n",
    "import pandas as pd\n",
    "import os\n",
    "import time\n",
    "import json\n",
    "from src import AFDB_tools, treescore , foldseek2tree\n",
    "import colour\n",
    "import numpy as np\n",
    "import toytree\n",
    "from matplotlib import pyplot as plt\n",
    "from Bio import SeqIO\n",
    "import toytree\n",
    "import toyplot.svg"
   ]
  },
  {
   "cell_type": "code",
   "execution_count": null,
   "id": "b2012693-c6a3-4b72-bf8f-d657e3983ded",
   "metadata": {},
   "outputs": [],
   "source": [
    "%load_ext autoreload\n",
    "%autoreload 2"
   ]
  },
  {
   "cell_type": "code",
   "execution_count": null,
   "id": "15642502-23d3-4cde-aa32-fb2c2cf68274",
   "metadata": {},
   "outputs": [],
   "source": [
    "examples = './examples/*/'\n",
    "download = False\n",
    "for folder in glob.glob(examples):\n",
    "    idfile = glob.glob(folder + '*identifiers.txt')[0]\n",
    "    with open(idfile) as idin:\n",
    "        identifiers = [l for l in idin]\n",
    "    try:\n",
    "        os.mkdir(folder + 'structs')\n",
    "    except:\n",
    "        for file in glob.glob(folder + 'structs/*.pdb'):\n",
    "            os.remove(file)\n",
    "    print('done setup')\n",
    "    \n",
    "    if download == True:\n",
    "        notfound = [ AFDB_tools.grab_struct(uniID, folder + 'structs/')  for uniID in identifiers ]\n",
    "        notfound = [ i for i in notfound if i]\n",
    "        with open(folder+'unmapped.txt', 'w') as simout:\n",
    "            simout.write(json.dumps(notfound))"
   ]
  },
  {
   "cell_type": "code",
   "execution_count": null,
   "id": "79494af2-b6f2-467f-83b6-fc268a0f178b",
   "metadata": {},
   "outputs": [],
   "source": [
    "download = True\n",
    "for t in glob.glob('./examples/sw'):\n",
    "    print(t)\n",
    "    try:\n",
    "        os.mkdir(t+'structs/')\n",
    "    except:\n",
    "        print('already exists')\n",
    "    outfolder = t+'structs/'\n",
    "    \n",
    "    if download == True:\n",
    "        if 'pruned' not in t :\n",
    "            print(t)\n",
    "            tre = toytree.tree(t )\n",
    "            notfound = [ AFDB_tools.grab_struct(uniID, outfolder)  for uniID in tre.get_tip_labels() ]\n",
    "            notfound = [ i for i in notfound if i]\n",
    "            with open(t+'unmapped.txt', 'w') as simout:\n",
    "                simout.write(json.dumps(notfound))"
   ]
  },
  {
   "cell_type": "code",
   "execution_count": null,
   "id": "2bf7747e-49a0-48ac-b25a-f941d609bf30",
   "metadata": {},
   "outputs": [],
   "source": [
    "#prune not found\n",
    "import ete3\n",
    "for t in glob.glob('./ST_Update/*.nhx'):\n",
    "    if 'pruned' not in t:\n",
    "        with open(t+'unmapped.txt') as missing:\n",
    "            missingIDs = json.loads(missing.read())\n",
    "        print(missingIDs)\n",
    "        print(t)\n",
    "        tree = ete3.Tree(t)\n",
    "        print(len(tree))\n",
    "        keep = [ n for n in tree.traverse() if n.name not in missingIDs]\n",
    "        tree.prune(keep, preserve_branch_length=True)\n",
    "        print(len(tree))\n",
    "        print(t+'pruned.nhx')\n",
    "        with open(t+'pruned.nhx' , 'w' )as treeout:\n",
    "            treeout.write(tree.write(format=1))"
   ]
  },
  {
   "cell_type": "code",
   "execution_count": null,
   "id": "75fa65c4-5a86-47cf-bf18-f699496c96a0",
   "metadata": {},
   "outputs": [],
   "source": [
    "\n",
    "for folder in glob.glob('./ST_Update/*/'):\n",
    "    print(folder)\n",
    "    input_structs = folder\n",
    "    dbpath = foldseek2tree.runFoldseekdb(input_structs, folder)\n",
    "    res = foldseek2tree.runFoldseek_allvall(dbpath , folder)"
   ]
  },
  {
   "cell_type": "code",
   "execution_count": null,
   "id": "65935f7f-e188-4c6f-9b0f-a98007e2a513",
   "metadata": {},
   "outputs": [],
   "source": [
    "for folder in glob.glob('./examples/*/'):\n",
    "    print(folder)\n",
    "    input_structs = folder+'structs/'\n",
    "    dbpath = foldseek2tree.runFoldseekdb(input_structs, folder)\n",
    "    res = foldseek2tree.runFoldseek_allvall(dbpath , folder)"
   ]
  },
  {
   "cell_type": "code",
   "execution_count": 2,
   "id": "132a73c6-0830-494c-a06e-82a78b480d2b",
   "metadata": {},
   "outputs": [],
   "source": [
    "def standard_treedraw( tre, sizes= None , colors= None ,fixed_order=None, fixed_position=None , ts = None,  save_file = False  , tiplabels = None):\n",
    "    if tiplabels is None:\n",
    "        tiplabels = tre.get_tip_labels()\n",
    "    canvas, axes, mark = tre.draw(  \n",
    "        ts = ts,\n",
    "        node_sizes=sizes,\n",
    "        node_colors=colors,\n",
    "        tip_labels_align=True,\n",
    "        scalebar=True,\n",
    "        fixed_order=fixed_order, \n",
    "        fixed_position=fixed_position,\n",
    "        tip_labels=tiplabels,\n",
    "        tip_labels_style={\n",
    "            \"fill\": \"#262626\",\n",
    "            \"font-size\": \"9px\"}\n",
    "    )\n",
    "    if save_file:\n",
    "        toyplot.svg.render(canvas, save_file)"
   ]
  },
  {
   "cell_type": "code",
   "execution_count": 3,
   "id": "b7c3cbf1-2973-41ff-b7c4-9714342bca48",
   "metadata": {},
   "outputs": [
    {
     "name": "stdout",
     "output_type": "stream",
     "text": [
      "[]\n"
     ]
    }
   ],
   "source": [
    "#get trees\n",
    "swisstreepath = './ST_Update/*nhxpruned.nhx'\n",
    "swiss_trees = glob.glob(swisstreepath)\n",
    "print(swiss_trees)\n",
    "swiss_toytrees = {}\n",
    "\n",
    "discretized_levels = 10\n",
    "maxnodesize = 10\n",
    "for t in swiss_trees:\n",
    "    print(t)\n",
    "    treecheck = True\n",
    "    try:\n",
    "        tre = toytree.tree(t , format =0 )\n",
    "    except:\n",
    "        print('tree err' , t)\n",
    "        treecheck = False\n",
    "    if treecheck == True:\n",
    "        swiss_toytrees[t] = { 'tree' : tre }\n",
    "        print(tre)\n",
    "        swiss_toytrees[t]['labels'] = tre.get_tip_labels()\n",
    "        swiss_toytrees[t]['coords'] = tre.get_tip_coordinates()\n",
    "        swiss_toytrees[t]['path'] = t\n",
    "        labels = swiss_toytrees[t]['labels']\n",
    "        unidf = AFDB_tools.grab_entries(labels)\n",
    "        lineages = treescore.make_lineages(unidf)\n",
    "        discretized_levels = 10\n",
    "        maxnodesize = 15\n",
    "        taxlabels = dict(zip(unidf['query'] ,unidf.Organism) )\n",
    "        #species_mapper = \n",
    "        tipnames = tre.get_tip_labels()\n",
    "        taxnames = [ i+ ' '+taxlabels[i] if i in taxlabels else i for i in tipnames]\n",
    "        red = colour.Color('blue')\n",
    "        blue = colour.Color('red')\n",
    "        tre = treescore.label_leaves(tre,lineages)\n",
    "        color_vals = list(red.range_to(blue, discretized_levels+1))\n",
    "        overlap = treescore.getTaxOverlap(tre.treenode)\n",
    "        treevals = [ node.score for node in tre.treenode.traverse()]\n",
    "        print(treevals)\n",
    "        print('finalscore' , tre.treenode.score)\n",
    "        swiss_toytrees[t]['score'] = tre.treenode.score\n",
    "        treevals = tre.get_node_values('size', True, True)\n",
    "        maxval = np.amax(treevals)\n",
    "        minval =0\n",
    "        bins = [minval + i*(maxval-minval)/discretized_levels for i in range(discretized_levels+1)]\n",
    "        inds = np.digitize(treevals, bins)\n",
    "        colors = [ color_vals[i-1].hex_l for i in list(inds)]\n",
    "        sizes = [ (i / discretized_levels) * maxnodesize for i in list(inds) ]\n",
    "        standard_treedraw(tre , sizes= sizes , colors=colors , tiplabels = taxnames , save_file = t + '.svg')\n",
    "        standard_treedraw(tre  , sizes= sizes , colors=colors , tiplabels = taxnames )        "
   ]
  },
  {
   "cell_type": "code",
   "execution_count": 4,
   "id": "f5a10130-fe66-4a7c-b56b-6805d2496491",
   "metadata": {},
   "outputs": [],
   "source": [
    "import subprocess, shlex\n",
    "def madroot(t):\n",
    "    args = '/work/FAC/FBM/DBC/cdessim2/default/dmoi/software/mad/mad ' + t\n",
    "    subprocess.run(shlex.split(args))\n",
    "    return t+ '.rooted'"
   ]
  },
  {
   "cell_type": "code",
   "execution_count": 5,
   "id": "8aa41ee7-2408-43c9-8f5c-a37f6e146fc4",
   "metadata": {},
   "outputs": [
    {
     "name": "stdout",
     "output_type": "stream",
     "text": [
      "./examples/swiss_trees_updated/\n"
     ]
    },
    {
     "ename": "NameError",
     "evalue": "name 'pd' is not defined",
     "output_type": "error",
     "traceback": [
      "\u001b[0;31m---------------------------------------------------------------------------\u001b[0m",
      "\u001b[0;31mNameError\u001b[0m                                 Traceback (most recent call last)",
      "Cell \u001b[0;32mIn[5], line 5\u001b[0m\n\u001b[1;32m      3\u001b[0m treenumber \u001b[38;5;241m=\u001b[39m folder\u001b[38;5;241m.\u001b[39msplit(\u001b[38;5;124m'\u001b[39m\u001b[38;5;124m/\u001b[39m\u001b[38;5;124m'\u001b[39m)[\u001b[38;5;241m1\u001b[39m]\n\u001b[1;32m      4\u001b[0m tmres \u001b[38;5;241m=\u001b[39m folder \u001b[38;5;241m+\u001b[39m\u001b[38;5;124m'\u001b[39m\u001b[38;5;124maln_score.tsv\u001b[39m\u001b[38;5;124m'\u001b[39m\n\u001b[0;32m----> 5\u001b[0m res \u001b[38;5;241m=\u001b[39m \u001b[43mpd\u001b[49m\u001b[38;5;241m.\u001b[39mread_table(tmres, header \u001b[38;5;241m=\u001b[39m \u001b[38;5;28;01mNone\u001b[39;00m ,delim_whitespace\u001b[38;5;241m=\u001b[39m\u001b[38;5;28;01mTrue\u001b[39;00m)\n\u001b[1;32m      6\u001b[0m res[\u001b[38;5;241m0\u001b[39m] \u001b[38;5;241m=\u001b[39m res[\u001b[38;5;241m0\u001b[39m]\u001b[38;5;241m.\u001b[39mmap(\u001b[38;5;28;01mlambda\u001b[39;00m x :x\u001b[38;5;241m.\u001b[39mreplace(\u001b[38;5;124m'\u001b[39m\u001b[38;5;124m.pdb\u001b[39m\u001b[38;5;124m'\u001b[39m, \u001b[38;5;124m'\u001b[39m\u001b[38;5;124m'\u001b[39m))\n\u001b[1;32m      7\u001b[0m res[\u001b[38;5;241m1\u001b[39m] \u001b[38;5;241m=\u001b[39m res[\u001b[38;5;241m1\u001b[39m]\u001b[38;5;241m.\u001b[39mmap(\u001b[38;5;28;01mlambda\u001b[39;00m x :x\u001b[38;5;241m.\u001b[39mreplace(\u001b[38;5;124m'\u001b[39m\u001b[38;5;124m.pdb\u001b[39m\u001b[38;5;124m'\u001b[39m, \u001b[38;5;124m'\u001b[39m\u001b[38;5;124m'\u001b[39m))\n",
      "\u001b[0;31mNameError\u001b[0m: name 'pd' is not defined"
     ]
    }
   ],
   "source": [
    "\n",
    "for folder in glob.glob('./examples/*/') :\n",
    "    print(folder)\n",
    "    treenumber = folder.split('/')[1]\n",
    "    tmres = folder +'aln_score.tsv'\n",
    "    res = pd.read_table(tmres, header = None ,delim_whitespace=True)\n",
    "    res[0] = res[0].map(lambda x :x.replace('.pdb', ''))\n",
    "    res[1] = res[1].map(lambda x :x.replace('.pdb', ''))\n",
    "    self_dists = res[res[0] == res[1]]\n",
    "    self_distmap = dict(zip(self_dists[0] , self_dists[2] ) )\n",
    "    ids = list( set(list(res[0].unique()) + list(res[1].unique())))\n",
    "    pos = { protid : i for i,protid in enumerate(ids)}\n",
    "    print(res)\n",
    "    distmat = np.zeros((len(pos), len(pos)))\n",
    "    kernel_distmat = np.zeros((len(pos), len(pos)))\n",
    "    for idx,row in res.iterrows():\n",
    "        distmat[pos[row[0]] , pos[row[1]]]= row[3]\n",
    "        kernel_distmat[pos[row[0]] , pos[row[1]]] = foldseek2tree.kernelfun(self_distmap[row[0]] , self_distmap[row[1]] , row[2])\n",
    "    distmat = 1- distmat\n",
    "    plt.imshow(distmat)\n",
    "    plt.show()\n",
    "    \n",
    "    distmat_txt = foldseek2tree.distmat_to_txt( ids , distmat, folder , prefix ='standard' )\n",
    "    distmat_txt_kernel = foldseek2tree.distmat_to_txt( ids , kernel_distmat , folder , prefix ='kernel' )\n",
    "    out_tree = foldseek2tree.runFastme( 'fastme' , distmat_txt )\n",
    "    out_tree = foldseek2tree.postprocess(out_tree)\n",
    "    out_tree = madroot(out_tree)\n",
    "    tre = toytree.tree(out_tree)\n",
    "    #species_mapper = \n",
    "    tipnames = tre.get_tip_labels()\n",
    "    unidf = AFDB_tools.grab_entries(tipnames)\n",
    "    lineages = treescore.make_lineages(unidf)\n",
    "    discretized_levels = 10\n",
    "    maxnodesize = 15\n",
    "    taxlabels = dict(zip(unidf['query'] ,unidf.Organism) )\n",
    "    taxnames = [ i+ ' '+taxlabels[i] if i in taxlabels else i for i in tipnames]\n",
    "    tre = treescore.label_leaves(tre,lineages)\n",
    "    treevals = tre.get_node_values('score', True, True)\n",
    "    print(treevals)\n",
    "    color_vals = list(red.range_to(blue, discretized_levels+1))\n",
    "    overlap = treescore.getTaxOverlap(tre.treenode)\n",
    "    treevals = tre.get_node_values('size', True, True)\n",
    "    print(treevals)\n",
    "    maxval = np.amax(treevals)\n",
    "    minval =0\n",
    "    bins = [minval + i*(maxval-minval)/discretized_levels for i in range(discretized_levels+1)]\n",
    "    inds = np.digitize(treevals, bins)\n",
    "    colors = [ color_vals[i-1].hex_l for i in list(inds)]\n",
    "    sizes = [ (i / discretized_levels) * maxnodesize for i in list(inds) ]\n",
    "    print(t)\n",
    "    standard_treedraw(tre , sizes= None , colors=None , tiplabels = taxnames , save_file = out_tree + '.svg')\n",
    "    standard_treedraw(tre  , sizes= sizes , colors=colors , tiplabels = taxnames )\n",
    "    "
   ]
  },
  {
   "cell_type": "code",
   "execution_count": 6,
   "id": "40b3bb1a-134e-45fe-84c0-46c8378b33b3",
   "metadata": {},
   "outputs": [
    {
     "name": "stdout",
     "output_type": "stream",
     "text": [
      "dict_keys([])\n"
     ]
    },
    {
     "ename": "NameError",
     "evalue": "name 'plt' is not defined",
     "output_type": "error",
     "traceback": [
      "\u001b[0;31m---------------------------------------------------------------------------\u001b[0m",
      "\u001b[0;31mNameError\u001b[0m                                 Traceback (most recent call last)",
      "Cell \u001b[0;32mIn[6], line 74\u001b[0m\n\u001b[1;32m     70\u001b[0m     sizes \u001b[38;5;241m=\u001b[39m [ (i \u001b[38;5;241m/\u001b[39m discretized_levels) \u001b[38;5;241m*\u001b[39m maxnodesize \u001b[38;5;28;01mfor\u001b[39;00m i \u001b[38;5;129;01min\u001b[39;00m \u001b[38;5;28mlist\u001b[39m(inds) ]\n\u001b[1;32m     71\u001b[0m     standard_treedraw(tre ,fixed_order\u001b[38;5;241m=\u001b[39mlabelorder, fixed_position\u001b[38;5;241m=\u001b[39mpositions \n\u001b[1;32m     72\u001b[0m                       ,colors \u001b[38;5;241m=\u001b[39m colors , sizes \u001b[38;5;241m=\u001b[39m sizes, tiplabels\u001b[38;5;241m=\u001b[39mtaxnames,  ts \u001b[38;5;241m=\u001b[39m \u001b[38;5;124m'\u001b[39m\u001b[38;5;124mo\u001b[39m\u001b[38;5;124m'\u001b[39m)\n\u001b[0;32m---> 74\u001b[0m \u001b[43mplt\u001b[49m\u001b[38;5;241m.\u001b[39mscatter( x \u001b[38;5;241m=\u001b[39m treescores_struct , y \u001b[38;5;241m=\u001b[39m treescores_st  , c \u001b[38;5;241m=\u001b[39m \u001b[38;5;124m'\u001b[39m\u001b[38;5;124mb\u001b[39m\u001b[38;5;124m'\u001b[39m, ls \u001b[38;5;241m=\u001b[39m \u001b[38;5;124m'\u001b[39m\u001b[38;5;124m-\u001b[39m\u001b[38;5;124m'\u001b[39m)\n\u001b[1;32m     75\u001b[0m plt\u001b[38;5;241m.\u001b[39mplot( [\u001b[38;5;241m0\u001b[39m,\u001b[38;5;241m1500\u001b[39m] , [\u001b[38;5;241m0\u001b[39m,\u001b[38;5;241m1500\u001b[39m])\n\u001b[1;32m     76\u001b[0m plt\u001b[38;5;241m.\u001b[39mxlabel(\u001b[38;5;124m'\u001b[39m\u001b[38;5;124mstructure\u001b[39m\u001b[38;5;124m'\u001b[39m)\n",
      "\u001b[0;31mNameError\u001b[0m: name 'plt' is not defined"
     ]
    }
   ],
   "source": [
    "import traceback\n",
    "print(swiss_toytrees.keys())\n",
    "\n",
    "import seaborn\n",
    "treescores_st = []\n",
    "treescores_struct = []\n",
    "rfdistances = []\n",
    "\n",
    "\n",
    "for t in swiss_toytrees:\n",
    "    folder = swiss_toytrees[t]['path'].replace( 'pruned.nhx' , 'structs/' )\n",
    "    \n",
    "    tmres = folder +'aln_score.tsv'\n",
    "    res = pd.read_table(tmres, header = None ,delim_whitespace=True)\n",
    "    res[0] = res[0].map(lambda x :x.replace('.pdb', ''))\n",
    "    res[1] = res[1].map(lambda x :x.replace('.pdb', ''))\n",
    "    ids = list( set(list(res[0].unique()) + list(res[1].unique())))\n",
    "    swisst = swiss_toytrees[t]\n",
    "    ids = list(set(ids).intersection(set(swisst['labels'])))\n",
    "    labelorder = [ l for l in swisst['labels'] if l in ids ]\n",
    "    positions = [ k for i,k in enumerate(list(swisst['coords'][:,1])) if swisst['labels'][i] in ids ]\n",
    "    pos = { protid : i for i,protid in enumerate(ids) }\n",
    "    self_dists = res[res[0] == res[1]]\n",
    "    self_distmap = dict(zip(self_dists[0] , self_dists[2] ) )    \n",
    "    kernel_distmat = np.zeros((len(pos), len(pos)))\n",
    "    distmat = np.zeros((len(pos), len(pos)))\n",
    "    for idx,row in res.iterrows():\n",
    "        kernel_distmat[pos[row[0]] , pos[row[1]]] = foldseek2tree.kernelfun(self_distmap[row[0]] , self_distmap[row[1]] , row[2])\n",
    "        distmat[pos[row[0]] , pos[row[1]]]= row[3]\n",
    "    distmat = 1- distmat\n",
    "    distmat_txt_kernel = foldseek2tree.distmat_to_txt( ids , distmat , folder )\n",
    "    out_tree_kernel = foldseek2tree.runFastme( 'fastme ' , distmat_txt_kernel )\n",
    "    out_tree_kernel = foldseek2tree.postprocess(out_tree_kernel)\n",
    "    out_tree_kernel = madroot(out_tree_kernel)\n",
    "    tre = toytree.tree(out_tree_kernel)\n",
    "    \n",
    "    tipnames = tre.get_tip_labels()\n",
    "    unidf = AFDB_tools.grab_entries(ids)\n",
    "    lineages = treescore.make_lineages(unidf)\n",
    "    discretized_levels = 10\n",
    "    maxnodesize = 15\n",
    "    \n",
    "    taxlabels = dict(zip(unidf['query'] ,unidf.Organism) )\n",
    "    taxnames = [ i+ ' '+taxlabels[i] if i in taxlabels else i for i in tipnames]\n",
    "    tre = treescore.label_leaves(tre,lineages)\n",
    "    color_vals = list(red.range_to(blue, discretized_levels+1))\n",
    "    overlap = treescore.getTaxOverlap(tre.treenode)\n",
    "    treevals = tre.get_node_values('size', True, True)\n",
    "    \n",
    "    try:\n",
    "        rf = tre.treenode.robinson_foulds(swisst['tree'].treenode )\n",
    "        print( 'RF dist:' , rf )\n",
    "        rfdistances.append(rf)\n",
    "    \n",
    "    except:\n",
    "        print('rferr')\n",
    "        rfdistances.append(None)\n",
    "\n",
    "            \n",
    "    print('struct score: ', tre.treenode.score, 'ST score: ' , swisst['tree'].treenode.score )\n",
    "\n",
    "    treescores_struct.append( tre.treenode.score)\n",
    "    treescores_st.append( swisst['tree'].treenode.score  )\n",
    "    \n",
    "    maxval = np.amax(treevals)\n",
    "    minval =0\n",
    "    bins = [minval + i*(maxval-minval)/discretized_levels for i in range(discretized_levels+1)]\n",
    "    inds = np.digitize(treevals, bins)\n",
    "    colors = [ color_vals[i-1].hex_l for i in list(inds)]\n",
    "    sizes = [ (i / discretized_levels) * maxnodesize for i in list(inds) ]\n",
    "    standard_treedraw(tre ,fixed_order=labelorder, fixed_position=positions \n",
    "                      ,colors = colors , sizes = sizes, tiplabels=taxnames,  ts = 'o')\n",
    "    \n",
    "plt.scatter( x = treescores_struct , y = treescores_st  , c = 'b', ls = '-')\n",
    "plt.plot( [0,1500] , [0,1500])\n",
    "plt.xlabel('structure')\n",
    "plt.ylabel('swisstree')\n",
    "plt.show()"
   ]
  },
  {
   "cell_type": "code",
   "execution_count": null,
   "id": "3fc5a982-7076-4ec7-967a-b3bd3c740a8c",
   "metadata": {},
   "outputs": [],
   "source": []
  }
 ],
 "metadata": {
  "kernelspec": {
   "display_name": "Python 3 (ipykernel)",
   "language": "python",
   "name": "python3"
  },
  "language_info": {
   "codemirror_mode": {
    "name": "ipython",
    "version": 3
   },
   "file_extension": ".py",
   "mimetype": "text/x-python",
   "name": "python",
   "nbconvert_exporter": "python",
   "pygments_lexer": "ipython3",
   "version": "3.10.8"
  },
  "vscode": {
   "interpreter": {
    "hash": "de5d7f200d48311110fd5aad35b72e9d2d5b7cd2d05319e69d8eae45c81b4a25"
   }
  }
 },
 "nbformat": 4,
 "nbformat_minor": 5
}
