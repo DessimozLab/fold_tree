{
 "cells": [
  {
   "cell_type": "code",
   "execution_count": 1,
   "id": "b2012693-c6a3-4b72-bf8f-d657e3983ded",
   "metadata": {},
   "outputs": [],
   "source": [
    "%load_ext autoreload\n",
    "%autoreload 2"
   ]
  },
  {
   "cell_type": "code",
   "execution_count": 1,
   "id": "e9bee0dd",
   "metadata": {},
   "outputs": [],
   "source": [
    "#import scipy stats module\n",
    "from scipy.stats import chi2, describe\n"
   ]
  },
  {
   "cell_type": "code",
   "execution_count": 4,
   "id": "9cf13a9a-2970-432c-a45b-91dbf077f11b",
   "metadata": {},
   "outputs": [],
   "source": [
    "import sys\n",
    "sys.path.append('../')\n",
    "from src import AFDB_tools, treescore , foldseek2tree\n",
    "import pandas as pd\n",
    "import numpy as np"
   ]
  },
  {
   "cell_type": "code",
   "execution_count": 3,
   "id": "15642502-23d3-4cde-aa32-fb2c2cf68274",
   "metadata": {},
   "outputs": [
    {
     "name": "stdout",
     "output_type": "stream",
     "text": [
      "        0   1   2   3   4   5   6   7   8   9   10     11\n",
      "0  1oaiA00   1  10   8  10   1   1   1   1   1  59    1.0\n",
      "1  1go5A00   1  10   8  10   1   1   1   1   2  69  999.0\n",
      "2  3frhA01   1  10   8  10   2   1   1   1   1  58    1.2\n",
      "3  3friA01   1  10   8  10   2   1   1   1   2  54    1.8\n",
      "4  3b89A01   1  10   8  10   2   1   1   2   1  54    2.6\n",
      "           0   1    2                                                  3\n",
      "0  1.10.8.10  73  318       DNA helicase RuvA subunit, C-terminal domain\n",
      "1  1.10.8.20   5   24  N-terminal domain of phosphatidylinositol tran...\n",
      "2  1.10.8.40   2   15                             Albumin-binding domain\n",
      "3  1.10.8.50  14  543                                                NaN\n",
      "4  1.10.8.60  60  745                                                NaN\n"
     ]
    }
   ],
   "source": [
    "foldseek2tree."
   ]
  },
  {
   "cell_type": "code",
   "execution_count": 4,
   "id": "21ea694f",
   "metadata": {},
   "outputs": [
    {
     "name": "stdout",
     "output_type": "stream",
     "text": [
      "              0  1   2    3   4  5  6  7  8  9  10     11     superfam\n",
      "0       1oaiA00  1  10    8  10  1  1  1  1  1  59    1.0    1.10.8.10\n",
      "1       1go5A00  1  10    8  10  1  1  1  1  2  69  999.0    1.10.8.10\n",
      "2       3frhA01  1  10    8  10  2  1  1  1  1  58    1.2    1.10.8.10\n",
      "3       3friA01  1  10    8  10  2  1  1  1  2  54    1.8    1.10.8.10\n",
      "4       3b89A01  1  10    8  10  2  1  1  2  1  54    2.6    1.10.8.10\n",
      "...         ... ..  ..  ...  .. .. .. .. .. ..  ..    ...          ...\n",
      "500233  4aybQ00  6  20  450  10  1  1  1  2  1  50    3.2  6.20.450.10\n",
      "500234  3hkzY00  6  20  450  10  1  1  2  1  1  45    3.4  6.20.450.10\n",
      "500235  3hkzZ00  6  20  450  10  1  1  2  1  2  45    3.4  6.20.450.10\n",
      "500236  3zbeA00  6  20  450  20  1  1  1  1  1  71  999.0  6.20.450.20\n",
      "500237  3duzA04  6  20  460  10  1  1  1  1  1  29   2.95  6.20.460.10\n",
      "\n",
      "[500238 rows x 13 columns]\n"
     ]
    }
   ],
   "source": [
    "#change the type to string\n",
    "domain_df = domain_df.astype(str)\n",
    "domain_df['superfam'] = domain_df[[1,2,3,4]].apply(lambda x : '.'.join(x), axis = 1) \n",
    "print(domain_df)"
   ]
  },
  {
   "cell_type": "code",
   "execution_count": 5,
   "id": "df7cfdfb",
   "metadata": {},
   "outputs": [
    {
     "name": "stdout",
     "output_type": "stream",
     "text": [
      "                0   1    2                                                  3\n",
      "0       1.10.8.10  73  318       DNA helicase RuvA subunit, C-terminal domain\n",
      "1       1.10.8.20   5   24  N-terminal domain of phosphatidylinositol tran...\n",
      "2       1.10.8.40   2   15                             Albumin-binding domain\n",
      "3       1.10.8.50  14  543                                                NaN\n",
      "4       1.10.8.60  60  745                                                NaN\n",
      "...           ...  ..  ...                                                ...\n",
      "6626  6.20.430.10   1   14                                                NaN\n",
      "6627  6.20.440.10   1   10                                                NaN\n",
      "6628  6.20.450.10   1    4                                                NaN\n",
      "6629  6.20.450.20   1    1                                                NaN\n",
      "6630  6.20.460.10   1    1                                                NaN\n",
      "\n",
      "[6631 rows x 4 columns]\n"
     ]
    },
    {
     "data": {
      "image/png": "[encoded data removed]",
      "text/plain": [
       "<Figure size 640x480 with 1 Axes>"
      ]
     },
     "metadata": {},
     "output_type": "display_data"
    },
    {
     "data": {
      "image/png": "[encoded data removed]",
      "text/plain": [
       "<Figure size 640x480 with 1 Axes>"
      ]
     },
     "metadata": {},
     "output_type": "display_data"
    },
    {
     "name": "stdout",
     "output_type": "stream",
     "text": [
      "              0  1   2     3   4    5  6  7  8  9  10     11      superfam\n",
      "0       1oaiA00  1  10     8  10    1  1  1  1  1  59    1.0     1.10.8.10\n",
      "1       1go5A00  1  10     8  10    1  1  1  1  2  69  999.0     1.10.8.10\n",
      "2       3frhA01  1  10     8  10    2  1  1  1  1  58    1.2     1.10.8.10\n",
      "3       3friA01  1  10     8  10    2  1  1  1  2  54    1.8     1.10.8.10\n",
      "4       3b89A01  1  10     8  10    2  1  1  2  1  54    2.6     1.10.8.10\n",
      "...         ... ..  ..   ...  ..  ... .. .. .. ..  ..    ...           ...\n",
      "484682  3wgcA02  3  90  1150  10  194  1  1  1  4  76    2.5  3.90.1150.10\n",
      "484683  3wgbC02  3  90  1150  10  194  1  1  2  1  83    2.6  3.90.1150.10\n",
      "484684  3wgbA02  3  90  1150  10  194  1  1  2  2  82    2.6  3.90.1150.10\n",
      "484685  3wgbD02  3  90  1150  10  194  1  1  2  3  82    2.6  3.90.1150.10\n",
      "484686  3wgbB02  3  90  1150  10  194  1  1  2  4  77    2.6  3.90.1150.10\n",
      "\n",
      "[217612 rows x 13 columns]\n"
     ]
    }
   ],
   "source": [
    "import matplotlib.pyplot as plt\n",
    "print( superfam_df)\n",
    "\n",
    "superfam_df = superfam_df[superfam_df[1] > 50]\n",
    "superfam_df[1].hist(bins = 40)\n",
    "plt.show()\n",
    "superfam_df[2].hist(bins = 40)\n",
    "plt.show()\n",
    "\n",
    "domain_df = domain_df[domain_df['superfam'].isin(superfam_df[0])]\n",
    "print(domain_df)"
   ]
  },
  {
   "cell_type": "code",
   "execution_count": 6,
   "id": "74af3e1f",
   "metadata": {},
   "outputs": [
    {
     "name": "stdout",
     "output_type": "stream",
     "text": [
      "         PDB CHAIN SP_PRIMARY  CATH_ID\n",
      "0       101m     A     P02185  101mA00\n",
      "1       102l     A     P00720  102lA00\n",
      "2       102m     A     P02185  102mA00\n",
      "3       103l     A     P00720  103lA00\n",
      "4       103m     A     P02185  103mA00\n",
      "...      ...   ...        ...      ...\n",
      "451315  9xia     A     P24300  9xiaA00\n",
      "451316  9xim     A     P12851  9ximA00\n",
      "451317  9xim     B     P12851  9ximB00\n",
      "451318  9xim     C     P12851  9ximC00\n",
      "451319  9xim     D     P12851  9ximD00\n",
      "\n",
      "[451320 rows x 4 columns]\n"
     ]
    }
   ],
   "source": [
    "\n",
    "siftsdf = pd.read_csv('./CATH_data/pdb_chain_cath_uniprot.csv', header=1 )\n",
    "print(siftsdf)"
   ]
  },
  {
   "cell_type": "code",
   "execution_count": 7,
   "id": "3ab24b4a",
   "metadata": {},
   "outputs": [
    {
     "name": "stdout",
     "output_type": "stream",
     "text": [
      "         PDB CHAIN SP_PRIMARY  CATH_ID        0  1   2     3   4    5  6  7  \\\n",
      "0       1oai     A     Q9UBU9  1oaiA00  1oaiA00  1  10     8  10    1  1  1   \n",
      "1       1go5     A     Q9UBU9  1go5A00  1go5A00  1  10     8  10    1  1  1   \n",
      "2       3frh     A     Q763K9  3frhA01  3frhA01  1  10     8  10    2  1  1   \n",
      "3       3fri     A     Q763K9  3friA01  3friA01  1  10     8  10    2  1  1   \n",
      "4       3b89     A     Q763K9  3b89A01  3b89A01  1  10     8  10    2  1  1   \n",
      "...      ...   ...        ...      ...      ... ..  ..   ...  ..  ... .. ..   \n",
      "219410  3wgc     A     O07051  3wgcA02  3wgcA02  3  90  1150  10  194  1  1   \n",
      "219411  3wgb     C     O07051  3wgbC02  3wgbC02  3  90  1150  10  194  1  1   \n",
      "219412  3wgb     A     O07051  3wgbA02  3wgbA02  3  90  1150  10  194  1  1   \n",
      "219413  3wgb     D     O07051  3wgbD02  3wgbD02  3  90  1150  10  194  1  1   \n",
      "219414  3wgb     B     O07051  3wgbB02  3wgbB02  3  90  1150  10  194  1  1   \n",
      "\n",
      "        8  9  10     11      superfam  \n",
      "0       1  1  59    1.0     1.10.8.10  \n",
      "1       1  2  69  999.0     1.10.8.10  \n",
      "2       1  1  58    1.2     1.10.8.10  \n",
      "3       1  2  54    1.8     1.10.8.10  \n",
      "4       2  1  54    2.6     1.10.8.10  \n",
      "...    .. ..  ..    ...           ...  \n",
      "219410  1  4  76    2.5  3.90.1150.10  \n",
      "219411  2  1  83    2.6  3.90.1150.10  \n",
      "219412  2  2  82    2.6  3.90.1150.10  \n",
      "219413  2  3  82    2.6  3.90.1150.10  \n",
      "219414  2  4  77    2.6  3.90.1150.10  \n",
      "\n",
      "[192704 rows x 17 columns]\n"
     ]
    }
   ],
   "source": [
    "#map CATH_ID of siftsdf to domain_df first column with merge\n",
    "siftsdf = pd.merge(siftsdf, domain_df, left_on='CATH_ID', right_on=0 , how='right')\n",
    "print(siftsdf.dropna())\n",
    "\n",
    "\n"
   ]
  },
  {
   "cell_type": "code",
   "execution_count": 8,
   "id": "69e5913b",
   "metadata": {},
   "outputs": [
    {
     "name": "stdout",
     "output_type": "stream",
     "text": [
      "['1.10.8.10' '1.10.8.60' '1.10.10.10' '1.10.10.60' '1.10.150.20'\n",
      " '1.10.150.50' '1.10.238.10' '1.10.260.40' '1.10.357.10' '1.10.490.10'\n",
      " '1.10.510.10' '1.10.533.10' '1.10.600.10' '1.10.630.10' '1.10.760.10'\n",
      " '1.20.5.170' '1.20.1050.10' '1.20.1260.10' '1.25.10.10' '1.25.40.10'\n",
      " '1.25.40.20' '2.10.25.10' '2.10.70.10' '2.30.29.30' '2.30.30.40'\n",
      " '2.30.30.100' '2.30.30.140' '2.30.42.10' '2.30.110.10' '2.40.10.10'\n",
      " '2.40.30.10' '2.40.50.40' '2.40.50.100' '2.40.50.140' '2.40.128.20'\n",
      " '2.60.40.10' '2.60.40.420' '2.60.40.1180' '2.60.120.10' '2.60.120.20'\n",
      " '2.60.120.200' '2.60.120.260' '2.80.10.50' '2.130.10.10' '3.10.20.90'\n",
      " '3.10.100.10' '3.10.129.10' '3.10.180.10' '3.10.450.50' '3.20.20.70'\n",
      " '3.20.20.80' '3.20.20.120' '3.20.20.140' '3.30.40.10' '3.30.70.100'\n",
      " '3.30.70.270' '3.30.70.330' '3.30.160.60' '3.30.200.20' '3.30.360.10'\n",
      " '3.30.390.10' '3.30.420.10' '3.30.420.40' '3.30.450.20' '3.30.450.40'\n",
      " '3.30.470.20' '3.30.505.10' '3.30.530.20' '3.30.930.10' '3.40.30.10'\n",
      " '3.40.47.10' '3.40.50.150' '3.40.50.300' '3.40.50.360' '3.40.50.620'\n",
      " '3.40.50.720' '3.40.50.880' '3.40.50.970' '3.40.50.1000' '3.40.50.1100'\n",
      " '3.40.50.1820' '3.40.50.1980' '3.40.50.2000' '3.40.50.2300'\n",
      " '3.40.50.10190' '3.40.190.10' '3.40.250.10' '3.40.630.10' '3.40.630.30'\n",
      " '3.40.640.10' '3.40.710.10' '3.40.1190.20' '3.50.50.60' '3.60.15.10'\n",
      " '3.80.10.10' '3.90.79.10' '3.90.180.10' '3.90.190.10' '3.90.226.10'\n",
      " '3.90.550.10' '3.90.1150.10'] 101\n"
     ]
    }
   ],
   "source": [
    "print(siftsdf.superfam.unique(),len(siftsdf.superfam.unique()))"
   ]
  },
  {
   "cell_type": "code",
   "execution_count": 10,
   "id": "1a7d7f38",
   "metadata": {},
   "outputs": [
    {
     "name": "stdout",
     "output_type": "stream",
     "text": [
      "      PDB CHAIN SP_PRIMARY  CATH_ID        0  1   2  3   4   5  6  7  8   9  \\\n",
      "164  3glg     E     P28631  3glgE02  3glgE02  1  10  8  10  28  1  1  1   3   \n",
      "45   2bwe     E     P48510  2bweE00  2bweE00  1  10  8  10  10  1  1  2  16   \n",
      "94   2h5x     D     P9WGW3  2h5xD03  2h5xD03  1  10  8  10  19  1  1  1   3   \n",
      "189  1tr8     A     P0C0K9  1tr8A02  1tr8A02  1  10  8  10  32  1  1  1   1   \n",
      "306  1wj7     A     Q80X50  1wj7A01  1wj7A01  1  10  8  10  63  1  1  1   1   \n",
      "..    ...   ...        ...      ...      ... ..  .. ..  ..  .. .. .. ..  ..   \n",
      "309  2mro     B     P40087  2mroB00  2mroB00  1  10  8  10  65  1  1  1   2   \n",
      "305  2dhy     A     Q9NWM3  2dhyA00  2dhyA00  1  10  8  10  62  2  1  1   1   \n",
      "228  1do0     A     P0A6H5  1do0A02  1do0A02  1  10  8  10  41  1  1  1   2   \n",
      "267  1q02     A     Q13501  1q02A00  1q02A00  1  10  8  10  45  1  1  1   1   \n",
      "235  1e94     F     P0A6H5  1e94F02  1e94F02  1  10  8  10  41  1  1  2   2   \n",
      "\n",
      "     10     11   superfam  \n",
      "164  40   3.25  1.10.8.10  \n",
      "45   46    3.1  1.10.8.10  \n",
      "94   50    2.7  1.10.8.10  \n",
      "189  37   2.27  1.10.8.10  \n",
      "306  60  999.0  1.10.8.10  \n",
      "..   ..    ...        ...  \n",
      "309  44  999.0  1.10.8.10  \n",
      "305  67  999.0  1.10.8.10  \n",
      "228  98    3.0  1.10.8.10  \n",
      "267  52  999.0  1.10.8.10  \n",
      "235  99    2.8  1.10.8.10  \n",
      "\n",
      "[242 rows x 17 columns]\n"
     ]
    },
    {
     "ename": "OSError",
     "evalue": "Cannot save file into a non-existent directory: '../CATH_data/1.10.8.10'",
     "output_type": "error",
     "traceback": [
      "\u001b[0;31m---------------------------------------------------------------------------\u001b[0m",
      "\u001b[0;31mOSError\u001b[0m                                   Traceback (most recent call last)",
      "Cell \u001b[0;32mIn[10], line 12\u001b[0m\n\u001b[1;32m     10\u001b[0m \u001b[39mprint\u001b[39m(prots)\n\u001b[1;32m     11\u001b[0m \u001b[39m#output the sequence dataset to a file\u001b[39;00m\n\u001b[0;32m---> 12\u001b[0m prots\u001b[39m.\u001b[39;49mto_csv(datapath\u001b[39m+\u001b[39;49msuperfam\u001b[39m+\u001b[39;49m\u001b[39m'\u001b[39;49m\u001b[39m/sequence_dataset.csv\u001b[39;49m\u001b[39m'\u001b[39;49m)\n\u001b[1;32m     13\u001b[0m \u001b[39m#create a folder for the superfam if it does not exist\u001b[39;00m\n\u001b[1;32m     15\u001b[0m \u001b[39mif\u001b[39;00m \u001b[39mnot\u001b[39;00m os\u001b[39m.\u001b[39mpath\u001b[39m.\u001b[39mexists(datapath\u001b[39m+\u001b[39msuperfam):\n",
      "File \u001b[0;32m~/miniconda3/envs/ML2/lib/python3.10/site-packages/pandas/util/_decorators.py:211\u001b[0m, in \u001b[0;36mdeprecate_kwarg.<locals>._deprecate_kwarg.<locals>.wrapper\u001b[0;34m(*args, **kwargs)\u001b[0m\n\u001b[1;32m    209\u001b[0m     \u001b[39melse\u001b[39;00m:\n\u001b[1;32m    210\u001b[0m         kwargs[new_arg_name] \u001b[39m=\u001b[39m new_arg_value\n\u001b[0;32m--> 211\u001b[0m \u001b[39mreturn\u001b[39;00m func(\u001b[39m*\u001b[39;49margs, \u001b[39m*\u001b[39;49m\u001b[39m*\u001b[39;49mkwargs)\n",
      "File \u001b[0;32m~/miniconda3/envs/ML2/lib/python3.10/site-packages/pandas/core/generic.py:3720\u001b[0m, in \u001b[0;36mNDFrame.to_csv\u001b[0;34m(self, path_or_buf, sep, na_rep, float_format, columns, header, index, index_label, mode, encoding, compression, quoting, quotechar, lineterminator, chunksize, date_format, doublequote, escapechar, decimal, errors, storage_options)\u001b[0m\n\u001b[1;32m   3709\u001b[0m df \u001b[39m=\u001b[39m \u001b[39mself\u001b[39m \u001b[39mif\u001b[39;00m \u001b[39misinstance\u001b[39m(\u001b[39mself\u001b[39m, ABCDataFrame) \u001b[39melse\u001b[39;00m \u001b[39mself\u001b[39m\u001b[39m.\u001b[39mto_frame()\n\u001b[1;32m   3711\u001b[0m formatter \u001b[39m=\u001b[39m DataFrameFormatter(\n\u001b[1;32m   3712\u001b[0m     frame\u001b[39m=\u001b[39mdf,\n\u001b[1;32m   3713\u001b[0m     header\u001b[39m=\u001b[39mheader,\n\u001b[0;32m   (...)\u001b[0m\n\u001b[1;32m   3717\u001b[0m     decimal\u001b[39m=\u001b[39mdecimal,\n\u001b[1;32m   3718\u001b[0m )\n\u001b[0;32m-> 3720\u001b[0m \u001b[39mreturn\u001b[39;00m DataFrameRenderer(formatter)\u001b[39m.\u001b[39;49mto_csv(\n\u001b[1;32m   3721\u001b[0m     path_or_buf,\n\u001b[1;32m   3722\u001b[0m     lineterminator\u001b[39m=\u001b[39;49mlineterminator,\n\u001b[1;32m   3723\u001b[0m     sep\u001b[39m=\u001b[39;49msep,\n\u001b[1;32m   3724\u001b[0m     encoding\u001b[39m=\u001b[39;49mencoding,\n\u001b[1;32m   3725\u001b[0m     errors\u001b[39m=\u001b[39;49merrors,\n\u001b[1;32m   3726\u001b[0m     compression\u001b[39m=\u001b[39;49mcompression,\n\u001b[1;32m   3727\u001b[0m     quoting\u001b[39m=\u001b[39;49mquoting,\n\u001b[1;32m   3728\u001b[0m     columns\u001b[39m=\u001b[39;49mcolumns,\n\u001b[1;32m   3729\u001b[0m     index_label\u001b[39m=\u001b[39;49mindex_label,\n\u001b[1;32m   3730\u001b[0m     mode\u001b[39m=\u001b[39;49mmode,\n\u001b[1;32m   3731\u001b[0m     chunksize\u001b[39m=\u001b[39;49mchunksize,\n\u001b[1;32m   3732\u001b[0m     quotechar\u001b[39m=\u001b[39;49mquotechar,\n\u001b[1;32m   3733\u001b[0m     date_format\u001b[39m=\u001b[39;49mdate_format,\n\u001b[1;32m   3734\u001b[0m     doublequote\u001b[39m=\u001b[39;49mdoublequote,\n\u001b[1;32m   3735\u001b[0m     escapechar\u001b[39m=\u001b[39;49mescapechar,\n\u001b[1;32m   3736\u001b[0m     storage_options\u001b[39m=\u001b[39;49mstorage_options,\n\u001b[1;32m   3737\u001b[0m )\n",
      "File \u001b[0;32m~/miniconda3/envs/ML2/lib/python3.10/site-packages/pandas/util/_decorators.py:211\u001b[0m, in \u001b[0;36mdeprecate_kwarg.<locals>._deprecate_kwarg.<locals>.wrapper\u001b[0;34m(*args, **kwargs)\u001b[0m\n\u001b[1;32m    209\u001b[0m     \u001b[39melse\u001b[39;00m:\n\u001b[1;32m    210\u001b[0m         kwargs[new_arg_name] \u001b[39m=\u001b[39m new_arg_value\n\u001b[0;32m--> 211\u001b[0m \u001b[39mreturn\u001b[39;00m func(\u001b[39m*\u001b[39;49margs, \u001b[39m*\u001b[39;49m\u001b[39m*\u001b[39;49mkwargs)\n",
      "File \u001b[0;32m~/miniconda3/envs/ML2/lib/python3.10/site-packages/pandas/io/formats/format.py:1189\u001b[0m, in \u001b[0;36mDataFrameRenderer.to_csv\u001b[0;34m(self, path_or_buf, encoding, sep, columns, index_label, mode, compression, quoting, quotechar, lineterminator, chunksize, date_format, doublequote, escapechar, errors, storage_options)\u001b[0m\n\u001b[1;32m   1168\u001b[0m     created_buffer \u001b[39m=\u001b[39m \u001b[39mFalse\u001b[39;00m\n\u001b[1;32m   1170\u001b[0m csv_formatter \u001b[39m=\u001b[39m CSVFormatter(\n\u001b[1;32m   1171\u001b[0m     path_or_buf\u001b[39m=\u001b[39mpath_or_buf,\n\u001b[1;32m   1172\u001b[0m     lineterminator\u001b[39m=\u001b[39mlineterminator,\n\u001b[0;32m   (...)\u001b[0m\n\u001b[1;32m   1187\u001b[0m     formatter\u001b[39m=\u001b[39m\u001b[39mself\u001b[39m\u001b[39m.\u001b[39mfmt,\n\u001b[1;32m   1188\u001b[0m )\n\u001b[0;32m-> 1189\u001b[0m csv_formatter\u001b[39m.\u001b[39;49msave()\n\u001b[1;32m   1191\u001b[0m \u001b[39mif\u001b[39;00m created_buffer:\n\u001b[1;32m   1192\u001b[0m     \u001b[39massert\u001b[39;00m \u001b[39misinstance\u001b[39m(path_or_buf, StringIO)\n",
      "File \u001b[0;32m~/miniconda3/envs/ML2/lib/python3.10/site-packages/pandas/io/formats/csvs.py:241\u001b[0m, in \u001b[0;36mCSVFormatter.save\u001b[0;34m(self)\u001b[0m\n\u001b[1;32m    237\u001b[0m \u001b[39m\"\"\"\u001b[39;00m\n\u001b[1;32m    238\u001b[0m \u001b[39mCreate the writer & save.\u001b[39;00m\n\u001b[1;32m    239\u001b[0m \u001b[39m\"\"\"\u001b[39;00m\n\u001b[1;32m    240\u001b[0m \u001b[39m# apply compression and byte/text conversion\u001b[39;00m\n\u001b[0;32m--> 241\u001b[0m \u001b[39mwith\u001b[39;00m get_handle(\n\u001b[1;32m    242\u001b[0m     \u001b[39mself\u001b[39;49m\u001b[39m.\u001b[39;49mfilepath_or_buffer,\n\u001b[1;32m    243\u001b[0m     \u001b[39mself\u001b[39;49m\u001b[39m.\u001b[39;49mmode,\n\u001b[1;32m    244\u001b[0m     encoding\u001b[39m=\u001b[39;49m\u001b[39mself\u001b[39;49m\u001b[39m.\u001b[39;49mencoding,\n\u001b[1;32m    245\u001b[0m     errors\u001b[39m=\u001b[39;49m\u001b[39mself\u001b[39;49m\u001b[39m.\u001b[39;49merrors,\n\u001b[1;32m    246\u001b[0m     compression\u001b[39m=\u001b[39;49m\u001b[39mself\u001b[39;49m\u001b[39m.\u001b[39;49mcompression,\n\u001b[1;32m    247\u001b[0m     storage_options\u001b[39m=\u001b[39;49m\u001b[39mself\u001b[39;49m\u001b[39m.\u001b[39;49mstorage_options,\n\u001b[1;32m    248\u001b[0m ) \u001b[39mas\u001b[39;00m handles:\n\u001b[1;32m    249\u001b[0m \n\u001b[1;32m    250\u001b[0m     \u001b[39m# Note: self.encoding is irrelevant here\u001b[39;00m\n\u001b[1;32m    251\u001b[0m     \u001b[39mself\u001b[39m\u001b[39m.\u001b[39mwriter \u001b[39m=\u001b[39m csvlib\u001b[39m.\u001b[39mwriter(\n\u001b[1;32m    252\u001b[0m         handles\u001b[39m.\u001b[39mhandle,\n\u001b[1;32m    253\u001b[0m         lineterminator\u001b[39m=\u001b[39m\u001b[39mself\u001b[39m\u001b[39m.\u001b[39mlineterminator,\n\u001b[0;32m   (...)\u001b[0m\n\u001b[1;32m    258\u001b[0m         quotechar\u001b[39m=\u001b[39m\u001b[39mself\u001b[39m\u001b[39m.\u001b[39mquotechar,\n\u001b[1;32m    259\u001b[0m     )\n\u001b[1;32m    261\u001b[0m     \u001b[39mself\u001b[39m\u001b[39m.\u001b[39m_save()\n",
      "File \u001b[0;32m~/miniconda3/envs/ML2/lib/python3.10/site-packages/pandas/io/common.py:734\u001b[0m, in \u001b[0;36mget_handle\u001b[0;34m(path_or_buf, mode, encoding, compression, memory_map, is_text, errors, storage_options)\u001b[0m\n\u001b[1;32m    732\u001b[0m \u001b[39m# Only for write methods\u001b[39;00m\n\u001b[1;32m    733\u001b[0m \u001b[39mif\u001b[39;00m \u001b[39m\"\u001b[39m\u001b[39mr\u001b[39m\u001b[39m\"\u001b[39m \u001b[39mnot\u001b[39;00m \u001b[39min\u001b[39;00m mode \u001b[39mand\u001b[39;00m is_path:\n\u001b[0;32m--> 734\u001b[0m     check_parent_directory(\u001b[39mstr\u001b[39;49m(handle))\n\u001b[1;32m    736\u001b[0m \u001b[39mif\u001b[39;00m compression:\n\u001b[1;32m    737\u001b[0m     \u001b[39mif\u001b[39;00m compression \u001b[39m!=\u001b[39m \u001b[39m\"\u001b[39m\u001b[39mzstd\u001b[39m\u001b[39m\"\u001b[39m:\n\u001b[1;32m    738\u001b[0m         \u001b[39m# compression libraries do not like an explicit text-mode\u001b[39;00m\n",
      "File \u001b[0;32m~/miniconda3/envs/ML2/lib/python3.10/site-packages/pandas/io/common.py:597\u001b[0m, in \u001b[0;36mcheck_parent_directory\u001b[0;34m(path)\u001b[0m\n\u001b[1;32m    595\u001b[0m parent \u001b[39m=\u001b[39m Path(path)\u001b[39m.\u001b[39mparent\n\u001b[1;32m    596\u001b[0m \u001b[39mif\u001b[39;00m \u001b[39mnot\u001b[39;00m parent\u001b[39m.\u001b[39mis_dir():\n\u001b[0;32m--> 597\u001b[0m     \u001b[39mraise\u001b[39;00m \u001b[39mOSError\u001b[39;00m(\u001b[39mrf\u001b[39m\u001b[39m\"\u001b[39m\u001b[39mCannot save file into a non-existent directory: \u001b[39m\u001b[39m'\u001b[39m\u001b[39m{\u001b[39;00mparent\u001b[39m}\u001b[39;00m\u001b[39m'\u001b[39m\u001b[39m\"\u001b[39m)\n",
      "\u001b[0;31mOSError\u001b[0m: Cannot save file into a non-existent directory: '../CATH_data/1.10.8.10'"
     ]
    }
   ],
   "source": [
    "from src import AFDB_tools\n",
    "import os\n",
    "datapath = './CATH_data/'\n",
    "nprots = 250\n",
    "#iterate over all superfamilies and create a tree for each\n",
    "for superfam in siftsdf.superfam.unique():\n",
    "    #create a tree for each superfam\n",
    "    #sample 1000 proteins from the superfam\n",
    "    prots = siftsdf[siftsdf.superfam == superfam].sample(min(nprots, len(siftsdf[siftsdf.superfam == superfam]))).dropna()\n",
    "    print(prots)\n",
    "\n",
    "    #output the sequence dataset to a file\n",
    "    prots.to_csv(datapath+superfam+'/sequence_dataset.csv')\n",
    "    #create a folder for the superfam if it does not exist\n",
    "\n",
    "    if not os.path.exists(datapath+superfam):\n",
    "        os.mkdir(datapath+superfam)\n",
    "    \n",
    "    #output the uniport ids to a file\n",
    "    with open(datapath+superfam+'/identifiers.txt', 'w') as f:\n",
    "        f.write('\\n'.join( list(prots['SP_PRIMARY'])))\n",
    "    #create a folder for the structures if it does not exist\n",
    "    if not os.path.exists(datapath+superfam+'/structs'):\n",
    "        os.mkdir(datapath+superfam+'/structs')\n",
    "    #grab the structures from AFDB\n",
    "    missing = [AFDB_tools.grab_struct(i, datapath+superfam+'/structs/') for i in prots['SP_PRIMARY']]\n",
    "    missing = [i for i in missing if i]\n",
    "    print('missing in afdb:',missing)\n",
    "\n",
    "        "
   ]
  },
  {
   "cell_type": "code",
   "execution_count": null,
   "id": "e81ba2ae",
   "metadata": {},
   "outputs": [],
   "source": [
    "#load the pairwise distances predicted by foldseek\n",
    "def load_distmat( pairdf ):\n",
    "    ids = list(set(pairdf['query']).union(set(pairdf['target'])))\n",
    "    cols = 'fident,alnlen,mismatch,evalue,bits,lddt,lddtfull,alntmscore'.split()\n",
    "    #create a tensor of the different features for each pair\n",
    "    features = torch.zeros((len(ids), len(ids), len(cols)+2+2+6))\n",
    "    position = {ids[i]:i for i in range(len(ids))}\n",
    "    #iterate over all pairs\n",
    "    for idx,r in pairdf.iterrows():\n",
    "        #get the features of the pair\n",
    "        i = position[r[0]]\n",
    "        j = position[r[1]]\n",
    "        if i<= j:\n",
    "\n",
    "            features[i, j] = torch.tensor(r[cols])\n",
    "            features[i, j] = torch.tensor(r[cols])\n",
    "    return ids,features"
   ]
  },
  {
   "cell_type": "code",
   "execution_count": 4,
   "id": "19a2c2f4",
   "metadata": {},
   "outputs": [
    {
     "ename": "ModuleNotFoundError",
     "evalue": "No module named 'OrderedDict'",
     "output_type": "error",
     "traceback": [
      "\u001b[0;31m---------------------------------------------------------------------------\u001b[0m",
      "\u001b[0;31mModuleNotFoundError\u001b[0m                       Traceback (most recent call last)",
      "Cell \u001b[0;32mIn[4], line 3\u001b[0m\n\u001b[1;32m      1\u001b[0m \u001b[39m#use pytorch-metriclearning to calculate the pairwise distances on the input tensor\u001b[39;00m\n\u001b[1;32m      2\u001b[0m \u001b[39mfrom\u001b[39;00m \u001b[39mtorch\u001b[39;00m \u001b[39mimport\u001b[39;00m nn\n\u001b[0;32m----> 3\u001b[0m \u001b[39mimport\u001b[39;00m \u001b[39mOrderedDict\u001b[39;00m\n",
      "\u001b[0;31mModuleNotFoundError\u001b[0m: No module named 'OrderedDict'"
     ]
    }
   ],
   "source": [
    "#use pytorch-metriclearning to calculate the pairwise distances on the input tensor\n",
    "from torch import nn"
   ]
  },
  {
   "cell_type": "code",
   "execution_count": 3,
   "id": "379630bd",
   "metadata": {},
   "outputs": [
    {
     "ename": "NameError",
     "evalue": "name 'OrderedDict' is not defined",
     "output_type": "error",
     "traceback": [
      "\u001b[0;31m---------------------------------------------------------------------------\u001b[0m",
      "\u001b[0;31mNameError\u001b[0m                                 Traceback (most recent call last)",
      "Cell \u001b[0;32mIn[3], line 1\u001b[0m\n\u001b[0;32m----> 1\u001b[0m model \u001b[39m=\u001b[39m nn\u001b[39m.\u001b[39mSequential(OrderedDict([\n\u001b[1;32m      2\u001b[0m         (\u001b[39m'\u001b[39m\u001b[39msigmoid\u001b[39m\u001b[39m'\u001b[39m, nn\u001b[39m.\u001b[39mSigmoid()),\n\u001b[1;32m      3\u001b[0m         (\u001b[39m'\u001b[39m\u001b[39mlin1\u001b[39m\u001b[39m'\u001b[39m, nn\u001b[39m.\u001b[39mlinear()),\n\u001b[1;32m      4\u001b[0m         (\u001b[39m'\u001b[39m\u001b[39mlin2\u001b[39m\u001b[39m'\u001b[39m, nn\u001b[39m.\u001b[39mlinear()),\n\u001b[1;32m      5\u001b[0m         ]))\n",
      "\u001b[0;31mNameError\u001b[0m: name 'OrderedDict' is not defined"
     ]
    }
   ],
   "source": [
    "\n",
    "device = torch.device('cuda' if torch.cuda.is_available() else 'cpu')\n",
    "def get_model():\n",
    "    return nn.Sequential(\n",
    "        nn.Linear(20, 10),\n",
    "        nn.ReLU(),\n",
    "        nn.Linear(10, 5),\n",
    "        nn.ReLU(),\n",
    "        nn.Linear(5, 2),\n",
    "    )\n",
    "\n",
    "\n",
    "#after prediction of pairwise distances for one tree, calculate the tree error\n",
    "class TreeLoss(nn.Module):\n",
    "    def __init__(self):\n",
    "        super(CustomLoss, self).__init__()\n",
    "    def forward(self, t ):\n",
    "        return 1-(treescore.tree_score(t)/(len(t.nodes()) * len(taxaset) ))\n",
    "    \n",
    "\n",
    "#training loop over the tensors of pairwise distances\n",
    "def train_loop(model, train_loader, loss_fn, optimizer, device = device):\n",
    "        size = len(train_loader.dataset)\n",
    "        model = get_model()\n",
    "        model = model.to(device)\n",
    "\n",
    "        #use tqdm progrss bar\n",
    "        with tqdm(total=size) as t:\n",
    "\n",
    "                for batch, (X, y) in enumerate(train_loader):\n",
    "                        #apply the model elementwise to the tensor\n",
    "                        for i in range(X.shape[0]):\n",
    "                                for j in range(X.shape[1]):\n",
    "                                        Pred[i,j] = model(X[i,j,:])\n",
    "                        #make tree\n",
    "                        t = foldseek2tree.make_tree(Pred, ids)\n",
    "                        #calculate tree error\n",
    "                        loss = TreeLoss(t, seqdf )\n",
    "                        # Backpropagation\n",
    "                        optimizer.zero_grad()\n",
    "                        loss.backward()\n",
    "                        optimizer.step()\n",
    "                        tqdm.write(f\"loss: {loss.item():>7f}  [{batch * len(X):>5d}/{size:>5d}]\")\n",
    "                \n",
    "\n"
   ]
  },
  {
   "cell_type": "code",
   "execution_count": null,
   "id": "79494af2-b6f2-467f-83b6-fc268a0f178b",
   "metadata": {},
   "outputs": [],
   "source": [
    "download = True\n",
    "for t in glob.glob('./examples/sw'):\n",
    "    print(t)\n",
    "    try:\n",
    "        os.mkdir(t+'structs/')\n",
    "    except:\n",
    "        print('already exists')\n",
    "    outfolder = t+'structs/'\n",
    "    \n",
    "    if download == True:\n",
    "        if 'pruned' not in t :\n",
    "            print(t)\n",
    "            tre = toytree.tree(t )\n",
    "            notfound = [ AFDB_tools.grab_struct(uniID, outfolder)  for uniID in tre.get_tip_labels() ]\n",
    "            notfound = [ i for i in notfound if i]\n",
    "            with open(t+'unmapped.txt', 'w') as simout:\n",
    "                simout.write(json.dumps(notfound))"
   ]
  },
  {
   "cell_type": "code",
   "execution_count": null,
   "id": "2bf7747e-49a0-48ac-b25a-f941d609bf30",
   "metadata": {},
   "outputs": [],
   "source": [
    "#prune not found\n",
    "import ete3\n",
    "for t in glob.glob('./ST_Update/*.nhx'):\n",
    "    if 'pruned' not in t:\n",
    "        with open(t+'unmapped.txt') as missing:\n",
    "            missingIDs = json.loads(missing.read())\n",
    "        print(missingIDs)\n",
    "        print(t)\n",
    "        tree = ete3.Tree(t)\n",
    "        print(len(tree))\n",
    "        keep = [ n for n in tree.traverse() if n.name not in missingIDs]\n",
    "        tree.prune(keep, preserve_branch_length=True)\n",
    "        print(len(tree))\n",
    "        print(t+'pruned.nhx')\n",
    "        with open(t+'pruned.nhx' , 'w' )as treeout:\n",
    "            treeout.write(tree.write(format=1))"
   ]
  },
  {
   "cell_type": "code",
   "execution_count": null,
   "id": "75fa65c4-5a86-47cf-bf18-f699496c96a0",
   "metadata": {},
   "outputs": [],
   "source": [
    "\n",
    "for folder in glob.glob('./ST_Update/*/'):\n",
    "    print(folder)\n",
    "    input_structs = folder\n",
    "    dbpath = foldseek2tree.runFoldseekdb(input_structs, folder)\n",
    "    res = foldseek2tree.runFoldseek_allvall(dbpath , folder)"
   ]
  },
  {
   "cell_type": "code",
   "execution_count": null,
   "id": "65935f7f-e188-4c6f-9b0f-a98007e2a513",
   "metadata": {},
   "outputs": [],
   "source": [
    "for folder in glob.glob('./examples/*/'):\n",
    "    print(folder)\n",
    "    input_structs = folder+'structs/'\n",
    "    dbpath = foldseek2tree.runFoldseekdb(input_structs, folder)\n",
    "    res = foldseek2tree.runFoldseek_allvall(dbpath , folder)"
   ]
  },
  {
   "cell_type": "code",
   "execution_count": 2,
   "id": "132a73c6-0830-494c-a06e-82a78b480d2b",
   "metadata": {},
   "outputs": [],
   "source": [
    "def standard_treedraw( tre, sizes= None , colors= None ,fixed_order=None, fixed_position=None , ts = None,  save_file = False  , tiplabels = None):\n",
    "    if tiplabels is None:\n",
    "        tiplabels = tre.get_tip_labels()\n",
    "    canvas, axes, mark = tre.draw(  \n",
    "        ts = ts,\n",
    "        node_sizes=sizes,\n",
    "        node_colors=colors,\n",
    "        tip_labels_align=True,\n",
    "        scalebar=True,\n",
    "        fixed_order=fixed_order, \n",
    "        fixed_position=fixed_position,\n",
    "        tip_labels=tiplabels,\n",
    "        tip_labels_style={\n",
    "            \"fill\": \"#262626\",\n",
    "            \"font-size\": \"9px\"}\n",
    "    )\n",
    "    if save_file:\n",
    "        toyplot.svg.render(canvas, save_file)"
   ]
  },
  {
   "cell_type": "code",
   "execution_count": 3,
   "id": "b7c3cbf1-2973-41ff-b7c4-9714342bca48",
   "metadata": {},
   "outputs": [
    {
     "name": "stdout",
     "output_type": "stream",
     "text": [
      "[]\n"
     ]
    }
   ],
   "source": [
    "#get trees\n",
    "swisstreepath = './ST_Update/*nhxpruned.nhx'\n",
    "swiss_trees = glob.glob(swisstreepath)\n",
    "print(swiss_trees)\n",
    "swiss_toytrees = {}\n",
    "\n",
    "discretized_levels = 10\n",
    "maxnodesize = 10\n",
    "for t in swiss_trees:\n",
    "    print(t)\n",
    "    treecheck = True\n",
    "    try:\n",
    "        tre = toytree.tree(t , format =0 )\n",
    "    except:\n",
    "        print('tree err' , t)\n",
    "        treecheck = False\n",
    "    if treecheck == True:\n",
    "        swiss_toytrees[t] = { 'tree' : tre }\n",
    "        print(tre)\n",
    "        swiss_toytrees[t]['labels'] = tre.get_tip_labels()\n",
    "        swiss_toytrees[t]['coords'] = tre.get_tip_coordinates()\n",
    "        swiss_toytrees[t]['path'] = t\n",
    "        labels = swiss_toytrees[t]['labels']\n",
    "        unidf = AFDB_tools.grab_entries(labels)\n",
    "        lineages = treescore.make_lineages(unidf)\n",
    "        discretized_levels = 10\n",
    "        maxnodesize = 15\n",
    "        taxlabels = dict(zip(unidf['query'] ,unidf.Organism) )\n",
    "        #species_mapper = \n",
    "        tipnames = tre.get_tip_labels()\n",
    "        taxnames = [ i+ ' '+taxlabels[i] if i in taxlabels else i for i in tipnames]\n",
    "        red = colour.Color('blue')\n",
    "        blue = colour.Color('red')\n",
    "        tre = treescore.label_leaves(tre,lineages)\n",
    "        color_vals = list(red.range_to(blue, discretized_levels+1))\n",
    "        overlap = treescore.getTaxOverlap(tre.treenode)\n",
    "        treevals = [ node.score for node in tre.treenode.traverse()]\n",
    "        print(treevals)\n",
    "        print('finalscore' , tre.treenode.score)\n",
    "        swiss_toytrees[t]['score'] = tre.treenode.score\n",
    "        treevals = tre.get_node_values('size', True, True)\n",
    "        maxval = np.amax(treevals)\n",
    "        minval =0\n",
    "        bins = [minval + i*(maxval-minval)/discretized_levels for i in range(discretized_levels+1)]\n",
    "        inds = np.digitize(treevals, bins)\n",
    "        colors = [ color_vals[i-1].hex_l for i in list(inds)]\n",
    "        sizes = [ (i / discretized_levels) * maxnodesize for i in list(inds) ]\n",
    "        standard_treedraw(tre , sizes= sizes , colors=colors , tiplabels = taxnames , save_file = t + '.svg')\n",
    "        standard_treedraw(tre  , sizes= sizes , colors=colors , tiplabels = taxnames )        "
   ]
  },
  {
   "cell_type": "code",
   "execution_count": 4,
   "id": "f5a10130-fe66-4a7c-b56b-6805d2496491",
   "metadata": {},
   "outputs": [],
   "source": [
    "import subprocess, shlex\n",
    "def madroot(t):\n",
    "    args = '/work/FAC/FBM/DBC/cdessim2/default/dmoi/software/mad/mad ' + t\n",
    "    subprocess.run(shlex.split(args))\n",
    "    return t+ '.rooted'"
   ]
  },
  {
   "cell_type": "code",
   "execution_count": 5,
   "id": "8aa41ee7-2408-43c9-8f5c-a37f6e146fc4",
   "metadata": {},
   "outputs": [
    {
     "name": "stdout",
     "output_type": "stream",
     "text": [
      "./examples/swiss_trees_updated/\n"
     ]
    },
    {
     "ename": "NameError",
     "evalue": "name 'pd' is not defined",
     "output_type": "error",
     "traceback": [
      "\u001b[0;31m---------------------------------------------------------------------------\u001b[0m",
      "\u001b[0;31mNameError\u001b[0m                                 Traceback (most recent call last)",
      "Cell \u001b[0;32mIn[5], line 5\u001b[0m\n\u001b[1;32m      3\u001b[0m treenumber \u001b[38;5;241m=\u001b[39m folder\u001b[38;5;241m.\u001b[39msplit(\u001b[38;5;124m'\u001b[39m\u001b[38;5;124m/\u001b[39m\u001b[38;5;124m'\u001b[39m)[\u001b[38;5;241m1\u001b[39m]\n\u001b[1;32m      4\u001b[0m tmres \u001b[38;5;241m=\u001b[39m folder \u001b[38;5;241m+\u001b[39m\u001b[38;5;124m'\u001b[39m\u001b[38;5;124maln_score.tsv\u001b[39m\u001b[38;5;124m'\u001b[39m\n\u001b[0;32m----> 5\u001b[0m res \u001b[38;5;241m=\u001b[39m \u001b[43mpd\u001b[49m\u001b[38;5;241m.\u001b[39mread_table(tmres, header \u001b[38;5;241m=\u001b[39m \u001b[38;5;28;01mNone\u001b[39;00m ,delim_whitespace\u001b[38;5;241m=\u001b[39m\u001b[38;5;28;01mTrue\u001b[39;00m)\n\u001b[1;32m      6\u001b[0m res[\u001b[38;5;241m0\u001b[39m] \u001b[38;5;241m=\u001b[39m res[\u001b[38;5;241m0\u001b[39m]\u001b[38;5;241m.\u001b[39mmap(\u001b[38;5;28;01mlambda\u001b[39;00m x :x\u001b[38;5;241m.\u001b[39mreplace(\u001b[38;5;124m'\u001b[39m\u001b[38;5;124m.pdb\u001b[39m\u001b[38;5;124m'\u001b[39m, \u001b[38;5;124m'\u001b[39m\u001b[38;5;124m'\u001b[39m))\n\u001b[1;32m      7\u001b[0m res[\u001b[38;5;241m1\u001b[39m] \u001b[38;5;241m=\u001b[39m res[\u001b[38;5;241m1\u001b[39m]\u001b[38;5;241m.\u001b[39mmap(\u001b[38;5;28;01mlambda\u001b[39;00m x :x\u001b[38;5;241m.\u001b[39mreplace(\u001b[38;5;124m'\u001b[39m\u001b[38;5;124m.pdb\u001b[39m\u001b[38;5;124m'\u001b[39m, \u001b[38;5;124m'\u001b[39m\u001b[38;5;124m'\u001b[39m))\n",
      "\u001b[0;31mNameError\u001b[0m: name 'pd' is not defined"
     ]
    }
   ],
   "source": [
    "\n",
    "for folder in glob.glob('./examples/*/') :\n",
    "    print(folder)\n",
    "    treenumber = folder.split('/')[1]\n",
    "    tmres = folder +'aln_score.tsv'\n",
    "    res = pd.read_table(tmres, header = None ,delim_whitespace=True)\n",
    "    res[0] = res[0].map(lambda x :x.replace('.pdb', ''))\n",
    "    res[1] = res[1].map(lambda x :x.replace('.pdb', ''))\n",
    "    self_dists = res[res[0] == res[1]]\n",
    "    self_distmap = dict(zip(self_dists[0] , self_dists[2] ) )\n",
    "    ids = list( set(list(res[0].unique()) + list(res[1].unique())))\n",
    "    pos = { protid : i for i,protid in enumerate(ids)}\n",
    "    print(res)\n",
    "    distmat = np.zeros((len(pos), len(pos)))\n",
    "    kernel_distmat = np.zeros((len(pos), len(pos)))\n",
    "    for idx,row in res.iterrows():\n",
    "        distmat[pos[row[0]] , pos[row[1]]]= row[3]\n",
    "        kernel_distmat[pos[row[0]] , pos[row[1]]] = foldseek2tree.kernelfun(self_distmap[row[0]] , self_distmap[row[1]] , row[2])\n",
    "    distmat = 1- distmat\n",
    "    plt.imshow(distmat)\n",
    "    plt.show()\n",
    "    \n",
    "    distmat_txt = foldseek2tree.distmat_to_txt( ids , distmat, folder , prefix ='standard' )\n",
    "    distmat_txt_kernel = foldseek2tree.distmat_to_txt( ids , kernel_distmat , folder , prefix ='kernel' )\n",
    "    out_tree = foldseek2tree.runFastme( 'fastme' , distmat_txt )\n",
    "    out_tree = foldseek2tree.postprocess(out_tree)\n",
    "    out_tree = madroot(out_tree)\n",
    "    tre = toytree.tree(out_tree)\n",
    "    #species_mapper = \n",
    "    tipnames = tre.get_tip_labels()\n",
    "    unidf = AFDB_tools.grab_entries(tipnames)\n",
    "    lineages = treescore.make_lineages(unidf)\n",
    "    discretized_levels = 10\n",
    "    maxnodesize = 15\n",
    "    taxlabels = dict(zip(unidf['query'] ,unidf.Organism) )\n",
    "    taxnames = [ i+ ' '+taxlabels[i] if i in taxlabels else i for i in tipnames]\n",
    "    tre = treescore.label_leaves(tre,lineages)\n",
    "    treevals = tre.get_node_values('score', True, True)\n",
    "    print(treevals)\n",
    "    color_vals = list(red.range_to(blue, discretized_levels+1))\n",
    "    overlap = treescore.getTaxOverlap(tre.treenode)\n",
    "    treevals = tre.get_node_values('size', True, True)\n",
    "    print(treevals)\n",
    "    maxval = np.amax(treevals)\n",
    "    minval =0\n",
    "    bins = [minval + i*(maxval-minval)/discretized_levels for i in range(discretized_levels+1)]\n",
    "    inds = np.digitize(treevals, bins)\n",
    "    colors = [ color_vals[i-1].hex_l for i in list(inds)]\n",
    "    sizes = [ (i / discretized_levels) * maxnodesize for i in list(inds) ]\n",
    "    print(t)\n",
    "    standard_treedraw(tre , sizes= None , colors=None , tiplabels = taxnames , save_file = out_tree + '.svg')\n",
    "    standard_treedraw(tre  , sizes= sizes , colors=colors , tiplabels = taxnames )\n",
    "    "
   ]
  },
  {
   "cell_type": "code",
   "execution_count": 6,
   "id": "40b3bb1a-134e-45fe-84c0-46c8378b33b3",
   "metadata": {},
   "outputs": [
    {
     "name": "stdout",
     "output_type": "stream",
     "text": [
      "dict_keys([])\n"
     ]
    },
    {
     "ename": "NameError",
     "evalue": "name 'plt' is not defined",
     "output_type": "error",
     "traceback": [
      "\u001b[0;31m---------------------------------------------------------------------------\u001b[0m",
      "\u001b[0;31mNameError\u001b[0m                                 Traceback (most recent call last)",
      "Cell \u001b[0;32mIn[6], line 74\u001b[0m\n\u001b[1;32m     70\u001b[0m     sizes \u001b[38;5;241m=\u001b[39m [ (i \u001b[38;5;241m/\u001b[39m discretized_levels) \u001b[38;5;241m*\u001b[39m maxnodesize \u001b[38;5;28;01mfor\u001b[39;00m i \u001b[38;5;129;01min\u001b[39;00m \u001b[38;5;28mlist\u001b[39m(inds) ]\n\u001b[1;32m     71\u001b[0m     standard_treedraw(tre ,fixed_order\u001b[38;5;241m=\u001b[39mlabelorder, fixed_position\u001b[38;5;241m=\u001b[39mpositions \n\u001b[1;32m     72\u001b[0m                       ,colors \u001b[38;5;241m=\u001b[39m colors , sizes \u001b[38;5;241m=\u001b[39m sizes, tiplabels\u001b[38;5;241m=\u001b[39mtaxnames,  ts \u001b[38;5;241m=\u001b[39m \u001b[38;5;124m'\u001b[39m\u001b[38;5;124mo\u001b[39m\u001b[38;5;124m'\u001b[39m)\n\u001b[0;32m---> 74\u001b[0m \u001b[43mplt\u001b[49m\u001b[38;5;241m.\u001b[39mscatter( x \u001b[38;5;241m=\u001b[39m treescores_struct , y \u001b[38;5;241m=\u001b[39m treescores_st  , c \u001b[38;5;241m=\u001b[39m \u001b[38;5;124m'\u001b[39m\u001b[38;5;124mb\u001b[39m\u001b[38;5;124m'\u001b[39m, ls \u001b[38;5;241m=\u001b[39m \u001b[38;5;124m'\u001b[39m\u001b[38;5;124m-\u001b[39m\u001b[38;5;124m'\u001b[39m)\n\u001b[1;32m     75\u001b[0m plt\u001b[38;5;241m.\u001b[39mplot( [\u001b[38;5;241m0\u001b[39m,\u001b[38;5;241m1500\u001b[39m] , [\u001b[38;5;241m0\u001b[39m,\u001b[38;5;241m1500\u001b[39m])\n\u001b[1;32m     76\u001b[0m plt\u001b[38;5;241m.\u001b[39mxlabel(\u001b[38;5;124m'\u001b[39m\u001b[38;5;124mstructure\u001b[39m\u001b[38;5;124m'\u001b[39m)\n",
      "\u001b[0;31mNameError\u001b[0m: name 'plt' is not defined"
     ]
    }
   ],
   "source": [
    "import traceback\n",
    "print(swiss_toytrees.keys())\n",
    "\n",
    "import seaborn\n",
    "treescores_st = []\n",
    "treescores_struct = []\n",
    "rfdistances = []\n",
    "\n",
    "\n",
    "for t in swiss_toytrees:\n",
    "    folder = swiss_toytrees[t]['path'].replace( 'pruned.nhx' , 'structs/' )\n",
    "    \n",
    "    tmres = folder +'aln_score.tsv'\n",
    "    res = pd.read_table(tmres, header = None ,delim_whitespace=True)\n",
    "    res[0] = res[0].map(lambda x :x.replace('.pdb', ''))\n",
    "    res[1] = res[1].map(lambda x :x.replace('.pdb', ''))\n",
    "    ids = list( set(list(res[0].unique()) + list(res[1].unique())))\n",
    "    swisst = swiss_toytrees[t]\n",
    "    ids = list(set(ids).intersection(set(swisst['labels'])))\n",
    "    labelorder = [ l for l in swisst['labels'] if l in ids ]\n",
    "    positions = [ k for i,k in enumerate(list(swisst['coords'][:,1])) if swisst['labels'][i] in ids ]\n",
    "    pos = { protid : i for i,protid in enumerate(ids) }\n",
    "    self_dists = res[res[0] == res[1]]\n",
    "    self_distmap = dict(zip(self_dists[0] , self_dists[2] ) )    \n",
    "    kernel_distmat = np.zeros((len(pos), len(pos)))\n",
    "    distmat = np.zeros((len(pos), len(pos)))\n",
    "    for idx,row in res.iterrows():\n",
    "        kernel_distmat[pos[row[0]] , pos[row[1]]] = foldseek2tree.kernelfun(self_distmap[row[0]] , self_distmap[row[1]] , row[2])\n",
    "        distmat[pos[row[0]] , pos[row[1]]]= row[3]\n",
    "    distmat = 1- distmat\n",
    "    distmat_txt_kernel = foldseek2tree.distmat_to_txt( ids , distmat , folder )\n",
    "    out_tree_kernel = foldseek2tree.runFastme( 'fastme ' , distmat_txt_kernel )\n",
    "    out_tree_kernel = foldseek2tree.postprocess(out_tree_kernel)\n",
    "    out_tree_kernel = madroot(out_tree_kernel)\n",
    "    tre = toytree.tree(out_tree_kernel)\n",
    "    \n",
    "    tipnames = tre.get_tip_labels()\n",
    "    unidf = AFDB_tools.grab_entries(ids)\n",
    "    lineages = treescore.make_lineages(unidf)\n",
    "    discretized_levels = 10\n",
    "    maxnodesize = 15\n",
    "    \n",
    "    taxlabels = dict(zip(unidf['query'] ,unidf.Organism) )\n",
    "    taxnames = [ i+ ' '+taxlabels[i] if i in taxlabels else i for i in tipnames]\n",
    "    tre = treescore.label_leaves(tre,lineages)\n",
    "    color_vals = list(red.range_to(blue, discretized_levels+1))\n",
    "    overlap = treescore.getTaxOverlap(tre.treenode)\n",
    "    treevals = tre.get_node_values('size', True, True)\n",
    "    \n",
    "    try:\n",
    "        rf = tre.treenode.robinson_foulds(swisst['tree'].treenode )\n",
    "        print( 'RF dist:' , rf )\n",
    "        rfdistances.append(rf)\n",
    "    \n",
    "    except:\n",
    "        print('rferr')\n",
    "        rfdistances.append(None)\n",
    "\n",
    "            \n",
    "    print('struct score: ', tre.treenode.score, 'ST score: ' , swisst['tree'].treenode.score )\n",
    "\n",
    "    treescores_struct.append( tre.treenode.score)\n",
    "    treescores_st.append( swisst['tree'].treenode.score  )\n",
    "    \n",
    "    maxval = np.amax(treevals)\n",
    "    minval =0\n",
    "    bins = [minval + i*(maxval-minval)/discretized_levels for i in range(discretized_levels+1)]\n",
    "    inds = np.digitize(treevals, bins)\n",
    "    colors = [ color_vals[i-1].hex_l for i in list(inds)]\n",
    "    sizes = [ (i / discretized_levels) * maxnodesize for i in list(inds) ]\n",
    "    standard_treedraw(tre ,fixed_order=labelorder, fixed_position=positions \n",
    "                      ,colors = colors , sizes = sizes, tiplabels=taxnames,  ts = 'o')\n",
    "    \n",
    "plt.scatter( x = treescores_struct , y = treescores_st  , c = 'b', ls = '-')\n",
    "plt.plot( [0,1500] , [0,1500])\n",
    "plt.xlabel('structure')\n",
    "plt.ylabel('swisstree')\n",
    "plt.show()"
   ]
  },
  {
   "cell_type": "code",
   "execution_count": null,
   "id": "3fc5a982-7076-4ec7-967a-b3bd3c740a8c",
   "metadata": {},
   "outputs": [],
   "source": []
  }
 ],
 "metadata": {
  "kernelspec": {
   "display_name": "ML2",
   "language": "python",
   "name": "python3"
  },
  "language_info": {
   "codemirror_mode": {
    "name": "ipython",
    "version": 3
   },
   "file_extension": ".py",
   "mimetype": "text/x-python",
   "name": "python",
   "nbconvert_exporter": "python",
   "pygments_lexer": "ipython3",
   "version": "3.10.4"
  },
  "vscode": {
   "interpreter": {
    "hash": "de5d7f200d48311110fd5aad35b72e9d2d5b7cd2d05319e69d8eae45c81b4a25"
   }
  }
 },
 "nbformat": 4,
 "nbformat_minor": 5
}
