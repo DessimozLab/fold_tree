{
 "cells": [
  {
   "cell_type": "code",
   "execution_count": 2,
   "id": "b2012693-c6a3-4b72-bf8f-d657e3983ded",
   "metadata": {},
   "outputs": [],
   "source": [
    "%load_ext autoreload\n",
    "%autoreload 2"
   ]
  },
  {
   "cell_type": "code",
   "execution_count": 3,
   "id": "9cf13a9a-2970-432c-a45b-91dbf077f11b",
   "metadata": {},
   "outputs": [],
   "source": [
    "import sys\n",
    "sys.path.append('../')\n",
    "from src import AFDB_tools, treescore , foldseek2tree\n",
    "import pandas as pd\n",
    "import torch"
   ]
  },
  {
   "cell_type": "code",
   "execution_count": 4,
   "id": "15642502-23d3-4cde-aa32-fb2c2cf68274",
   "metadata": {},
   "outputs": [
    {
     "name": "stdout",
     "output_type": "stream",
     "text": [
      "        0   1   2   3   4   5   6   7   8   9   10     11\n",
      "0  1oaiA00   1  10   8  10   1   1   1   1   1  59    1.0\n",
      "1  1go5A00   1  10   8  10   1   1   1   1   2  69  999.0\n",
      "2  3frhA01   1  10   8  10   2   1   1   1   1  58    1.2\n",
      "3  3friA01   1  10   8  10   2   1   1   1   2  54    1.8\n",
      "4  3b89A01   1  10   8  10   2   1   1   2   1  54    2.6\n"
     ]
    }
   ],
   "source": [
    "#load cath dataset from CATH data folder with comment lines as # and white space seperator\n",
    "domain_df = pd.read_csv('../CATH_data/cath-domain-list.txt' , comment='#' , header = None , delim_whitespace=True)\n",
    "print(domain_df.head())"
   ]
  },
  {
   "cell_type": "code",
   "execution_count": 5,
   "id": "21ea694f",
   "metadata": {},
   "outputs": [],
   "source": [
    "#change the type to string\n",
    "domain_df = domain_df.astype(str)\n",
    "domain_df['superfam'] = domain_df[[1,2,3,4]].apply(lambda x : '.'.join(x), axis = 1) \n",
    "domain_df['CAT'] = domain_df[[1,2,3]].apply(lambda x : '.'.join(x), axis = 1) \n"
   ]
  },
  {
   "cell_type": "code",
   "execution_count": 6,
   "id": "74af3e1f",
   "metadata": {},
   "outputs": [],
   "source": [
    "siftsdf = pd.read_csv('../CATH_data/pdb_chain_cath_uniprot.csv', header=1 )"
   ]
  },
  {
   "cell_type": "code",
   "execution_count": 7,
   "id": "9dc72239",
   "metadata": {},
   "outputs": [
    {
     "name": "stdout",
     "output_type": "stream",
     "text": [
      "6485\n",
      "    PDB CHAIN SP_PRIMARY  CATH_ID        0  1   2    3   4  5  6  7   8  9  \\\n",
      "0  101m     A     P02185  101mA00  101mA00  1  10  490  10  1  1  1  51  4   \n",
      "1  102l     A     P00720  102lA00  102lA00  1  10  530  40  1  1  2  30  2   \n",
      "2  102m     A     P02185  102mA00  102mA00  1  10  490  10  1  1  1  42  7   \n",
      "3  103l     A     P00720  103lA00  103lA00  1  10  530  40  1  1  2  69  2   \n",
      "4  103m     A     P02185  103mA00  103mA00  1  10  490  10  1  1  1  42  8   \n",
      "\n",
      "    10    11     superfam       CAT  \n",
      "0  154  2.07  1.10.490.10  1.10.490  \n",
      "1  163  1.74  1.10.530.40  1.10.530  \n",
      "2  154  1.84  1.10.490.10  1.10.490  \n",
      "3  159   1.9  1.10.530.40  1.10.530  \n",
      "4  154  2.07  1.10.490.10  1.10.490   451320 None\n"
     ]
    }
   ],
   "source": [
    "#merge with domain df on cath id\n",
    "siftsdf = siftsdf.merge(domain_df, left_on = 'CATH_ID' , right_on = 0 , how = 'left')\n",
    "siftsdf = siftsdf.dropna()\n",
    "print(siftsdf.head(), len(siftsdf) , print(len(siftsdf.superfam.unique())))"
   ]
  },
  {
   "cell_type": "code",
   "execution_count": 8,
   "id": "69e5913b",
   "metadata": {},
   "outputs": [
    {
     "name": "stdout",
     "output_type": "stream",
     "text": [
      "['1.10.490.10' '1.10.530.40' '3.40.30.10' ... '6.10.140.1500'\n",
      " '1.20.120.1500' '1.10.10.1760'] 6485\n"
     ]
    },
    {
     "data": {
      "image/png": "[encoded data removed]",
      "text/plain": [
       "<Figure size 640x480 with 1 Axes>"
      ]
     },
     "metadata": {},
     "output_type": "display_data"
    }
   ],
   "source": [
    "from matplotlib import pyplot as plt\n",
    "print(siftsdf.superfam.unique(),len(siftsdf.superfam.unique()))\n",
    "#make a histogram of the superfam counts\n",
    "famsizes = siftsdf.CAT.value_counts().to_numpy()\n",
    "plt.hist( famsizes[famsizes>10] , bins = 100)\n",
    "plt.show()"
   ]
  },
  {
   "cell_type": "code",
   "execution_count": 9,
   "id": "50322a18-3af0-49b4-8eee-954d32075926",
   "metadata": {},
   "outputs": [],
   "source": [
    "import urllib.request\n",
    "from Bio import PDB\n",
    "import warnings\n",
    "import os\n",
    "\n",
    "\n",
    "def dlchain(pdb_id , chainID , savepath):\n",
    "    \n",
    "    try:\n",
    "        if  os.path.isfile(savepath)==False:\n",
    "            with warnings.catch_warnings():\n",
    "                warnings.simplefilter(\"ignore\")\n",
    "                pdbl = PDB.PDBList()\n",
    "                pdb_file = pdbl.retrieve_pdb_file(pdb_id , file_format = 'pdb' )\n",
    "                structure = PDB.PDBParser().get_structure(pdb_id, pdb_file )\n",
    "                chain_A = None\n",
    "                for model in structure:\n",
    "                    for chain in model:\n",
    "                        if chain.id == chainID:\n",
    "                            chain_A = chain\n",
    "                            break\n",
    "                    if chain_A:\n",
    "                        break\n",
    "\n",
    "                if chain_A:\n",
    "                    io = PDB.PDBIO()\n",
    "                    io.set_structure(chain_A)\n",
    "                    io.save(savepath)\n",
    "                else:\n",
    "                    print(\"err\", savepath)\n",
    "    except:\n",
    "        print('err' , savepath)\n"
   ]
  },
  {
   "cell_type": "code",
   "execution_count": null,
   "id": "1a7d7f38",
   "metadata": {},
   "outputs": [
    {
     "name": "stdout",
     "output_type": "stream",
     "text": [
      "250\n",
      "Structure exists: '/work/FAC/FBM/DBC/cdessim2/default/dmoi/projects/snake_tree/notebooks/hd/pdb1hds.ent' \n",
      "Structure exists: '/work/FAC/FBM/DBC/cdessim2/default/dmoi/projects/snake_tree/notebooks/hz/pdb2hz3.ent' \n",
      "Structure exists: '/work/FAC/FBM/DBC/cdessim2/default/dmoi/projects/snake_tree/notebooks/yj/pdb4yjj.ent' \n",
      "Structure exists: '/work/FAC/FBM/DBC/cdessim2/default/dmoi/projects/snake_tree/notebooks/lh/pdb1lht.ent' \n",
      "Structure exists: '/work/FAC/FBM/DBC/cdessim2/default/dmoi/projects/snake_tree/notebooks/hy/pdb3hyu.ent' \n",
      "Structure exists: '/work/FAC/FBM/DBC/cdessim2/default/dmoi/projects/snake_tree/notebooks/ar/pdb3arl.ent' \n",
      "Structure exists: '/work/FAC/FBM/DBC/cdessim2/default/dmoi/projects/snake_tree/notebooks/bm/pdb6bme.ent' \n",
      "Structure exists: '/work/FAC/FBM/DBC/cdessim2/default/dmoi/projects/snake_tree/notebooks/ig/pdb2ig3.ent' \n",
      "Structure exists: '/work/FAC/FBM/DBC/cdessim2/default/dmoi/projects/snake_tree/notebooks/ub/pdb3ubv.ent' \n",
      "Structure exists: '/work/FAC/FBM/DBC/cdessim2/default/dmoi/projects/snake_tree/notebooks/cp/pdb1cpc.ent' \n",
      "Structure exists: '/work/FAC/FBM/DBC/cdessim2/default/dmoi/projects/snake_tree/notebooks/fs/pdb3fs4.ent' \n",
      "Structure exists: '/work/FAC/FBM/DBC/cdessim2/default/dmoi/projects/snake_tree/notebooks/es/pdb4esa.ent' \n",
      "Structure exists: '/work/FAC/FBM/DBC/cdessim2/default/dmoi/projects/snake_tree/notebooks/at/pdb3at6.ent' \n",
      "Structure exists: '/work/FAC/FBM/DBC/cdessim2/default/dmoi/projects/snake_tree/notebooks/cg/pdb1cg8.ent' \n",
      "Structure exists: '/work/FAC/FBM/DBC/cdessim2/default/dmoi/projects/snake_tree/notebooks/it/pdb1ith.ent' \n",
      "Structure exists: '/work/FAC/FBM/DBC/cdessim2/default/dmoi/projects/snake_tree/notebooks/vr/pdb3vrg.ent' \n",
      "Structure exists: '/work/FAC/FBM/DBC/cdessim2/default/dmoi/projects/snake_tree/notebooks/wt/pdb3wtg.ent' \n",
      "Structure exists: '/work/FAC/FBM/DBC/cdessim2/default/dmoi/projects/snake_tree/notebooks/h2/pdb4h2l.ent' \n",
      "Structure exists: '/work/FAC/FBM/DBC/cdessim2/default/dmoi/projects/snake_tree/notebooks/gd/pdb3gdj.ent' \n",
      "Structure exists: '/work/FAC/FBM/DBC/cdessim2/default/dmoi/projects/snake_tree/notebooks/wc/pdb3wcw.ent' \n",
      "Structure exists: '/work/FAC/FBM/DBC/cdessim2/default/dmoi/projects/snake_tree/notebooks/lh/pdb3lhb.ent' \n",
      "Structure exists: '/work/FAC/FBM/DBC/cdessim2/default/dmoi/projects/snake_tree/notebooks/zs/pdb2zs1.ent' \n",
      "Structure exists: '/work/FAC/FBM/DBC/cdessim2/default/dmoi/projects/snake_tree/notebooks/i3/pdb1i3e.ent' \n",
      "Structure exists: '/work/FAC/FBM/DBC/cdessim2/default/dmoi/projects/snake_tree/notebooks/wc/pdb3wcw.ent' \n",
      "Structure exists: '/work/FAC/FBM/DBC/cdessim2/default/dmoi/projects/snake_tree/notebooks/lm/pdb4lmx.ent' \n",
      "Structure exists: '/work/FAC/FBM/DBC/cdessim2/default/dmoi/projects/snake_tree/notebooks/zs/pdb2zs1.ent' \n",
      "Structure exists: '/work/FAC/FBM/DBC/cdessim2/default/dmoi/projects/snake_tree/notebooks/mj/pdb3mjp.ent' \n",
      "Structure exists: '/work/FAC/FBM/DBC/cdessim2/default/dmoi/projects/snake_tree/notebooks/k8/pdb3k8b.ent' \n",
      "Structure exists: '/work/FAC/FBM/DBC/cdessim2/default/dmoi/projects/snake_tree/notebooks/cy/pdb3cy5.ent' \n",
      "Structure exists: '/work/FAC/FBM/DBC/cdessim2/default/dmoi/projects/snake_tree/notebooks/cy/pdb3cy5.ent' \n",
      "Structure exists: '/work/FAC/FBM/DBC/cdessim2/default/dmoi/projects/snake_tree/notebooks/sp/pdb1spg.ent' \n",
      "Structure exists: '/work/FAC/FBM/DBC/cdessim2/default/dmoi/projects/snake_tree/notebooks/hv/pdb1hv4.ent' \n",
      "Structure exists: '/work/FAC/FBM/DBC/cdessim2/default/dmoi/projects/snake_tree/notebooks/uv/pdb1uvy.ent' \n",
      "Structure exists: '/work/FAC/FBM/DBC/cdessim2/default/dmoi/projects/snake_tree/notebooks/uu/pdb2uum.ent' \n",
      "Structure exists: '/work/FAC/FBM/DBC/cdessim2/default/dmoi/projects/snake_tree/notebooks/hb/pdb1hbr.ent' \n",
      "Structure exists: '/work/FAC/FBM/DBC/cdessim2/default/dmoi/projects/snake_tree/notebooks/gc/pdb1gcw.ent' \n",
      "Structure exists: '/work/FAC/FBM/DBC/cdessim2/default/dmoi/projects/snake_tree/notebooks/bc/pdb3bcq.ent' \n",
      "Structure exists: '/work/FAC/FBM/DBC/cdessim2/default/dmoi/projects/snake_tree/notebooks/zo/pdb3zom.ent' \n",
      "Structure exists: '/work/FAC/FBM/DBC/cdessim2/default/dmoi/projects/snake_tree/notebooks/uv/pdb5uvk.ent' \n",
      "Structure exists: '/work/FAC/FBM/DBC/cdessim2/default/dmoi/projects/snake_tree/notebooks/mj/pdb3mjp.ent' \n",
      "Structure exists: '/work/FAC/FBM/DBC/cdessim2/default/dmoi/projects/snake_tree/notebooks/gy/pdb3gys.ent' \n",
      "Structure exists: '/work/FAC/FBM/DBC/cdessim2/default/dmoi/projects/snake_tree/notebooks/n0/pdb6n03.ent' \n",
      "Structure exists: '/work/FAC/FBM/DBC/cdessim2/default/dmoi/projects/snake_tree/notebooks/od/pdb4odc.ent' \n",
      "250\n",
      "Structure exists: '/work/FAC/FBM/DBC/cdessim2/default/dmoi/projects/snake_tree/notebooks/zb/pdb4zbb.ent' \n",
      "Structure exists: '/work/FAC/FBM/DBC/cdessim2/default/dmoi/projects/snake_tree/notebooks/zf/pdb5zfg.ent' \n",
      "Structure exists: '/work/FAC/FBM/DBC/cdessim2/default/dmoi/projects/snake_tree/notebooks/f0/pdb5f06.ent' \n",
      "Structure exists: '/work/FAC/FBM/DBC/cdessim2/default/dmoi/projects/snake_tree/notebooks/fe/pdb3feu.ent' \n",
      "Structure exists: '/work/FAC/FBM/DBC/cdessim2/default/dmoi/projects/snake_tree/notebooks/xf/pdb5xft.ent' \n",
      "Structure exists: '/work/FAC/FBM/DBC/cdessim2/default/dmoi/projects/snake_tree/notebooks/hf/pdb5hfk.ent' \n",
      "Structure exists: '/work/FAC/FBM/DBC/cdessim2/default/dmoi/projects/snake_tree/notebooks/gs/pdb2gsq.ent' \n",
      "Structure exists: '/work/FAC/FBM/DBC/cdessim2/default/dmoi/projects/snake_tree/notebooks/ni/pdb3niv.ent' \n",
      "Structure exists: '/work/FAC/FBM/DBC/cdessim2/default/dmoi/projects/snake_tree/notebooks/qa/pdb3qag.ent' \n",
      "Structure exists: '/work/FAC/FBM/DBC/cdessim2/default/dmoi/projects/snake_tree/notebooks/uc/pdb1uc7.ent' \n",
      "Structure exists: '/work/FAC/FBM/DBC/cdessim2/default/dmoi/projects/snake_tree/notebooks/l7/pdb3l78.ent' \n",
      "Structure exists: '/work/FAC/FBM/DBC/cdessim2/default/dmoi/projects/snake_tree/notebooks/ti/pdb1ti3.ent' \n",
      "Structure exists: '/work/FAC/FBM/DBC/cdessim2/default/dmoi/projects/snake_tree/notebooks/kh/pdb3kh9.ent' \n",
      "Structure exists: '/work/FAC/FBM/DBC/cdessim2/default/dmoi/projects/snake_tree/notebooks/tw/pdb4tw5.ent' \n",
      "Structure exists: '/work/FAC/FBM/DBC/cdessim2/default/dmoi/projects/snake_tree/notebooks/t1/pdb1t1v.ent' \n",
      "Structure exists: '/work/FAC/FBM/DBC/cdessim2/default/dmoi/projects/snake_tree/notebooks/qd/pdb3qd9.ent' \n",
      "Structure exists: '/work/FAC/FBM/DBC/cdessim2/default/dmoi/projects/snake_tree/notebooks/ps/pdb1psq.ent' \n",
      "Structure exists: '/work/FAC/FBM/DBC/cdessim2/default/dmoi/projects/snake_tree/notebooks/ed/pdb3ed3.ent' \n",
      "Structure exists: '/work/FAC/FBM/DBC/cdessim2/default/dmoi/projects/snake_tree/notebooks/zm/pdb1zma.ent' \n",
      "Structure exists: '/work/FAC/FBM/DBC/cdessim2/default/dmoi/projects/snake_tree/notebooks/dv/pdb5dvb.ent' \n",
      "Structure exists: '/work/FAC/FBM/DBC/cdessim2/default/dmoi/projects/snake_tree/notebooks/hv/pdb3hvn.ent' \n",
      "Structure exists: '/work/FAC/FBM/DBC/cdessim2/default/dmoi/projects/snake_tree/notebooks/fq/pdb4fqu.ent' \n",
      "Structure exists: '/work/FAC/FBM/DBC/cdessim2/default/dmoi/projects/snake_tree/notebooks/fh/pdb3fhk.ent' \n",
      "Structure exists: '/work/FAC/FBM/DBC/cdessim2/default/dmoi/projects/snake_tree/notebooks/hd/pdb3hd5.ent' \n",
      "Structure exists: '/work/FAC/FBM/DBC/cdessim2/default/dmoi/projects/snake_tree/notebooks/qo/pdb3qou.ent' \n",
      "Structure exists: '/work/FAC/FBM/DBC/cdessim2/default/dmoi/projects/snake_tree/notebooks/gn/pdb3gn3.ent' \n",
      "Structure exists: '/work/FAC/FBM/DBC/cdessim2/default/dmoi/projects/snake_tree/notebooks/f8/pdb4f82.ent' \n",
      "Structure exists: '/work/FAC/FBM/DBC/cdessim2/default/dmoi/projects/snake_tree/notebooks/gn/pdb3gnj.ent' \n",
      "Structure exists: '/work/FAC/FBM/DBC/cdessim2/default/dmoi/projects/snake_tree/notebooks/sj/pdb1sj6.ent' \n",
      "Structure exists: '/work/FAC/FBM/DBC/cdessim2/default/dmoi/projects/snake_tree/notebooks/p0/pdb2p0g.ent' \n",
      "Structure exists: '/work/FAC/FBM/DBC/cdessim2/default/dmoi/projects/snake_tree/notebooks/to/pdb4top.ent' \n",
      "Structure exists: '/work/FAC/FBM/DBC/cdessim2/default/dmoi/projects/snake_tree/notebooks/gw/pdb1gwc.ent' \n",
      "Structure exists: '/work/FAC/FBM/DBC/cdessim2/default/dmoi/projects/snake_tree/notebooks/p5/pdb2p5r.ent' \n",
      "Structure exists: '/work/FAC/FBM/DBC/cdessim2/default/dmoi/projects/snake_tree/notebooks/ep/pdb6ep7.ent' \n",
      "Structure exists: '/work/FAC/FBM/DBC/cdessim2/default/dmoi/projects/snake_tree/notebooks/af/pdb4af2.ent' \n",
      "Structure exists: '/work/FAC/FBM/DBC/cdessim2/default/dmoi/projects/snake_tree/notebooks/b7/pdb5b7c.ent' \n",
      "Structure exists: '/work/FAC/FBM/DBC/cdessim2/default/dmoi/projects/snake_tree/notebooks/l5/pdb2l57.ent' \n",
      "Structure exists: '/work/FAC/FBM/DBC/cdessim2/default/dmoi/projects/snake_tree/notebooks/lj/pdb2ljk.ent' \n",
      "Structure exists: '/work/FAC/FBM/DBC/cdessim2/default/dmoi/projects/snake_tree/notebooks/br/pdb6br4.ent' \n",
      "Structure exists: '/work/FAC/FBM/DBC/cdessim2/default/dmoi/projects/snake_tree/notebooks/bm/pdb2bmx.ent' \n",
      "Structure exists: '/work/FAC/FBM/DBC/cdessim2/default/dmoi/projects/snake_tree/notebooks/k6/pdb4k6x.ent' \n",
      "Structure exists: '/work/FAC/FBM/DBC/cdessim2/default/dmoi/projects/snake_tree/notebooks/g2/pdb2g2q.ent' \n",
      "Structure exists: '/work/FAC/FBM/DBC/cdessim2/default/dmoi/projects/snake_tree/notebooks/ki/pdb3kij.ent' \n",
      "Structure exists: '/work/FAC/FBM/DBC/cdessim2/default/dmoi/projects/snake_tree/notebooks/tx/pdb4txv.ent' \n",
      "Structure exists: '/work/FAC/FBM/DBC/cdessim2/default/dmoi/projects/snake_tree/notebooks/j3/pdb5j3r.ent' \n",
      "Structure exists: '/work/FAC/FBM/DBC/cdessim2/default/dmoi/projects/snake_tree/notebooks/mz/pdb2mzc.ent' \n",
      "Structure exists: '/work/FAC/FBM/DBC/cdessim2/default/dmoi/projects/snake_tree/notebooks/ey/pdb3eyt.ent' \n",
      "Structure exists: '/work/FAC/FBM/DBC/cdessim2/default/dmoi/projects/snake_tree/notebooks/fk/pdb3fk8.ent' \n",
      "Structure exists: '/work/FAC/FBM/DBC/cdessim2/default/dmoi/projects/snake_tree/notebooks/qq/pdb4qq7.ent' \n",
      "Structure exists: '/work/FAC/FBM/DBC/cdessim2/default/dmoi/projects/snake_tree/notebooks/pv/pdb2pvq.ent' \n",
      "Structure exists: '/work/FAC/FBM/DBC/cdessim2/default/dmoi/projects/snake_tree/notebooks/ch/pdb6ch3.ent' \n",
      "Structure exists: '/work/FAC/FBM/DBC/cdessim2/default/dmoi/projects/snake_tree/notebooks/wu/pdb2wul.ent' \n",
      "Structure exists: '/work/FAC/FBM/DBC/cdessim2/default/dmoi/projects/snake_tree/notebooks/ei/pdb4eiq.ent' \n",
      "Structure exists: '/work/FAC/FBM/DBC/cdessim2/default/dmoi/projects/snake_tree/notebooks/a2/pdb2a2p.ent' \n",
      "Structure exists: '/work/FAC/FBM/DBC/cdessim2/default/dmoi/projects/snake_tree/notebooks/ju/pdb4ju5.ent' \n",
      "Structure exists: '/work/FAC/FBM/DBC/cdessim2/default/dmoi/projects/snake_tree/notebooks/fk/pdb3fkf.ent' \n",
      "Structure exists: '/work/FAC/FBM/DBC/cdessim2/default/dmoi/projects/snake_tree/notebooks/f0/pdb5f0g.ent' \n",
      "Structure exists: '/work/FAC/FBM/DBC/cdessim2/default/dmoi/projects/snake_tree/notebooks/wf/pdb2wfc.ent' \n",
      "Structure exists: '/work/FAC/FBM/DBC/cdessim2/default/dmoi/projects/snake_tree/notebooks/f0/pdb3f0i.ent' \n",
      "Structure exists: '/work/FAC/FBM/DBC/cdessim2/default/dmoi/projects/snake_tree/notebooks/k8/pdb3k8n.ent' \n",
      "Structure exists: '/work/FAC/FBM/DBC/cdessim2/default/dmoi/projects/snake_tree/notebooks/d5/pdb3d5j.ent' \n",
      "Downloading PDB structure '5epf'...\n",
      "Structure exists: '/work/FAC/FBM/DBC/cdessim2/default/dmoi/projects/snake_tree/notebooks/x0/pdb4x0x.ent' \n",
      "Structure exists: '/work/FAC/FBM/DBC/cdessim2/default/dmoi/projects/snake_tree/notebooks/hf/pdb2hfd.ent' \n",
      "Structure exists: '/work/FAC/FBM/DBC/cdessim2/default/dmoi/projects/snake_tree/notebooks/n0/pdb4n0v.ent' \n",
      "Structure exists: '/work/FAC/FBM/DBC/cdessim2/default/dmoi/projects/snake_tree/notebooks/kn/pdb5kn3.ent' \n",
      "Structure exists: '/work/FAC/FBM/DBC/cdessim2/default/dmoi/projects/snake_tree/notebooks/hf/pdb5hfi.ent' \n",
      "Structure exists: '/work/FAC/FBM/DBC/cdessim2/default/dmoi/projects/snake_tree/notebooks/bo/pdb3boa.ent' \n",
      "Structure exists: '/work/FAC/FBM/DBC/cdessim2/default/dmoi/projects/snake_tree/notebooks/we/pdb1we0.ent' \n",
      "Structure exists: '/work/FAC/FBM/DBC/cdessim2/default/dmoi/projects/snake_tree/notebooks/hr/pdb2hrn.ent' \n",
      "Structure exists: '/work/FAC/FBM/DBC/cdessim2/default/dmoi/projects/snake_tree/notebooks/iv/pdb3iv4.ent' \n",
      "Structure exists: '/work/FAC/FBM/DBC/cdessim2/default/dmoi/projects/snake_tree/notebooks/hs/pdb4hs1.ent' \n",
      "Structure exists: '/work/FAC/FBM/DBC/cdessim2/default/dmoi/projects/snake_tree/notebooks/sk/pdb1sk2.ent' \n",
      "Structure exists: '/work/FAC/FBM/DBC/cdessim2/default/dmoi/projects/snake_tree/notebooks/hq/pdb5hqp.ent' \n",
      "Structure exists: '/work/FAC/FBM/DBC/cdessim2/default/dmoi/projects/snake_tree/notebooks/o7/pdb5o7e.ent' \n",
      "Structure exists: '/work/FAC/FBM/DBC/cdessim2/default/dmoi/projects/snake_tree/notebooks/n9/pdb5n9u.ent' \n",
      "Structure exists: '/work/FAC/FBM/DBC/cdessim2/default/dmoi/projects/snake_tree/notebooks/ww/pdb1wwj.ent' \n",
      "Structure exists: '/work/FAC/FBM/DBC/cdessim2/default/dmoi/projects/snake_tree/notebooks/td/pdb3tdg.ent' \n",
      "Structure exists: '/work/FAC/FBM/DBC/cdessim2/default/dmoi/projects/snake_tree/notebooks/hd/pdb3hdc.ent' \n",
      "Structure exists: '/work/FAC/FBM/DBC/cdessim2/default/dmoi/projects/snake_tree/notebooks/ks/pdb4kso.ent' \n",
      "Structure exists: '/work/FAC/FBM/DBC/cdessim2/default/dmoi/projects/snake_tree/notebooks/xu/pdb5xur.ent' \n",
      "Structure exists: '/work/FAC/FBM/DBC/cdessim2/default/dmoi/projects/snake_tree/notebooks/vk/pdb3vk9.ent' \n",
      "Structure exists: '/work/FAC/FBM/DBC/cdessim2/default/dmoi/projects/snake_tree/notebooks/ac/pdb4acs.ent' \n",
      "Structure exists: '/work/FAC/FBM/DBC/cdessim2/default/dmoi/projects/snake_tree/notebooks/rp/pdb3rpp.ent' \n",
      "Structure exists: '/work/FAC/FBM/DBC/cdessim2/default/dmoi/projects/snake_tree/notebooks/jb/pdb4jbb.ent' \n",
      "Structure exists: '/work/FAC/FBM/DBC/cdessim2/default/dmoi/projects/snake_tree/notebooks/nm/pdb4nmu.ent' \n",
      "Structure exists: '/work/FAC/FBM/DBC/cdessim2/default/dmoi/projects/snake_tree/notebooks/hq/pdb5hqp.ent' \n",
      "Structure exists: '/work/FAC/FBM/DBC/cdessim2/default/dmoi/projects/snake_tree/notebooks/c3/pdb2c3t.ent' \n",
      "Structure exists: '/work/FAC/FBM/DBC/cdessim2/default/dmoi/projects/snake_tree/notebooks/x4/pdb4x4j.ent' \n",
      "Structure exists: '/work/FAC/FBM/DBC/cdessim2/default/dmoi/projects/snake_tree/notebooks/xb/pdb5xbr.ent' \n",
      "Structure exists: '/work/FAC/FBM/DBC/cdessim2/default/dmoi/projects/snake_tree/notebooks/lo/pdb3lor.ent' \n",
      "Structure exists: '/work/FAC/FBM/DBC/cdessim2/default/dmoi/projects/snake_tree/notebooks/zw/pdb5zwp.ent' \n",
      "Structure exists: '/work/FAC/FBM/DBC/cdessim2/default/dmoi/projects/snake_tree/notebooks/gh/pdb1gh2.ent' \n",
      "Structure exists: '/work/FAC/FBM/DBC/cdessim2/default/dmoi/projects/snake_tree/notebooks/wx/pdb4wxt.ent' \n",
      "Structure exists: '/work/FAC/FBM/DBC/cdessim2/default/dmoi/projects/snake_tree/notebooks/z6/pdb1z6n.ent' \n",
      "Structure exists: '/work/FAC/FBM/DBC/cdessim2/default/dmoi/projects/snake_tree/notebooks/dv/pdb4dvc.ent' \n",
      "Structure exists: '/work/FAC/FBM/DBC/cdessim2/default/dmoi/projects/snake_tree/notebooks/g1/pdb4g10.ent' \n",
      "Structure exists: '/work/FAC/FBM/DBC/cdessim2/default/dmoi/projects/snake_tree/notebooks/re/pdb2rem.ent' \n",
      "Structure exists: '/work/FAC/FBM/DBC/cdessim2/default/dmoi/projects/snake_tree/notebooks/u3/pdb1u3i.ent' \n",
      "Structure exists: '/work/FAC/FBM/DBC/cdessim2/default/dmoi/projects/snake_tree/notebooks/dc/pdb2dc5.ent' \n",
      "Structure exists: '/work/FAC/FBM/DBC/cdessim2/default/dmoi/projects/snake_tree/notebooks/wj/pdb1wjk.ent' \n",
      "Structure exists: '/work/FAC/FBM/DBC/cdessim2/default/dmoi/projects/snake_tree/notebooks/kc/pdb4kce.ent' \n",
      "Structure exists: '/work/FAC/FBM/DBC/cdessim2/default/dmoi/projects/snake_tree/notebooks/kn/pdb1kng.ent' \n",
      "Structure exists: '/work/FAC/FBM/DBC/cdessim2/default/dmoi/projects/snake_tree/notebooks/ag/pdb4ags.ent' \n",
      "Structure exists: '/work/FAC/FBM/DBC/cdessim2/default/dmoi/projects/snake_tree/notebooks/fw/pdb1fw1.ent' \n",
      "Structure exists: '/work/FAC/FBM/DBC/cdessim2/default/dmoi/projects/snake_tree/notebooks/pq/pdb4pqh.ent' \n",
      "Structure exists: '/work/FAC/FBM/DBC/cdessim2/default/dmoi/projects/snake_tree/notebooks/ow/pdb4owy.ent' \n",
      "Structure exists: '/work/FAC/FBM/DBC/cdessim2/default/dmoi/projects/snake_tree/notebooks/v1/pdb3v1w.ent' \n",
      "Structure exists: '/work/FAC/FBM/DBC/cdessim2/default/dmoi/projects/snake_tree/notebooks/ke/pdb4ke3.ent' \n",
      "Structure exists: '/work/FAC/FBM/DBC/cdessim2/default/dmoi/projects/snake_tree/notebooks/c7/pdb3c73.ent' \n",
      "Structure exists: '/work/FAC/FBM/DBC/cdessim2/default/dmoi/projects/snake_tree/notebooks/gx/pdb3gx8.ent' \n",
      "Structure exists: '/work/FAC/FBM/DBC/cdessim2/default/dmoi/projects/snake_tree/notebooks/l8/pdb4l8e.ent' \n",
      "Structure exists: '/work/FAC/FBM/DBC/cdessim2/default/dmoi/projects/snake_tree/notebooks/x6/pdb2x64.ent' \n",
      "Structure exists: '/work/FAC/FBM/DBC/cdessim2/default/dmoi/projects/snake_tree/notebooks/dm/pdb3dml.ent' \n",
      "Structure exists: '/work/FAC/FBM/DBC/cdessim2/default/dmoi/projects/snake_tree/notebooks/f0/pdb5f07.ent' \n",
      "Structure exists: '/work/FAC/FBM/DBC/cdessim2/default/dmoi/projects/snake_tree/notebooks/h5/pdb5h5l.ent' \n",
      "Structure exists: '/work/FAC/FBM/DBC/cdessim2/default/dmoi/projects/snake_tree/notebooks/kh/pdb4kh7.ent' \n",
      "Structure exists: '/work/FAC/FBM/DBC/cdessim2/default/dmoi/projects/snake_tree/notebooks/wd/pdb3wd6.ent' \n",
      "Structure exists: '/work/FAC/FBM/DBC/cdessim2/default/dmoi/projects/snake_tree/notebooks/v4/pdb2v41.ent' \n",
      "Structure exists: '/work/FAC/FBM/DBC/cdessim2/default/dmoi/projects/snake_tree/notebooks/mp/pdb4mpf.ent' \n",
      "Structure exists: '/work/FAC/FBM/DBC/cdessim2/default/dmoi/projects/snake_tree/notebooks/bb/pdb3bby.ent' \n",
      "Structure exists: '/work/FAC/FBM/DBC/cdessim2/default/dmoi/projects/snake_tree/notebooks/p2/pdb3p2a.ent' \n",
      "Structure exists: '/work/FAC/FBM/DBC/cdessim2/default/dmoi/projects/snake_tree/notebooks/m8/pdb3m8n.ent' \n",
      "Structure exists: '/work/FAC/FBM/DBC/cdessim2/default/dmoi/projects/snake_tree/notebooks/ca/pdb5cax.ent' \n",
      "Structure exists: '/work/FAC/FBM/DBC/cdessim2/default/dmoi/projects/snake_tree/notebooks/ls/pdb3lsz.ent' \n",
      "Structure exists: '/work/FAC/FBM/DBC/cdessim2/default/dmoi/projects/snake_tree/notebooks/f8/pdb2f8f.ent' \n",
      "Structure exists: '/work/FAC/FBM/DBC/cdessim2/default/dmoi/projects/snake_tree/notebooks/hw/pdb5hwl.ent' \n",
      "Structure exists: '/work/FAC/FBM/DBC/cdessim2/default/dmoi/projects/snake_tree/notebooks/mi/pdb3mix.ent' \n",
      "Structure exists: '/work/FAC/FBM/DBC/cdessim2/default/dmoi/projects/snake_tree/notebooks/al/pdb6alx.ent' \n",
      "Structure exists: '/work/FAC/FBM/DBC/cdessim2/default/dmoi/projects/snake_tree/notebooks/md/pdb4mdc.ent' \n",
      "Structure exists: '/work/FAC/FBM/DBC/cdessim2/default/dmoi/projects/snake_tree/notebooks/pp/pdb3ppu.ent' \n",
      "Structure exists: '/work/FAC/FBM/DBC/cdessim2/default/dmoi/projects/snake_tree/notebooks/uc/pdb5ucx.ent' \n",
      "Structure exists: '/work/FAC/FBM/DBC/cdessim2/default/dmoi/projects/snake_tree/notebooks/lo/pdb5lol.ent' \n",
      "Structure exists: '/work/FAC/FBM/DBC/cdessim2/default/dmoi/projects/snake_tree/notebooks/oo/pdb5oom.ent' \n",
      "Structure exists: '/work/FAC/FBM/DBC/cdessim2/default/dmoi/projects/snake_tree/notebooks/j9/pdb5j9c.ent' \n",
      "Structure exists: '/work/FAC/FBM/DBC/cdessim2/default/dmoi/projects/snake_tree/notebooks/mw/pdb6mws.ent' \n",
      "Structure exists: '/work/FAC/FBM/DBC/cdessim2/default/dmoi/projects/snake_tree/notebooks/t4/pdb1t4z.ent' \n",
      "Structure exists: '/work/FAC/FBM/DBC/cdessim2/default/dmoi/projects/snake_tree/notebooks/um/pdb3uma.ent' \n",
      "Structure exists: '/work/FAC/FBM/DBC/cdessim2/default/dmoi/projects/snake_tree/notebooks/ht/pdb2ht9.ent' \n",
      "Structure exists: '/work/FAC/FBM/DBC/cdessim2/default/dmoi/projects/snake_tree/notebooks/o0/pdb5o00.ent' \n",
      "Structure exists: '/work/FAC/FBM/DBC/cdessim2/default/dmoi/projects/snake_tree/notebooks/l5/pdb2l5o.ent' \n",
      "Structure exists: '/work/FAC/FBM/DBC/cdessim2/default/dmoi/projects/snake_tree/notebooks/to/pdb3tou.ent' \n",
      "Structure exists: '/work/FAC/FBM/DBC/cdessim2/default/dmoi/projects/snake_tree/notebooks/n8/pdb6n8u.ent' \n",
      "Structure exists: '/work/FAC/FBM/DBC/cdessim2/default/dmoi/projects/snake_tree/notebooks/pn/pdb1pn9.ent' \n",
      "Structure exists: '/work/FAC/FBM/DBC/cdessim2/default/dmoi/projects/snake_tree/notebooks/np/pdb2npb.ent' \n",
      "Downloading PDB structure '5jly'...\n",
      "Structure exists: '/work/FAC/FBM/DBC/cdessim2/default/dmoi/projects/snake_tree/notebooks/dr/pdb3drn.ent' \n",
      "Structure exists: '/work/FAC/FBM/DBC/cdessim2/default/dmoi/projects/snake_tree/notebooks/m1/pdb3m1g.ent' \n",
      "Structure exists: '/work/FAC/FBM/DBC/cdessim2/default/dmoi/projects/snake_tree/notebooks/lw/pdb3lw9.ent' \n",
      "Structure exists: '/work/FAC/FBM/DBC/cdessim2/default/dmoi/projects/snake_tree/notebooks/i2/pdb4i2u.ent' \n",
      "Structure exists: '/work/FAC/FBM/DBC/cdessim2/default/dmoi/projects/snake_tree/notebooks/on/pdb2on5.ent' \n",
      "Structure exists: '/work/FAC/FBM/DBC/cdessim2/default/dmoi/projects/snake_tree/notebooks/kx/pdb4kx4.ent' \n",
      "Structure exists: '/work/FAC/FBM/DBC/cdessim2/default/dmoi/projects/snake_tree/notebooks/r3/pdb2r37.ent' \n",
      "Structure exists: '/work/FAC/FBM/DBC/cdessim2/default/dmoi/projects/snake_tree/notebooks/pt/pdb4pts.ent' \n",
      "Structure exists: '/work/FAC/FBM/DBC/cdessim2/default/dmoi/projects/snake_tree/notebooks/sj/pdb1sji.ent' \n",
      "Structure exists: '/work/FAC/FBM/DBC/cdessim2/default/dmoi/projects/snake_tree/notebooks/yz/pdb2yzu.ent' \n",
      "Structure exists: '/work/FAC/FBM/DBC/cdessim2/default/dmoi/projects/snake_tree/notebooks/pn/pdb4png.ent' \n",
      "Structure exists: '/work/FAC/FBM/DBC/cdessim2/default/dmoi/projects/snake_tree/notebooks/uu/pdb5uuo.ent' \n",
      "Structure exists: '/work/FAC/FBM/DBC/cdessim2/default/dmoi/projects/snake_tree/notebooks/q5/pdb4q5n.ent' \n",
      "244\n",
      "250\n",
      "Downloading PDB structure '2feo'...\n",
      "Structure exists: '/work/FAC/FBM/DBC/cdessim2/default/dmoi/projects/snake_tree/notebooks/fv/pdb2fv8.ent' \n",
      "Downloading PDB structure '4m38'...\n",
      "Structure exists: '/work/FAC/FBM/DBC/cdessim2/default/dmoi/projects/snake_tree/notebooks/cd/pdb6cdk.ent' \n",
      "Downloading PDB structure '4urh'...\n",
      "Downloading PDB structure '4n54'...\n",
      "Downloading PDB structure '1i1h'...\n",
      "Structure exists: '/work/FAC/FBM/DBC/cdessim2/default/dmoi/projects/snake_tree/notebooks/hn/pdb3hn6.ent' \n",
      "Downloading PDB structure '3rag'...\n",
      "Downloading PDB structure '4eun'...\n",
      "Downloading PDB structure '6o44'...\n",
      "Structure exists: '/work/FAC/FBM/DBC/cdessim2/default/dmoi/projects/snake_tree/notebooks/wm/pdb3wmx.ent' \n",
      "Downloading PDB structure '1vhd'...\n",
      "Downloading PDB structure '4fkb'...\n",
      "Downloading PDB structure '5mdh'...\n",
      "Downloading PDB structure '1tvc'...\n",
      "Downloading PDB structure '5wq0'...\n",
      "Structure exists: '/work/FAC/FBM/DBC/cdessim2/default/dmoi/projects/snake_tree/notebooks/g0/pdb4g01.ent' \n",
      "Downloading PDB structure '3odp'...\n",
      "Downloading PDB structure '4maa'...\n",
      "Downloading PDB structure '4psu'...\n",
      "Downloading PDB structure '3a58'...\n",
      "Downloading PDB structure '2jcb'...\n",
      "Downloading PDB structure '5v0e'...\n",
      "Structure exists: '/work/FAC/FBM/DBC/cdessim2/default/dmoi/projects/snake_tree/notebooks/uk/pdb5ukd.ent' \n",
      "Downloading PDB structure '1pjz'...\n",
      "Downloading PDB structure '3k94'...\n",
      "Downloading PDB structure '3iqd'...\n",
      "Downloading PDB structure '6bj7'...\n",
      "Downloading PDB structure '3tix'...\n",
      "Downloading PDB structure '3a8t'...\n",
      "Structure exists: '/work/FAC/FBM/DBC/cdessim2/default/dmoi/projects/snake_tree/notebooks/iy/pdb4iyj.ent' \n",
      "Structure exists: '/work/FAC/FBM/DBC/cdessim2/default/dmoi/projects/snake_tree/notebooks/jg/pdb2jgd.ent' \n",
      "Downloading PDB structure '5fo1'...\n",
      "Downloading PDB structure '2dy0'...\n",
      "Downloading PDB structure '6eze'...\n",
      "Downloading PDB structure '1r8y'...\n",
      "Downloading PDB structure '3wds'...\n",
      "Downloading PDB structure '2ev9'...\n",
      "Downloading PDB structure '1z26'...\n",
      "Structure exists: '/work/FAC/FBM/DBC/cdessim2/default/dmoi/projects/snake_tree/notebooks/fw/pdb4fwt.ent' \n",
      "Downloading PDB structure '3s2u'...\n",
      "Downloading PDB structure '3cm0'...\n",
      "Downloading PDB structure '4j07'...\n",
      "Downloading PDB structure '3nfy'...\n",
      "Downloading PDB structure '1n5d'...\n",
      "Structure exists: '/work/FAC/FBM/DBC/cdessim2/default/dmoi/projects/snake_tree/notebooks/jf/pdb2jfw.ent' \n",
      "Downloading PDB structure '3v1y'...\n",
      "Downloading PDB structure '1qq7'...\n",
      "Downloading PDB structure '3euw'...\n",
      "Structure exists: '/work/FAC/FBM/DBC/cdessim2/default/dmoi/projects/snake_tree/notebooks/mc/pdb1mc1.ent' \n",
      "Downloading PDB structure '2fj0'...\n",
      "Downloading PDB structure '5k9t'...\n",
      "Downloading PDB structure '4hhe'...\n",
      "Structure exists: '/work/FAC/FBM/DBC/cdessim2/default/dmoi/projects/snake_tree/notebooks/jv/pdb4jvs.ent' \n",
      "Downloading PDB structure '5uof'...\n",
      "Downloading PDB structure '4zke'...\n",
      "Downloading PDB structure '2qyo'...\n",
      "Downloading PDB structure '3eaf'...\n",
      "Downloading PDB structure '3ngx'...\n",
      "Downloading PDB structure '2pln'...\n",
      "Downloading PDB structure '3g7s'...\n",
      "Downloading PDB structure '4j2o'...\n",
      "Downloading PDB structure '5evc'...\n",
      "Downloading PDB structure '3loq'...\n",
      "Downloading PDB structure '3emd'...\n",
      "Downloading PDB structure '4blt'...\n",
      "Downloading PDB structure '2ph7'...\n",
      "Downloading PDB structure '3f2v'...\n",
      "Downloading PDB structure '5v0i'...\n",
      "Downloading PDB structure '4mcj'...\n",
      "Downloading PDB structure '4r01'...\n",
      "Downloading PDB structure '4hbz'...\n",
      "Downloading PDB structure '3h7a'...\n",
      "Downloading PDB structure '2cwd'...\n",
      "Downloading PDB structure '4zoe'...\n",
      "Downloading PDB structure '1zmb'...\n",
      "Downloading PDB structure '1rye'...\n",
      "Downloading PDB structure '3ce9'...\n",
      "Structure exists: '/work/FAC/FBM/DBC/cdessim2/default/dmoi/projects/snake_tree/notebooks/p7/pdb1p75.ent' \n",
      "Downloading PDB structure '4xwa'...\n",
      "Downloading PDB structure '2p1r'...\n",
      "Downloading PDB structure '4wbs'...\n",
      "Downloading PDB structure '3jwj'...\n",
      "Downloading PDB structure '3q85'...\n",
      "Downloading PDB structure '2rfl'...\n",
      "Downloading PDB structure '3a4i'...\n",
      "Downloading PDB structure '4rk0'...\n",
      "Downloading PDB structure '4w9r'...\n",
      "Downloading PDB structure '3d7l'...\n",
      "Downloading PDB structure '4oks'...\n",
      "Downloading PDB structure '3ewn'...\n",
      "Downloading PDB structure '6h9s'...\n",
      "Downloading PDB structure '1od6'...\n",
      "Downloading PDB structure '5bt9'...\n",
      "Structure exists: '/work/FAC/FBM/DBC/cdessim2/default/dmoi/projects/snake_tree/notebooks/lo/pdb3lop.ent' \n",
      "Structure exists: '/work/FAC/FBM/DBC/cdessim2/default/dmoi/projects/snake_tree/notebooks/j9/pdb4j9v.ent' \n",
      "Downloading PDB structure '3rot'...\n",
      "Downloading PDB structure '5ikm'...\n",
      "Downloading PDB structure '2rbk'...\n",
      "Structure exists: '/work/FAC/FBM/DBC/cdessim2/default/dmoi/projects/snake_tree/notebooks/r5/pdb3r5t.ent' \n",
      "Downloading PDB structure '2q0x'...\n",
      "Structure exists: '/work/FAC/FBM/DBC/cdessim2/default/dmoi/projects/snake_tree/notebooks/ej/pdb1ej6.ent' \n",
      "133\n",
      "119\n",
      "250\n",
      "Downloading PDB structure '4nja'...\n",
      "Downloading PDB structure '6e9u'...\n",
      "Structure exists: '/work/FAC/FBM/DBC/cdessim2/default/dmoi/projects/snake_tree/notebooks/nu/pdb4nug.ent' \n",
      "Downloading PDB structure '1ynt'...\n",
      "Downloading PDB structure '1ut9'...\n",
      "Structure exists: '/work/FAC/FBM/DBC/cdessim2/default/dmoi/projects/snake_tree/notebooks/r4/pdb3r4d.ent' \n",
      "Downloading PDB structure '1tfp'...\n",
      "Downloading PDB structure '3uxf'...\n",
      "Structure exists: '/work/FAC/FBM/DBC/cdessim2/default/dmoi/projects/snake_tree/notebooks/mj/pdb6mjq.ent' \n",
      "Downloading PDB structure '5x7u'...\n",
      "Downloading PDB structure '3mj7'...\n",
      "Downloading PDB structure '1ngw'...\n",
      "Downloading PDB structure '3rpk'...\n",
      "Downloading PDB structure '4j3o'...\n",
      "Downloading PDB structure '3mpc'...\n",
      "Downloading PDB structure '1pgr'...\n",
      "Downloading PDB structure '2w92'...\n",
      "Structure exists: '/work/FAC/FBM/DBC/cdessim2/default/dmoi/projects/snake_tree/notebooks/fe/pdb4fem.ent' \n",
      "Structure exists: '/work/FAC/FBM/DBC/cdessim2/default/dmoi/projects/snake_tree/notebooks/s6/pdb3s6c.ent' \n",
      "Downloading PDB structure '5vpl'...\n",
      "Downloading PDB structure '3c12'...\n",
      "Downloading PDB structure '2msp'...\n",
      "Downloading PDB structure '4zxb'...\n",
      "Structure exists: '/work/FAC/FBM/DBC/cdessim2/default/dmoi/projects/snake_tree/notebooks/tt/pdb5tth.ent' \n",
      "Downloading PDB structure '3kbh'...\n",
      "Downloading PDB structure '5x5w'...\n",
      "Structure exists: '/work/FAC/FBM/DBC/cdessim2/default/dmoi/projects/snake_tree/notebooks/z7/pdb4z7a.ent' \n",
      "Downloading PDB structure '3hs8'...\n",
      "Downloading PDB structure '2jqa'...\n",
      "Downloading PDB structure '2k3h'...\n",
      "Downloading PDB structure '3q2c'...\n",
      "Downloading PDB structure '5e70'...\n",
      "Downloading PDB structure '2l0d'...\n",
      "Structure exists: '/work/FAC/FBM/DBC/cdessim2/default/dmoi/projects/snake_tree/notebooks/j7/pdb5j7n.ent' \n",
      "Downloading PDB structure '6j8j'...\n",
      "Downloading PDB structure '4gos'...\n",
      "Downloading PDB structure '3grw'...\n",
      "Structure exists: '/work/FAC/FBM/DBC/cdessim2/default/dmoi/projects/snake_tree/notebooks/mj/pdb6mjq.ent' \n",
      "Structure exists: '/work/FAC/FBM/DBC/cdessim2/default/dmoi/projects/snake_tree/notebooks/ig/pdb3igf.ent' \n",
      "Downloading PDB structure '6fab'...\n",
      "Structure exists: '/work/FAC/FBM/DBC/cdessim2/default/dmoi/projects/snake_tree/notebooks/f5/pdb2f58.ent' \n",
      "Downloading PDB structure '1qbb'...\n",
      "Structure exists: '/work/FAC/FBM/DBC/cdessim2/default/dmoi/projects/snake_tree/notebooks/rv/pdb1rvf.ent' \n",
      "Downloading PDB structure '2y7q'...\n",
      "Downloading PDB structure '1ogp'...\n",
      "Downloading PDB structure '4oja'...\n",
      "Downloading PDB structure '4m29'...\n",
      "Downloading PDB structure '3hs9'...\n"
     ]
    }
   ],
   "source": [
    "from src import AFDB_tools\n",
    "import os\n",
    "import shutil\n",
    "import random\n",
    "import glob\n",
    "\n",
    "\n",
    "\n",
    "#datapath = '../CATH_data/'\n",
    "\n",
    "datapath = '../CAT_data/'\n",
    "\n",
    "nprots = 250\n",
    "fams = 2000\n",
    "clear = False\n",
    "total = 0\n",
    "lengths = []\n",
    "#iterate over all superfamilies and create a tree for each\n",
    "if not os.path.exists(datapath):\n",
    "    os.mkdir(datapath)\n",
    "\n",
    "if clear == True:\n",
    "    print('clearing folders')\n",
    "    for folder in [datapath]:\n",
    "        subfolders = glob.glob(folder+'*/')\n",
    "        for sub in subfolders:\n",
    "            shutil.rmtree(sub)\n",
    "\n",
    "for i,superfam in enumerate(siftsdf.CAT.unique()):\n",
    "    if not os.path.exists(datapath+superfam):\n",
    "        os.mkdir(datapath+superfam)\n",
    "    #create a tree for each superfam\n",
    "    #sample 1000 proteins from the superfam\n",
    "    sub = siftsdf[siftsdf.CAT == superfam]\n",
    "    prots = list( set(sub['SP_PRIMARY'].unique()) )\n",
    "    #output the sequence dataset to a file\n",
    "    #create a folder for the superfam if it does not exist\n",
    "    #output the uniport ids to a file\n",
    "    if len(prots)> 100:\n",
    "        random.shuffle(prots)\n",
    "        prots = prots[:nprots]\n",
    "        print(len(prots))\n",
    "        \n",
    "        \n",
    "        lengths.append(len(prots))\n",
    "        total+=1\n",
    "        with open(datapath+superfam+'/identifiers.txt', 'w') as f:\n",
    "            f.write('\\n'.join( prots ))\n",
    "            \n",
    "        if not os.path.exists(datapath+superfam+'/structs/'):\n",
    "            os.mkdir(datapath+superfam+'/structs/')\n",
    "        protdict = dict(zip( sub['SP_PRIMARY'] , sub.PDB ))\n",
    "        protdict = {p:protdict[p] for p in prots }\n",
    "        chaindict = dict(zip( sub['SP_PRIMARY'] , sub.CHAIN ))\n",
    "        [ dlchain(pdb, chaindict[unid] , datapath+superfam+'/structs/'+unid.upper()+'.pdb') for unid,pdb in protdict.items() ] \n",
    "print('done', total)\n",
    "plt.hist(lengths)\n",
    "plt.show()\n"
   ]
  },
  {
   "cell_type": "code",
   "execution_count": null,
   "id": "eec35c97-0035-4e2f-8f4a-44aeb22dce45",
   "metadata": {},
   "outputs": [],
   "source": [
    "from src import AFDB_tools\n",
    "import os\n",
    "import shutil\n",
    "import random\n",
    "import glob\n",
    "\n",
    "datapath = '../CATH_data/'\n",
    "unfiltered = '../CATH_data_unfiltered/'\n",
    "\n",
    "nprots = 500\n",
    "fams = 2000\n",
    "clear = True\n",
    "total = 0\n",
    "lengths = []\n",
    "#iterate over all superfamilies and create a tree for each\n",
    "if not os.path.exists(datapath):\n",
    "    os.mkdir(datapath)\n",
    "if not os.path.exists(unfiltered):\n",
    "    os.mkdir(unfiltered)\n",
    "    \n",
    "if clear == True:\n",
    "    print('clearing folders')\n",
    "    for folder in [datapath,unfiltered]:\n",
    "        subfolders = glob.glob(folder+'*/')\n",
    "        for sub in subfolders:\n",
    "            shutil.rmtree(sub)\n",
    "\n",
    "for i,superfam in enumerate(siftsdf.superfam.unique()):\n",
    "    if not os.path.exists(datapath+superfam):\n",
    "        os.mkdir(datapath+superfam)\n",
    "    if not os.path.exists(unfiltered+superfam):\n",
    "        os.mkdir(unfiltered+superfam)\n",
    "    #create a tree for each superfam\n",
    "    #sample 1000 proteins from the superfam\n",
    "    sub = siftsdf[siftsdf.superfam == superfam]\n",
    "    prots = list( set(sub['SP_PRIMARY'].unique()) )\n",
    "    #output the sequence dataset to a file\n",
    "    #create a folder for the superfam if it does not exist\n",
    "    #output the uniport ids to a file\n",
    "    if len(prots)> 100:\n",
    "        random.shuffle(prots)\n",
    "        prots = prots[:nprots]\n",
    "        print(len(prots))\n",
    "        lengths.append(len(prots))\n",
    "        total+=1\n",
    "        with open(datapath+superfam+'/identifiers.txt', 'w') as f:\n",
    "            f.write('\\n'.join( prots ))\n",
    "        with open(unfiltered+superfam+'/identifiers.txt', 'w') as f:\n",
    "            f.write('\\n'.join( prots ))\n",
    "print('done', total)\n",
    "plt.hist(lengths)\n",
    "plt.show()\n"
   ]
  },
  {
   "cell_type": "code",
   "execution_count": null,
   "id": "7d9c2c39-5f4e-4700-ab09-118199493ecb",
   "metadata": {},
   "outputs": [],
   "source": [
    "scopdf = pd.read_csv('../SCOP_data/pdb_chain_scop_uniprot.csv')\n",
    "print(scopdf)"
   ]
  },
  {
   "cell_type": "code",
   "execution_count": null,
   "id": "f617a707-4eef-44fd-a9ee-18e154f08c4c",
   "metadata": {},
   "outputs": [
    {
     "name": "stdout",
     "output_type": "stream",
     "text": [
      "       FA-DOMID FA-PDBID    FA-PDBREG FA-UNIID  FA-UNIREG  SF-DOMID SF-PDBID  \\\n",
      "0       8045703     3H8D  C:1143-1264   Q64331  1143-1264   8091604     3H8D   \n",
      "1       8094330     6J56  A:1158-1282   Q9UM54  1167-1291   8094331     6J56   \n",
      "2       8017835     3FKQ      A:1-116   D0VX10      1-116   8017836     3FKQ   \n",
      "3       8021315     1XHF      A:2-122   P0A9Q1      2-122   8033695     1XHF   \n",
      "4       8021787     1Y7P     B:79-215   O28869     79-215   8034167     1Y7P   \n",
      "...         ...      ...          ...      ...        ...       ...      ...   \n",
      "36895   8022870     1SCJ    B:307-377   P04189     36-106   8035250     1SCJ   \n",
      "36896   8027500     1T1E     A:12-188   Q8RR56     12-188   8039879     1T1E   \n",
      "36897   8027593     1JQG    A:4P-100P   O97389     18-109   8039972     1JQG   \n",
      "36898   8028119     1KN6       A:4-76   P63239     31-103   8040498     1KN6   \n",
      "36899   8028297     1KWM     A:1A-95A   P15086     16-110   8040676     1KWM   \n",
      "\n",
      "         SF-PDBREG SF-UNIID  SF-UNIREG  \\\n",
      "0      C:1143-1264   Q64331  1143-1264   \n",
      "1      A:1158-1282   Q9UM54  1167-1291   \n",
      "2          A:1-116   D0VX10      1-116   \n",
      "3          A:2-122   P0A9Q1      2-122   \n",
      "4         B:79-215   O28869     79-215   \n",
      "...            ...      ...        ...   \n",
      "36895    B:307-377   P04189     36-106   \n",
      "36896     A:12-188   Q8RR56     12-188   \n",
      "36897    A:4P-100P   O97389     18-109   \n",
      "36898       A:4-76   P63239     31-103   \n",
      "36899     A:1A-95A   P15086     16-110   \n",
      "\n",
      "                                                SCOPCLA          SF  \n",
      "0      TP=1,CL=1000003,CF=2001470,SF=3002524,FA=4004627  SF=3002524  \n",
      "1      TP=1,CL=1000003,CF=2001470,SF=3002524,FA=4004627  SF=3002524  \n",
      "2      TP=1,CL=1000002,CF=2000016,SF=3001156,FA=4003986  SF=3001156  \n",
      "3      TP=1,CL=1000002,CF=2000016,SF=3001156,FA=4003632  SF=3001156  \n",
      "4      TP=1,CL=1000002,CF=2000016,SF=3001156,FA=4002481  SF=3001156  \n",
      "...                                                 ...         ...  \n",
      "36895  TP=1,CL=1000003,CF=2000014,SF=3001155,FA=4001246  SF=3001155  \n",
      "36896  TP=1,CL=1000003,CF=2000014,SF=3001155,FA=4001246  SF=3001155  \n",
      "36897  TP=1,CL=1000003,CF=2000014,SF=3001155,FA=4001250  SF=3001155  \n",
      "36898  TP=1,CL=1000003,CF=2000014,SF=3001155,FA=4002630  SF=3001155  \n",
      "36899  TP=1,CL=1000003,CF=2000014,SF=3001155,FA=4001250  SF=3001155  \n",
      "\n",
      "[36900 rows x 12 columns]\n"
     ]
    },
    {
     "data": {
      "text/plain": [
       "(array([485.,  72.,  31.,  13.,   7.,   2.,   6.,   1.,   2.,   1.]),\n",
       " array([ 11. ,  61.7, 112.4, 163.1, 213.8, 264.5, 315.2, 365.9, 416.6,\n",
       "        467.3, 518. ]),\n",
       " <BarContainer object of 10 artists>)"
      ]
     },
     "execution_count": 33,
     "metadata": {},
     "output_type": "execute_result"
    },
    {
     "data": {
      "image/png": "[encoded data removed]",
      "text/plain": [
       "<Figure size 640x480 with 1 Axes>"
      ]
     },
     "metadata": {},
     "output_type": "display_data"
    }
   ],
   "source": [
    "scopdf = pd.read_csv('../SCOP_data/scop-cla-latest.txt', header = None, comment= '#' , sep = ' ')\n",
    "scopdf.columns = 'FA-DOMID FA-PDBID FA-PDBREG FA-UNIID FA-UNIREG SF-DOMID SF-PDBID SF-PDBREG SF-UNIID SF-UNIREG SCOPCLA'.split()\n",
    "scopdf['SF'] = scopdf['SCOPCLA'].map( lambda x : ''.join(x.split(',')[0-2]) )\n",
    "print(scopdf)\n",
    "\n",
    "vc = scopdf.SF.value_counts()\n",
    "plt.hist( vc[vc>10])\n"
   ]
  },
  {
   "cell_type": "code",
   "execution_count": null,
   "id": "45aab2af-036f-4095-9539-d536fa21048b",
   "metadata": {},
   "outputs": [
    {
     "name": "stdout",
     "output_type": "stream",
     "text": [
      "done 64\n"
     ]
    },
    {
     "data": {
      "image/png": "[encoded data removed]",
      "text/plain": [
       "<Figure size 640x480 with 1 Axes>"
      ]
     },
     "metadata": {},
     "output_type": "display_data"
    }
   ],
   "source": [
    "from src import AFDB_tools\n",
    "import os\n",
    "datapath = '../SCOP_data/'\n",
    "nprots = 500\n",
    "fams = 2000\n",
    "total = 0\n",
    "lengths = []\n",
    "#iterate over all superfamilies and create a tree for each\n",
    "\n",
    "if not os.path.exists(datapath):\n",
    "    os.mkdir(datapath)\n",
    "    \n",
    "for i,superfam in enumerate(scopdf.SF.unique()):\n",
    "    if not os.path.exists(datapath+superfam):\n",
    "        os.mkdir(datapath+superfam)\n",
    "\n",
    "    #create a tree for each superfam\n",
    "    #sample 1000 proteins from the superfam\n",
    "    sub = scopdf[scopdf.SF == superfam]\n",
    "    prots = list(sub['SF-UNIID'].unique())\n",
    "    prots = prots[:nprots]\n",
    "    #output the sequence dataset to a file\n",
    "    #create a folder for the superfam if it does not exist\n",
    "    #output the uniport ids to a file\n",
    "    if len(prots)> 100:\n",
    "        lengths.append(len(prots))\n",
    "        total+=1\n",
    "        with open(datapath+superfam+'/identifiers.txt', 'w') as f:\n",
    "            f.write('\\n'.join( prots ))\n",
    "print('done', total)\n",
    "plt.hist(lengths)\n",
    "plt.show()\n"
   ]
  },
  {
   "cell_type": "code",
   "execution_count": 38,
   "id": "bcb0eaeb-bae9-430f-9b15-85a0687ac9d2",
   "metadata": {},
   "outputs": [
    {
     "name": "stdout",
     "output_type": "stream",
     "text": [
      "../../../datasets/Structure_Trees_mk2/Bacteria/\n"
     ]
    },
    {
     "name": "stderr",
     "output_type": "stream",
     "text": [
      "100%|██████████| 671/671 [00:20<00:00, 32.43it/s]\n"
     ]
    },
    {
     "name": "stdout",
     "output_type": "stream",
     "text": [
      "../../../datasets/Structure_Trees_mk2/LUCA/\n"
     ]
    },
    {
     "name": "stderr",
     "output_type": "stream",
     "text": [
      "100%|██████████| 1392/1392 [00:33<00:00, 42.02it/s]\n"
     ]
    },
    {
     "name": "stdout",
     "output_type": "stream",
     "text": [
      "../../../datasets/Structure_Trees_mk2/Euteleostomi/\n"
     ]
    },
    {
     "name": "stderr",
     "output_type": "stream",
     "text": [
      "100%|██████████| 3267/3267 [01:22<00:00, 39.54it/s]\n"
     ]
    },
    {
     "name": "stdout",
     "output_type": "stream",
     "text": [
      "../../../datasets/Structure_Trees_mk2/Eumetazoa/\n"
     ]
    },
    {
     "name": "stderr",
     "output_type": "stream",
     "text": [
      "100%|██████████| 1568/1568 [00:35<00:00, 43.59it/s]\n"
     ]
    },
    {
     "name": "stdout",
     "output_type": "stream",
     "text": [
      "../../../datasets/Structure_Trees_mk2/Chordata/\n"
     ]
    },
    {
     "name": "stderr",
     "output_type": "stream",
     "text": [
      "100%|██████████| 1038/1038 [00:27<00:00, 37.52it/s]\n"
     ]
    },
    {
     "name": "stdout",
     "output_type": "stream",
     "text": [
      "../../../datasets/Structure_Trees_mk2/Tetrapoda/\n"
     ]
    },
    {
     "name": "stderr",
     "output_type": "stream",
     "text": [
      "100%|██████████| 359/359 [00:08<00:00, 42.78it/s]\n"
     ]
    },
    {
     "name": "stdout",
     "output_type": "stream",
     "text": [
      "../../../datasets/Structure_Trees_mk2/Opisthokonta/\n"
     ]
    },
    {
     "name": "stderr",
     "output_type": "stream",
     "text": [
      "100%|██████████| 662/662 [00:15<00:00, 42.24it/s]\n"
     ]
    },
    {
     "name": "stdout",
     "output_type": "stream",
     "text": [
      "../../../datasets/Structure_Trees_mk2/Dikarya/\n"
     ]
    },
    {
     "name": "stderr",
     "output_type": "stream",
     "text": [
      "100%|██████████| 186/186 [00:07<00:00, 26.55it/s]\n"
     ]
    },
    {
     "name": "stdout",
     "output_type": "stream",
     "text": [
      "../../../datasets/Structure_Trees_mk2/Fungi/\n"
     ]
    },
    {
     "name": "stderr",
     "output_type": "stream",
     "text": [
      "100%|██████████| 138/138 [00:03<00:00, 39.10it/s]\n"
     ]
    },
    {
     "name": "stdout",
     "output_type": "stream",
     "text": [
      "../../../datasets/Structure_Trees_mk2/Bilateria/\n"
     ]
    },
    {
     "name": "stderr",
     "output_type": "stream",
     "text": [
      "100%|██████████| 1033/1033 [00:27<00:00, 37.12it/s]\n"
     ]
    },
    {
     "name": "stdout",
     "output_type": "stream",
     "text": [
      "../../../datasets/Structure_Trees_mk2/Eukaryota/\n"
     ]
    },
    {
     "name": "stderr",
     "output_type": "stream",
     "text": [
      "100%|██████████| 3218/3218 [02:23<00:00, 22.41it/s]\n"
     ]
    },
    {
     "name": "stdout",
     "output_type": "stream",
     "text": [
      "{'../../../datasets/Structure_Trees_mk2/Bacteria/': 610, '../../../datasets/Structure_Trees_mk2/LUCA/': 1307, '../../../datasets/Structure_Trees_mk2/Euteleostomi/': 3007, '../../../datasets/Structure_Trees_mk2/Eumetazoa/': 1530, '../../../datasets/Structure_Trees_mk2/Chordata/': 1008, '../../../datasets/Structure_Trees_mk2/Tetrapoda/': 165, '../../../datasets/Structure_Trees_mk2/Opisthokonta/': 648, '../../../datasets/Structure_Trees_mk2/Dikarya/': 131, '../../../datasets/Structure_Trees_mk2/Fungi/': 117, '../../../datasets/Structure_Trees_mk2/Bilateria/': 1003, '../../../datasets/Structure_Trees_mk2/Eukaryota/': 3110}\n"
     ]
    },
    {
     "data": {
      "image/png": "[encoded data removed]",
      "text/plain": [
       "<Figure size 640x480 with 1 Axes>"
      ]
     },
     "metadata": {},
     "output_type": "display_data"
    }
   ],
   "source": [
    "#subsample the oma folders\n",
    "\n",
    "import os\n",
    "import shutil\n",
    "import random\n",
    "import glob\n",
    "from tqdm import tqdm\n",
    "from matplotlib import pyplot as plt\n",
    "\n",
    "\n",
    "\n",
    "#path to the oma folder\n",
    "path = '../../../datasets/Structure_Trees_mk2/*/'\n",
    "#path to the output folder\n",
    "outpath = '../OMA_data/'\n",
    "\n",
    "#make the output folder if it does not exist\n",
    "if not os.path.exists(outpath):\n",
    "    os.mkdir(outpath)\n",
    "\n",
    "#number of proteins to sample\n",
    "min_prots = 10\n",
    "#number of superfamilies to sample\n",
    "fams = 2000\n",
    "\n",
    "superfams={}\n",
    "#iterate over all superfamilies and compile an identifiers.txt file in the output folder\n",
    "for clade in glob.glob(path):\n",
    "    print(clade)\n",
    "    if clade not in superfams:\n",
    "        superfams[clade] = {}\n",
    "    #stores length of each superfam\n",
    "    superfam = set(glob.glob(clade+'*/'))-set([clade + 'logs/'])\n",
    "    #use tqdm progress bar\n",
    "    for s in tqdm(superfam):\n",
    "        \n",
    "        with open(clade+s+'identifiers.txt', 'r') as f:\n",
    "                nprots = len(f.readlines())\n",
    "        if nprots > min_prots:\n",
    "            superfams[clade][s] = nprots\n",
    "lengths = { c:len(superfams[c]) for c in superfams}\n",
    "print(lengths)\n",
    "plt.hist(list(lengths.values()))\n",
    "plt.show()\n"
   ]
  },
  {
   "cell_type": "code",
   "execution_count": 58,
   "id": "9c073b42",
   "metadata": {},
   "outputs": [
    {
     "name": "stdout",
     "output_type": "stream",
     "text": [
      "117\n",
      "../../../datasets/Structure_Trees_mk2/Bacteria/\n"
     ]
    },
    {
     "name": "stderr",
     "output_type": "stream",
     "text": [
      "100%|██████████| 117/117 [00:00<00:00, 438.17it/s]\n"
     ]
    },
    {
     "name": "stdout",
     "output_type": "stream",
     "text": [
      "../../../datasets/Structure_Trees_mk2/LUCA/\n"
     ]
    },
    {
     "name": "stderr",
     "output_type": "stream",
     "text": [
      "100%|██████████| 117/117 [00:00<00:00, 32842.56it/s]\n"
     ]
    },
    {
     "name": "stdout",
     "output_type": "stream",
     "text": [
      "../../../datasets/Structure_Trees_mk2/Euteleostomi/\n"
     ]
    },
    {
     "name": "stderr",
     "output_type": "stream",
     "text": [
      "100%|██████████| 117/117 [00:00<00:00, 37731.32it/s]\n"
     ]
    },
    {
     "name": "stdout",
     "output_type": "stream",
     "text": [
      "../../../datasets/Structure_Trees_mk2/Eumetazoa/\n"
     ]
    },
    {
     "name": "stderr",
     "output_type": "stream",
     "text": [
      "100%|██████████| 117/117 [00:00<00:00, 20771.79it/s]\n"
     ]
    },
    {
     "name": "stdout",
     "output_type": "stream",
     "text": [
      "../../../datasets/Structure_Trees_mk2/Chordata/\n"
     ]
    },
    {
     "name": "stderr",
     "output_type": "stream",
     "text": [
      "100%|██████████| 117/117 [00:00<00:00, 9890.23it/s]\n"
     ]
    },
    {
     "name": "stdout",
     "output_type": "stream",
     "text": [
      "../../../datasets/Structure_Trees_mk2/Tetrapoda/\n"
     ]
    },
    {
     "name": "stderr",
     "output_type": "stream",
     "text": [
      "100%|██████████| 117/117 [00:00<00:00, 8259.70it/s]\n"
     ]
    },
    {
     "name": "stdout",
     "output_type": "stream",
     "text": [
      "../../../datasets/Structure_Trees_mk2/Opisthokonta/\n"
     ]
    },
    {
     "name": "stderr",
     "output_type": "stream",
     "text": [
      "100%|██████████| 117/117 [00:00<00:00, 6208.99it/s]\n"
     ]
    },
    {
     "name": "stdout",
     "output_type": "stream",
     "text": [
      "../../../datasets/Structure_Trees_mk2/Dikarya/\n"
     ]
    },
    {
     "name": "stderr",
     "output_type": "stream",
     "text": [
      "100%|██████████| 117/117 [00:00<00:00, 23739.05it/s]\n"
     ]
    },
    {
     "name": "stdout",
     "output_type": "stream",
     "text": [
      "../../../datasets/Structure_Trees_mk2/Fungi/\n"
     ]
    },
    {
     "name": "stderr",
     "output_type": "stream",
     "text": [
      "100%|██████████| 117/117 [00:00<00:00, 9641.32it/s]\n"
     ]
    },
    {
     "name": "stdout",
     "output_type": "stream",
     "text": [
      "../../../datasets/Structure_Trees_mk2/Bilateria/\n"
     ]
    },
    {
     "name": "stderr",
     "output_type": "stream",
     "text": [
      "100%|██████████| 117/117 [00:00<00:00, 927.61it/s]\n"
     ]
    },
    {
     "name": "stdout",
     "output_type": "stream",
     "text": [
      "../../../datasets/Structure_Trees_mk2/Eukaryota/\n"
     ]
    },
    {
     "name": "stderr",
     "output_type": "stream",
     "text": [
      "100%|██████████| 117/117 [00:00<00:00, 331.71it/s]\n"
     ]
    }
   ],
   "source": [
    "minlen = min(list(lengths.values()) )\n",
    "print(minlen)\n",
    "#clear output directory\n",
    "\n",
    "\n",
    "#sample the superfamilies\n",
    "for clade in superfams:\n",
    "    cladestr = clade.split('/')[-2]+'/'\n",
    "    if not os.path.isdir(outpath+cladestr):\n",
    "        os.mkdir(outpath+cladestr)\n",
    "    print(clade)\n",
    "    superfams[clade] = random.sample( list(superfams[clade]) , minlen)\n",
    "    for s in tqdm(superfams[clade]):\n",
    "        #copy the files to the output folder\n",
    "        superfam = s.split('/')[-2]+'/'\n",
    "        if not os.path.exists(outpath+cladestr+superfam):\n",
    "            os.mkdir(outpath+cladestr+superfam)\n",
    "            shutil.copy(s+'identifiers.txt', outpath+cladestr+superfam+'identifiers.txt')\n"
   ]
  },
  {
   "cell_type": "code",
   "execution_count": null,
   "id": "e0793dd2",
   "metadata": {},
   "outputs": [],
   "source": []
  }
 ],
 "metadata": {
  "kernelspec": {
   "display_name": "Python 3 (ipykernel)",
   "language": "python",
   "name": "python3"
  },
  "language_info": {
   "codemirror_mode": {
    "name": "ipython",
    "version": 3
   },
   "file_extension": ".py",
   "mimetype": "text/x-python",
   "name": "python",
   "nbconvert_exporter": "python",
   "pygments_lexer": "ipython3",
   "version": "3.10.8"
  },
  "vscode": {
   "interpreter": {
    "hash": "de5d7f200d48311110fd5aad35b72e9d2d5b7cd2d05319e69d8eae45c81b4a25"
   }
  }
 },
 "nbformat": 4,
 "nbformat_minor": 5
}
