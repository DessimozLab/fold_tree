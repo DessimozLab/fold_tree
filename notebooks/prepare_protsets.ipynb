{
 "cells": [
  {
   "cell_type": "code",
   "execution_count": 1,
   "id": "b2012693-c6a3-4b72-bf8f-d657e3983ded",
   "metadata": {},
   "outputs": [],
   "source": [
    "%load_ext autoreload\n",
    "%autoreload 2"
   ]
  },
  {
   "cell_type": "code",
   "execution_count": 1,
   "id": "9cf13a9a-2970-432c-a45b-91dbf077f11b",
   "metadata": {},
   "outputs": [],
   "source": [
    "import sys\n",
    "sys.path.append('../')\n",
    "from src import AFDB_tools, treescore , foldseek2tree\n",
    "import pandas as pd\n",
    "import torch"
   ]
  },
  {
   "cell_type": "code",
   "execution_count": 2,
   "id": "1a7d7f38",
   "metadata": {},
   "outputs": [],
   "source": [
    "from src import AFDB_tools\n",
    "import os\n",
    "import shutil\n",
    "import random\n",
    "import wget\n",
    "import glob\n",
    "from tqdm import tqdm\n"
   ]
  },
  {
   "cell_type": "code",
   "execution_count": null,
   "id": "7d9c2c39-5f4e-4700-ab09-118199493ecb",
   "metadata": {},
   "outputs": [],
   "source": [
    "scopdf = pd.read_csv('../SCOP_data/pdb_chain_scop_uniprot.csv')\n",
    "print(scopdf)"
   ]
  },
  {
   "cell_type": "code",
   "execution_count": null,
   "id": "f617a707-4eef-44fd-a9ee-18e154f08c4c",
   "metadata": {},
   "outputs": [
    {
     "name": "stdout",
     "output_type": "stream",
     "text": [
      "       FA-DOMID FA-PDBID    FA-PDBREG FA-UNIID  FA-UNIREG  SF-DOMID SF-PDBID  \\\n",
      "0       8045703     3H8D  C:1143-1264   Q64331  1143-1264   8091604     3H8D   \n",
      "1       8094330     6J56  A:1158-1282   Q9UM54  1167-1291   8094331     6J56   \n",
      "2       8017835     3FKQ      A:1-116   D0VX10      1-116   8017836     3FKQ   \n",
      "3       8021315     1XHF      A:2-122   P0A9Q1      2-122   8033695     1XHF   \n",
      "4       8021787     1Y7P     B:79-215   O28869     79-215   8034167     1Y7P   \n",
      "...         ...      ...          ...      ...        ...       ...      ...   \n",
      "36895   8022870     1SCJ    B:307-377   P04189     36-106   8035250     1SCJ   \n",
      "36896   8027500     1T1E     A:12-188   Q8RR56     12-188   8039879     1T1E   \n",
      "36897   8027593     1JQG    A:4P-100P   O97389     18-109   8039972     1JQG   \n",
      "36898   8028119     1KN6       A:4-76   P63239     31-103   8040498     1KN6   \n",
      "36899   8028297     1KWM     A:1A-95A   P15086     16-110   8040676     1KWM   \n",
      "\n",
      "         SF-PDBREG SF-UNIID  SF-UNIREG  \\\n",
      "0      C:1143-1264   Q64331  1143-1264   \n",
      "1      A:1158-1282   Q9UM54  1167-1291   \n",
      "2          A:1-116   D0VX10      1-116   \n",
      "3          A:2-122   P0A9Q1      2-122   \n",
      "4         B:79-215   O28869     79-215   \n",
      "...            ...      ...        ...   \n",
      "36895    B:307-377   P04189     36-106   \n",
      "36896     A:12-188   Q8RR56     12-188   \n",
      "36897    A:4P-100P   O97389     18-109   \n",
      "36898       A:4-76   P63239     31-103   \n",
      "36899     A:1A-95A   P15086     16-110   \n",
      "\n",
      "                                                SCOPCLA          SF  \n",
      "0      TP=1,CL=1000003,CF=2001470,SF=3002524,FA=4004627  SF=3002524  \n",
      "1      TP=1,CL=1000003,CF=2001470,SF=3002524,FA=4004627  SF=3002524  \n",
      "2      TP=1,CL=1000002,CF=2000016,SF=3001156,FA=4003986  SF=3001156  \n",
      "3      TP=1,CL=1000002,CF=2000016,SF=3001156,FA=4003632  SF=3001156  \n",
      "4      TP=1,CL=1000002,CF=2000016,SF=3001156,FA=4002481  SF=3001156  \n",
      "...                                                 ...         ...  \n",
      "36895  TP=1,CL=1000003,CF=2000014,SF=3001155,FA=4001246  SF=3001155  \n",
      "36896  TP=1,CL=1000003,CF=2000014,SF=3001155,FA=4001246  SF=3001155  \n",
      "36897  TP=1,CL=1000003,CF=2000014,SF=3001155,FA=4001250  SF=3001155  \n",
      "36898  TP=1,CL=1000003,CF=2000014,SF=3001155,FA=4002630  SF=3001155  \n",
      "36899  TP=1,CL=1000003,CF=2000014,SF=3001155,FA=4001250  SF=3001155  \n",
      "\n",
      "[36900 rows x 12 columns]\n"
     ]
    },
    {
     "data": {
      "text/plain": [
       "(array([485.,  72.,  31.,  13.,   7.,   2.,   6.,   1.,   2.,   1.]),\n",
       " array([ 11. ,  61.7, 112.4, 163.1, 213.8, 264.5, 315.2, 365.9, 416.6,\n",
       "        467.3, 518. ]),\n",
       " <BarContainer object of 10 artists>)"
      ]
     },
     "execution_count": 33,
     "metadata": {},
     "output_type": "execute_result"
    },
    {
     "data": {
      "image/png": "[encoded data removed]",
      "text/plain": [
       "<Figure size 640x480 with 1 Axes>"
      ]
     },
     "metadata": {},
     "output_type": "display_data"
    }
   ],
   "source": [
    "scopdf = pd.read_csv('../SCOP_data/scop-cla-latest.txt', header = None, comment= '#' , sep = ' ')\n",
    "scopdf.columns = 'FA-DOMID FA-PDBID FA-PDBREG FA-UNIID FA-UNIREG SF-DOMID SF-PDBID SF-PDBREG SF-UNIID SF-UNIREG SCOPCLA'.split()\n",
    "scopdf['SF'] = scopdf['SCOPCLA'].map( lambda x : ''.join(x.split(',')[0-2]) )\n",
    "print(scopdf)\n",
    "vc = scopdf.SF.value_counts()\n",
    "plt.hist( vc[vc>10])"
   ]
  },
  {
   "cell_type": "code",
   "execution_count": null,
   "id": "45aab2af-036f-4095-9539-d536fa21048b",
   "metadata": {},
   "outputs": [
    {
     "name": "stdout",
     "output_type": "stream",
     "text": [
      "done 64\n"
     ]
    },
    {
     "data": {
      "image/png": "[encoded data removed]",
      "text/plain": [
       "<Figure size 640x480 with 1 Axes>"
      ]
     },
     "metadata": {},
     "output_type": "display_data"
    }
   ],
   "source": [
    "from src import AFDB_tools\n",
    "import os\n",
    "datapath = '../SCOP_data/'\n",
    "nprots = 500\n",
    "fams = 2000\n",
    "total = 0\n",
    "lengths = []\n",
    "#iterate over all superfamilies and create a tree for each\n",
    "if not os.path.exists(datapath):\n",
    "    os.mkdir(datapath)\n",
    "for i,superfam in enumerate(scopdf.SF.unique()):\n",
    "    if not os.path.exists(datapath+superfam):\n",
    "        os.mkdir(datapath+superfam)\n",
    "    #create a tree for each superfam\n",
    "    #sample 1000 proteins from the superfam\n",
    "    sub = scopdf[scopdf.SF == superfam]\n",
    "    prots = list(sub['SF-UNIID'].unique())\n",
    "    prots = prots[:nprots]\n",
    "    #output the sequence dataset to a file\n",
    "    #create a folder for the superfam if it does not exist\n",
    "    #output the uniport ids to a file\n",
    "    if len(prots)> 100:\n",
    "        lengths.append(len(prots))\n",
    "        total+=1\n",
    "        with open(datapath+superfam+'/identifiers.txt', 'w') as f:\n",
    "            f.write('\\n'.join( prots ))\n",
    "print('done', total)\n",
    "plt.hist(lengths)\n",
    "plt.show()\n"
   ]
  },
  {
   "cell_type": "code",
   "execution_count": 3,
   "id": "bcb0eaeb-bae9-430f-9b15-85a0687ac9d2",
   "metadata": {},
   "outputs": [
    {
     "name": "stdout",
     "output_type": "stream",
     "text": [
      "../../../datasets/Structure_Trees_mk2/Bacteria/\n"
     ]
    },
    {
     "name": "stderr",
     "output_type": "stream",
     "text": [
      "100%|██████████| 671/671 [00:08<00:00, 79.61it/s] \n"
     ]
    },
    {
     "name": "stdout",
     "output_type": "stream",
     "text": [
      "../../../datasets/Structure_Trees_mk2/LUCA/\n"
     ]
    },
    {
     "name": "stderr",
     "output_type": "stream",
     "text": [
      "100%|██████████| 1392/1392 [00:03<00:00, 404.76it/s]\n"
     ]
    },
    {
     "name": "stdout",
     "output_type": "stream",
     "text": [
      "../../../datasets/Structure_Trees_mk2/Euteleostomi/\n"
     ]
    },
    {
     "name": "stderr",
     "output_type": "stream",
     "text": [
      "100%|██████████| 3267/3267 [00:02<00:00, 1569.24it/s]\n"
     ]
    },
    {
     "name": "stdout",
     "output_type": "stream",
     "text": [
      "../../../datasets/Structure_Trees_mk2/Eumetazoa/\n"
     ]
    },
    {
     "name": "stderr",
     "output_type": "stream",
     "text": [
      "100%|██████████| 1568/1568 [00:09<00:00, 159.26it/s]\n"
     ]
    },
    {
     "name": "stdout",
     "output_type": "stream",
     "text": [
      "../../../datasets/Structure_Trees_mk2/Chordata/\n"
     ]
    },
    {
     "name": "stderr",
     "output_type": "stream",
     "text": [
      "100%|██████████| 1038/1038 [00:05<00:00, 195.83it/s]\n"
     ]
    },
    {
     "name": "stdout",
     "output_type": "stream",
     "text": [
      "../../../datasets/Structure_Trees_mk2/Tetrapoda/\n"
     ]
    },
    {
     "name": "stderr",
     "output_type": "stream",
     "text": [
      "100%|██████████| 359/359 [00:00<00:00, 2109.65it/s]\n"
     ]
    },
    {
     "name": "stdout",
     "output_type": "stream",
     "text": [
      "../../../datasets/Structure_Trees_mk2/Opisthokonta/\n"
     ]
    },
    {
     "name": "stderr",
     "output_type": "stream",
     "text": [
      "100%|██████████| 662/662 [00:00<00:00, 840.90it/s]\n"
     ]
    },
    {
     "name": "stdout",
     "output_type": "stream",
     "text": [
      "../../../datasets/Structure_Trees_mk2/Dikarya/\n"
     ]
    },
    {
     "name": "stderr",
     "output_type": "stream",
     "text": [
      "100%|██████████| 186/186 [00:02<00:00, 82.18it/s] \n"
     ]
    },
    {
     "name": "stdout",
     "output_type": "stream",
     "text": [
      "../../../datasets/Structure_Trees_mk2/Fungi/\n"
     ]
    },
    {
     "name": "stderr",
     "output_type": "stream",
     "text": [
      "100%|██████████| 138/138 [00:00<00:00, 797.28it/s]\n"
     ]
    },
    {
     "name": "stdout",
     "output_type": "stream",
     "text": [
      "../../../datasets/Structure_Trees_mk2/Bilateria/\n"
     ]
    },
    {
     "name": "stderr",
     "output_type": "stream",
     "text": [
      "100%|██████████| 1033/1033 [00:05<00:00, 198.95it/s]\n"
     ]
    },
    {
     "name": "stdout",
     "output_type": "stream",
     "text": [
      "../../../datasets/Structure_Trees_mk2/Eukaryota/\n"
     ]
    },
    {
     "name": "stderr",
     "output_type": "stream",
     "text": [
      "100%|██████████| 3218/3218 [00:41<00:00, 76.97it/s] \n"
     ]
    },
    {
     "name": "stdout",
     "output_type": "stream",
     "text": [
      "{'../../../datasets/Structure_Trees_mk2/Bacteria/': 671, '../../../datasets/Structure_Trees_mk2/LUCA/': 1392, '../../../datasets/Structure_Trees_mk2/Euteleostomi/': 3267, '../../../datasets/Structure_Trees_mk2/Eumetazoa/': 1568, '../../../datasets/Structure_Trees_mk2/Chordata/': 1038, '../../../datasets/Structure_Trees_mk2/Tetrapoda/': 359, '../../../datasets/Structure_Trees_mk2/Opisthokonta/': 662, '../../../datasets/Structure_Trees_mk2/Dikarya/': 186, '../../../datasets/Structure_Trees_mk2/Fungi/': 138, '../../../datasets/Structure_Trees_mk2/Bilateria/': 1033, '../../../datasets/Structure_Trees_mk2/Eukaryota/': 3218}\n"
     ]
    },
    {
     "data": {
      "image/png": "[encoded data removed]",
      "text/plain": [
       "<Figure size 640x480 with 1 Axes>"
      ]
     },
     "metadata": {},
     "output_type": "display_data"
    }
   ],
   "source": [
    "#subsample the oma folders\n",
    "\n",
    "import os\n",
    "import shutil\n",
    "import random\n",
    "import glob\n",
    "from tqdm import tqdm\n",
    "from matplotlib import pyplot as plt\n",
    "\n",
    "#path to the oma folder\n",
    "path = '../../../datasets/Structure_Trees_mk2/*/'\n",
    "#path to the output folder\n",
    "outpath = '../OMA_data/'\n",
    "\n",
    "#make the output folder if it does not exist\n",
    "if not os.path.exists(outpath):\n",
    "    os.mkdir(outpath)\n",
    "#number of proteins to sample\n",
    "min_prots = 10\n",
    "#number of superfamilies to sample\n",
    "fams = 2000\n",
    "superfams={}\n",
    "#iterate over all superfamilies and compile an identifiers.txt file in the output folder\n",
    "for clade in glob.glob(path):\n",
    "    print(clade)\n",
    "    if clade not in superfams:\n",
    "        superfams[clade] = {}\n",
    "    #stores length of each superfam\n",
    "    superfam = set(glob.glob(clade+'*/'))-set([clade + 'logs/'])\n",
    "    #use tqdm progress bar\n",
    "    for s in tqdm(superfam):\n",
    "        with open(clade+s+'identifiers.txt', 'r') as f:\n",
    "                nprots = len(f.readlines())\n",
    "        if nprots >= min_prots:\n",
    "            superfams[clade][s] = nprots\n",
    "lengths = { c:len(superfams[c]) for c in superfams}\n",
    "print(lengths)\n",
    "plt.hist(list(lengths.values()))\n",
    "plt.show()\n"
   ]
  },
  {
   "cell_type": "code",
   "execution_count": 5,
   "id": "9c073b42",
   "metadata": {},
   "outputs": [
    {
     "name": "stdout",
     "output_type": "stream",
     "text": [
      "138\n",
      "../../../datasets/Structure_Trees_mk2/Bacteria/\n",
      "500\n"
     ]
    },
    {
     "name": "stderr",
     "output_type": "stream",
     "text": [
      "100%|██████████| 500/500 [00:00<00:00, 256815.09it/s]\n"
     ]
    },
    {
     "name": "stdout",
     "output_type": "stream",
     "text": [
      "../../../datasets/Structure_Trees_mk2/LUCA/\n",
      "500\n"
     ]
    },
    {
     "name": "stderr",
     "output_type": "stream",
     "text": [
      "100%|██████████| 500/500 [00:00<00:00, 257572.10it/s]\n"
     ]
    },
    {
     "name": "stdout",
     "output_type": "stream",
     "text": [
      "../../../datasets/Structure_Trees_mk2/Euteleostomi/\n",
      "500\n"
     ]
    },
    {
     "name": "stderr",
     "output_type": "stream",
     "text": [
      "100%|██████████| 500/500 [00:00<00:00, 253738.90it/s]\n"
     ]
    },
    {
     "name": "stdout",
     "output_type": "stream",
     "text": [
      "../../../datasets/Structure_Trees_mk2/Eumetazoa/\n",
      "500\n"
     ]
    },
    {
     "name": "stderr",
     "output_type": "stream",
     "text": [
      "100%|██████████| 500/500 [00:00<00:00, 254138.63it/s]\n"
     ]
    },
    {
     "name": "stdout",
     "output_type": "stream",
     "text": [
      "../../../datasets/Structure_Trees_mk2/Chordata/\n",
      "500\n"
     ]
    },
    {
     "name": "stderr",
     "output_type": "stream",
     "text": [
      "100%|██████████| 500/500 [00:00<00:00, 267051.06it/s]\n"
     ]
    },
    {
     "name": "stdout",
     "output_type": "stream",
     "text": [
      "../../../datasets/Structure_Trees_mk2/Tetrapoda/\n",
      "359\n"
     ]
    },
    {
     "name": "stderr",
     "output_type": "stream",
     "text": [
      "100%|██████████| 359/359 [00:00<00:00, 256386.03it/s]\n"
     ]
    },
    {
     "name": "stdout",
     "output_type": "stream",
     "text": [
      "../../../datasets/Structure_Trees_mk2/Opisthokonta/\n",
      "500\n"
     ]
    },
    {
     "name": "stderr",
     "output_type": "stream",
     "text": [
      "100%|██████████| 500/500 [00:00<00:00, 255065.92it/s]\n"
     ]
    },
    {
     "name": "stdout",
     "output_type": "stream",
     "text": [
      "../../../datasets/Structure_Trees_mk2/Dikarya/\n",
      "186\n"
     ]
    },
    {
     "name": "stderr",
     "output_type": "stream",
     "text": [
      "100%|██████████| 186/186 [00:00<00:00, 245095.99it/s]\n"
     ]
    },
    {
     "name": "stdout",
     "output_type": "stream",
     "text": [
      "../../../datasets/Structure_Trees_mk2/Fungi/\n",
      "138\n"
     ]
    },
    {
     "name": "stderr",
     "output_type": "stream",
     "text": [
      "100%|██████████| 138/138 [00:00<00:00, 254088.65it/s]\n"
     ]
    },
    {
     "name": "stdout",
     "output_type": "stream",
     "text": [
      "../../../datasets/Structure_Trees_mk2/Bilateria/\n",
      "500\n"
     ]
    },
    {
     "name": "stderr",
     "output_type": "stream",
     "text": [
      "100%|██████████| 500/500 [00:00<00:00, 260710.09it/s]\n"
     ]
    },
    {
     "name": "stdout",
     "output_type": "stream",
     "text": [
      "../../../datasets/Structure_Trees_mk2/Eukaryota/\n",
      "500\n"
     ]
    },
    {
     "name": "stderr",
     "output_type": "stream",
     "text": [
      "100%|██████████| 500/500 [00:00<00:00, 269591.46it/s]\n"
     ]
    }
   ],
   "source": [
    "minlen = min(list(lengths.values()) )\n",
    "print(minlen)\n",
    "#clear output directory\n",
    "\n",
    "\n",
    "#sample the superfamilies\n",
    "for clade in superfams:\n",
    "    cladestr = clade.split('/')[-2]+'/'\n",
    "    if not os.path.isdir(outpath+cladestr):\n",
    "        os.mkdir(outpath+cladestr)\n",
    "    print(clade)    \n",
    "    superfams[clade] = random.sample( list(superfams[clade]) ,  min( len(list(superfams[clade]))  , 500 )  )\n",
    "    print(len(superfams[clade]))\n",
    "    for s in tqdm(superfams[clade]):\n",
    "        #copy the files to the output folder\n",
    "        superfam = s.split('/')[-2]+'/'\n",
    "        if not os.path.exists(outpath+cladestr+superfam):\n",
    "            os.mkdir(outpath+cladestr+superfam)\n",
    "            shutil.copy(s+'identifiers.txt', outpath+cladestr+superfam+'identifiers.txt')\n"
   ]
  },
  {
   "cell_type": "code",
   "execution_count": null,
   "id": "e0793dd2",
   "metadata": {},
   "outputs": [],
   "source": []
  }
 ],
 "metadata": {
  "kernelspec": {
   "display_name": "Python 3 (ipykernel)",
   "language": "python",
   "name": "python3"
  },
  "language_info": {
   "codemirror_mode": {
    "name": "ipython",
    "version": 3
   },
   "file_extension": ".py",
   "mimetype": "text/x-python",
   "name": "python",
   "nbconvert_exporter": "python",
   "pygments_lexer": "ipython3",
   "version": "3.10.8"
  },
  "vscode": {
   "interpreter": {
    "hash": "de5d7f200d48311110fd5aad35b72e9d2d5b7cd2d05319e69d8eae45c81b4a25"
   }
  }
 },
 "nbformat": 4,
 "nbformat_minor": 5
}
