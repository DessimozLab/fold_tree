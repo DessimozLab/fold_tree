{
 "cells": [
  {
   "cell_type": "code",
   "execution_count": 29,
   "id": "b2012693-c6a3-4b72-bf8f-d657e3983ded",
   "metadata": {},
   "outputs": [],
   "source": [
    "%load_ext autoreload\n",
    "%autoreload 2"
   ]
  },
  {
   "cell_type": "code",
   "execution_count": 30,
   "id": "9cf13a9a-2970-432c-a45b-91dbf077f11b",
   "metadata": {},
   "outputs": [
    {
     "name": "stderr",
     "output_type": "stream",
     "text": [
      "/home/cactuskid/miniconda3/envs/ML2/lib/python3.10/site-packages/tqdm/auto.py:22: TqdmWarning: IProgress not found. Please update jupyter and ipywidgets. See https://ipywidgets.readthedocs.io/en/stable/user_install.html\n",
      "  from .autonotebook import tqdm as notebook_tqdm\n"
     ]
    }
   ],
   "source": [
    "import sys\n",
    "sys.path.append('../')\n",
    "from src import AFDB_tools, treescore , foldseek2tree\n",
    "import pandas as pd\n",
    "import torch"
   ]
  },
  {
   "cell_type": "code",
   "execution_count": 31,
   "id": "15642502-23d3-4cde-aa32-fb2c2cf68274",
   "metadata": {},
   "outputs": [
    {
     "name": "stdout",
     "output_type": "stream",
     "text": [
      "        0   1   2   3   4   5   6   7   8   9   10     11\n",
      "0  1oaiA00   1  10   8  10   1   1   1   1   1  59    1.0\n",
      "1  1go5A00   1  10   8  10   1   1   1   1   2  69  999.0\n",
      "2  3frhA01   1  10   8  10   2   1   1   1   1  58    1.2\n",
      "3  3friA01   1  10   8  10   2   1   1   1   2  54    1.8\n",
      "4  3b89A01   1  10   8  10   2   1   1   2   1  54    2.6\n"
     ]
    }
   ],
   "source": [
    "#load cath dataset from CATH data folder with comment lines as # and white space seperator\n",
    "domain_df = pd.read_csv('../CATH_data/cath-domain-list.txt' , comment='#' , header = None , delim_whitespace=True)\n",
    "print(domain_df.head())"
   ]
  },
  {
   "cell_type": "code",
   "execution_count": 32,
   "id": "21ea694f",
   "metadata": {},
   "outputs": [],
   "source": [
    "#change the type to string\n",
    "domain_df = domain_df.astype(str)\n",
    "domain_df['superfam'] = domain_df[[1,2,3,4]].apply(lambda x : '.'.join(x), axis = 1) \n",
    "domain_df['CAT'] = domain_df[[1,2,3]].apply(lambda x : '.'.join(x), axis = 1) \n"
   ]
  },
  {
   "cell_type": "code",
   "execution_count": 33,
   "id": "74af3e1f",
   "metadata": {},
   "outputs": [],
   "source": [
    "siftsdf = pd.read_csv('../CATH_data/pdb_chain_cath_uniprot.csv', header=1 )\n"
   ]
  },
  {
   "cell_type": "code",
   "execution_count": 34,
   "id": "9dc72239",
   "metadata": {},
   "outputs": [
    {
     "name": "stdout",
     "output_type": "stream",
     "text": [
      "6485\n",
      "    PDB CHAIN SP_PRIMARY  CATH_ID        0  1   2    3   4  5  6  7   8  9  \\\n",
      "0  101m     A     P02185  101mA00  101mA00  1  10  490  10  1  1  1  51  4   \n",
      "1  102l     A     P00720  102lA00  102lA00  1  10  530  40  1  1  2  30  2   \n",
      "2  102m     A     P02185  102mA00  102mA00  1  10  490  10  1  1  1  42  7   \n",
      "3  103l     A     P00720  103lA00  103lA00  1  10  530  40  1  1  2  69  2   \n",
      "4  103m     A     P02185  103mA00  103mA00  1  10  490  10  1  1  1  42  8   \n",
      "\n",
      "    10    11     superfam       CAT  \n",
      "0  154  2.07  1.10.490.10  1.10.490  \n",
      "1  163  1.74  1.10.530.40  1.10.530  \n",
      "2  154  1.84  1.10.490.10  1.10.490  \n",
      "3  159   1.9  1.10.530.40  1.10.530  \n",
      "4  154  2.07  1.10.490.10  1.10.490   451320 None\n"
     ]
    }
   ],
   "source": [
    "#merge with domain df on cath id\n",
    "siftsdf = siftsdf.merge(domain_df, left_on = 'CATH_ID' , right_on = 0 , how = 'left')\n",
    "siftsdf = siftsdf.dropna()\n",
    "print(siftsdf.head(), len(siftsdf) , print(len(siftsdf.superfam.unique())))"
   ]
  },
  {
   "cell_type": "code",
   "execution_count": 35,
   "id": "69e5913b",
   "metadata": {},
   "outputs": [
    {
     "name": "stdout",
     "output_type": "stream",
     "text": [
      "['1.10.490.10' '1.10.530.40' '3.40.30.10' ... '6.10.140.1500'\n",
      " '1.20.120.1500' '1.10.10.1760'] 6485\n"
     ]
    },
    {
     "data": {
      "image/png": "[encoded data removed]",
      "text/plain": [
       "<Figure size 640x480 with 1 Axes>"
      ]
     },
     "metadata": {},
     "output_type": "display_data"
    }
   ],
   "source": [
    "from matplotlib import pyplot as plt\n",
    "print(siftsdf.superfam.unique(),len(siftsdf.superfam.unique()))\n",
    "#make a histogram of the superfam counts\n",
    "famsizes = siftsdf.CAT.value_counts().to_numpy()\n",
    "plt.hist( famsizes[famsizes>10] , bins = 100)\n",
    "plt.show()"
   ]
  },
  {
   "cell_type": "code",
   "execution_count": 36,
   "id": "1a7d7f38",
   "metadata": {},
   "outputs": [
    {
     "ename": "KeyboardInterrupt",
     "evalue": "",
     "output_type": "error",
     "traceback": [
      "\u001b[0;31m---------------------------------------------------------------------------\u001b[0m",
      "\u001b[0;31mKeyboardInterrupt\u001b[0m                         Traceback (most recent call last)",
      "Cell \u001b[0;32mIn[36], line 22\u001b[0m\n\u001b[1;32m     18\u001b[0m     os\u001b[39m.\u001b[39mmkdir(datapath\u001b[39m+\u001b[39msuperfam)\n\u001b[1;32m     20\u001b[0m \u001b[39m#create a tree for each superfam\u001b[39;00m\n\u001b[1;32m     21\u001b[0m \u001b[39m#sample 1000 proteins from the superfam\u001b[39;00m\n\u001b[0;32m---> 22\u001b[0m sub \u001b[39m=\u001b[39m siftsdf[siftsdf\u001b[39m.\u001b[39;49mCAT \u001b[39m==\u001b[39;49m superfam]\n\u001b[1;32m     23\u001b[0m prots \u001b[39m=\u001b[39m \u001b[39mlist\u001b[39m(sub[\u001b[39m'\u001b[39m\u001b[39mSP_PRIMARY\u001b[39m\u001b[39m'\u001b[39m]\u001b[39m.\u001b[39munique())\n\u001b[1;32m     24\u001b[0m prots \u001b[39m=\u001b[39m prots[:nprots]\n",
      "File \u001b[0;32m~/miniconda3/envs/ML2/lib/python3.10/site-packages/pandas/core/ops/common.py:72\u001b[0m, in \u001b[0;36m_unpack_zerodim_and_defer.<locals>.new_method\u001b[0;34m(self, other)\u001b[0m\n\u001b[1;32m     68\u001b[0m             \u001b[39mreturn\u001b[39;00m \u001b[39mNotImplemented\u001b[39m\n\u001b[1;32m     70\u001b[0m other \u001b[39m=\u001b[39m item_from_zerodim(other)\n\u001b[0;32m---> 72\u001b[0m \u001b[39mreturn\u001b[39;00m method(\u001b[39mself\u001b[39;49m, other)\n",
      "File \u001b[0;32m~/miniconda3/envs/ML2/lib/python3.10/site-packages/pandas/core/arraylike.py:42\u001b[0m, in \u001b[0;36mOpsMixin.__eq__\u001b[0;34m(self, other)\u001b[0m\n\u001b[1;32m     40\u001b[0m \u001b[39m@unpack_zerodim_and_defer\u001b[39m(\u001b[39m\"\u001b[39m\u001b[39m__eq__\u001b[39m\u001b[39m\"\u001b[39m)\n\u001b[1;32m     41\u001b[0m \u001b[39mdef\u001b[39;00m \u001b[39m__eq__\u001b[39m(\u001b[39mself\u001b[39m, other):\n\u001b[0;32m---> 42\u001b[0m     \u001b[39mreturn\u001b[39;00m \u001b[39mself\u001b[39;49m\u001b[39m.\u001b[39;49m_cmp_method(other, operator\u001b[39m.\u001b[39;49meq)\n",
      "File \u001b[0;32m~/miniconda3/envs/ML2/lib/python3.10/site-packages/pandas/core/series.py:6243\u001b[0m, in \u001b[0;36mSeries._cmp_method\u001b[0;34m(self, other, op)\u001b[0m\n\u001b[1;32m   6240\u001b[0m rvalues \u001b[39m=\u001b[39m extract_array(other, extract_numpy\u001b[39m=\u001b[39m\u001b[39mTrue\u001b[39;00m, extract_range\u001b[39m=\u001b[39m\u001b[39mTrue\u001b[39;00m)\n\u001b[1;32m   6242\u001b[0m \u001b[39mwith\u001b[39;00m np\u001b[39m.\u001b[39merrstate(\u001b[39mall\u001b[39m\u001b[39m=\u001b[39m\u001b[39m\"\u001b[39m\u001b[39mignore\u001b[39m\u001b[39m\"\u001b[39m):\n\u001b[0;32m-> 6243\u001b[0m     res_values \u001b[39m=\u001b[39m ops\u001b[39m.\u001b[39;49mcomparison_op(lvalues, rvalues, op)\n\u001b[1;32m   6245\u001b[0m \u001b[39mreturn\u001b[39;00m \u001b[39mself\u001b[39m\u001b[39m.\u001b[39m_construct_result(res_values, name\u001b[39m=\u001b[39mres_name)\n",
      "File \u001b[0;32m~/miniconda3/envs/ML2/lib/python3.10/site-packages/pandas/core/ops/array_ops.py:287\u001b[0m, in \u001b[0;36mcomparison_op\u001b[0;34m(left, right, op)\u001b[0m\n\u001b[1;32m    284\u001b[0m     \u001b[39mreturn\u001b[39;00m invalid_comparison(lvalues, rvalues, op)\n\u001b[1;32m    286\u001b[0m \u001b[39melif\u001b[39;00m is_object_dtype(lvalues\u001b[39m.\u001b[39mdtype) \u001b[39mor\u001b[39;00m \u001b[39misinstance\u001b[39m(rvalues, \u001b[39mstr\u001b[39m):\n\u001b[0;32m--> 287\u001b[0m     res_values \u001b[39m=\u001b[39m comp_method_OBJECT_ARRAY(op, lvalues, rvalues)\n\u001b[1;32m    289\u001b[0m \u001b[39melse\u001b[39;00m:\n\u001b[1;32m    290\u001b[0m     res_values \u001b[39m=\u001b[39m _na_arithmetic_op(lvalues, rvalues, op, is_cmp\u001b[39m=\u001b[39m\u001b[39mTrue\u001b[39;00m)\n",
      "File \u001b[0;32m~/miniconda3/envs/ML2/lib/python3.10/site-packages/pandas/core/ops/array_ops.py:75\u001b[0m, in \u001b[0;36mcomp_method_OBJECT_ARRAY\u001b[0;34m(op, x, y)\u001b[0m\n\u001b[1;32m     73\u001b[0m     result \u001b[39m=\u001b[39m libops\u001b[39m.\u001b[39mvec_compare(x\u001b[39m.\u001b[39mravel(), y\u001b[39m.\u001b[39mravel(), op)\n\u001b[1;32m     74\u001b[0m \u001b[39melse\u001b[39;00m:\n\u001b[0;32m---> 75\u001b[0m     result \u001b[39m=\u001b[39m libops\u001b[39m.\u001b[39;49mscalar_compare(x\u001b[39m.\u001b[39;49mravel(), y, op)\n\u001b[1;32m     76\u001b[0m \u001b[39mreturn\u001b[39;00m result\u001b[39m.\u001b[39mreshape(x\u001b[39m.\u001b[39mshape)\n",
      "\u001b[0;31mKeyboardInterrupt\u001b[0m: "
     ]
    }
   ],
   "source": [
    "from src import AFDB_tools\n",
    "import os\n",
    "#datapath = '../CATH_data/'\n",
    "\n",
    "datapath = '../CAT_data/'\n",
    "\n",
    "nprots = 500\n",
    "fams = 2000\n",
    "total = 0\n",
    "lengths = []\n",
    "#iterate over all superfamilies and create a tree for each\n",
    "\n",
    "if not os.path.exists(datapath):\n",
    "    os.mkdir(datapath)\n",
    "    \n",
    "for i,superfam in enumerate(siftsdf.CAT.unique()):\n",
    "    if not os.path.exists(datapath+superfam):\n",
    "        os.mkdir(datapath+superfam)\n",
    "\n",
    "    #create a tree for each superfam\n",
    "    #sample 1000 proteins from the superfam\n",
    "    sub = siftsdf[siftsdf.CAT == superfam]\n",
    "    prots = list(sub['SP_PRIMARY'].unique())\n",
    "    prots = prots[:nprots]\n",
    "    #output the sequence dataset to a file\n",
    "    #create a folder for the superfam if it does not exist\n",
    "    #output the uniport ids to a file\n",
    "    if len(prots)> 100:\n",
    "        lengths.append(len(prots))\n",
    "        total+=1\n",
    "        with open(datapath+superfam+'/identifiers.txt', 'w') as f:\n",
    "            f.write('\\n'.join( prots ))\n",
    "print('done', total)\n",
    "plt.hist(lengths)\n",
    "plt.show()\n"
   ]
  },
  {
   "cell_type": "code",
   "execution_count": null,
   "id": "a4650ada-b027-4ff9-b90e-61ee16b57f06",
   "metadata": {},
   "outputs": [
    {
     "name": "stdout",
     "output_type": "stream",
     "text": [
      "1465\n"
     ]
    },
    {
     "data": {
      "image/png": "[encoded data removed]",
      "text/plain": [
       "<Figure size 640x480 with 1 Axes>"
      ]
     },
     "metadata": {},
     "output_type": "display_data"
    }
   ],
   "source": [
    "print(len(siftsdf.CAT.unique()))\n",
    "plt.hist(lengths,bins = 20)\n",
    "plt.show()"
   ]
  },
  {
   "cell_type": "code",
   "execution_count": null,
   "id": "7d9c2c39-5f4e-4700-ab09-118199493ecb",
   "metadata": {},
   "outputs": [
    {
     "name": "stdout",
     "output_type": "stream",
     "text": [
      "                            # 2023/03/12 - 10:28 | PDB: 10.23 | UniProt: 2023.02\n",
      "PDB  CHAIN SP_PRIMARY SUNID                                            SCOP_ID  \n",
      "101m A     P02185     15125                                            d101ma_  \n",
      "102l A     P00720     36724                                            d102la_  \n",
      "102m A     P02185     15073                                            d102ma_  \n",
      "103l A     P00720     36870                                            d103la_  \n",
      "...                                                                        ...  \n",
      "9xia A     P24300     29434                                            d9xiaa_  \n",
      "9xim A     P12851     29505                                            d9xima_  \n",
      "     B     P12851     29506                                            d9ximb_  \n",
      "     C     P12851     29507                                            d9ximc_  \n",
      "     D     P12851     29508                                            d9ximd_  \n",
      "\n",
      "[104837 rows x 1 columns]\n"
     ]
    }
   ],
   "source": [
    "scopdf = pd.read_csv('../SCOP_data/pdb_chain_scop_uniprot.csv')\n",
    "print(scopdf)"
   ]
  },
  {
   "cell_type": "code",
   "execution_count": null,
   "id": "f617a707-4eef-44fd-a9ee-18e154f08c4c",
   "metadata": {},
   "outputs": [
    {
     "name": "stdout",
     "output_type": "stream",
     "text": [
      "       FA-DOMID FA-PDBID    FA-PDBREG FA-UNIID  FA-UNIREG  SF-DOMID SF-PDBID  \\\n",
      "0       8045703     3H8D  C:1143-1264   Q64331  1143-1264   8091604     3H8D   \n",
      "1       8094330     6J56  A:1158-1282   Q9UM54  1167-1291   8094331     6J56   \n",
      "2       8017835     3FKQ      A:1-116   D0VX10      1-116   8017836     3FKQ   \n",
      "3       8021315     1XHF      A:2-122   P0A9Q1      2-122   8033695     1XHF   \n",
      "4       8021787     1Y7P     B:79-215   O28869     79-215   8034167     1Y7P   \n",
      "...         ...      ...          ...      ...        ...       ...      ...   \n",
      "36895   8022870     1SCJ    B:307-377   P04189     36-106   8035250     1SCJ   \n",
      "36896   8027500     1T1E     A:12-188   Q8RR56     12-188   8039879     1T1E   \n",
      "36897   8027593     1JQG    A:4P-100P   O97389     18-109   8039972     1JQG   \n",
      "36898   8028119     1KN6       A:4-76   P63239     31-103   8040498     1KN6   \n",
      "36899   8028297     1KWM     A:1A-95A   P15086     16-110   8040676     1KWM   \n",
      "\n",
      "         SF-PDBREG SF-UNIID  SF-UNIREG  \\\n",
      "0      C:1143-1264   Q64331  1143-1264   \n",
      "1      A:1158-1282   Q9UM54  1167-1291   \n",
      "2          A:1-116   D0VX10      1-116   \n",
      "3          A:2-122   P0A9Q1      2-122   \n",
      "4         B:79-215   O28869     79-215   \n",
      "...            ...      ...        ...   \n",
      "36895    B:307-377   P04189     36-106   \n",
      "36896     A:12-188   Q8RR56     12-188   \n",
      "36897    A:4P-100P   O97389     18-109   \n",
      "36898       A:4-76   P63239     31-103   \n",
      "36899     A:1A-95A   P15086     16-110   \n",
      "\n",
      "                                                SCOPCLA          SF  \n",
      "0      TP=1,CL=1000003,CF=2001470,SF=3002524,FA=4004627  SF=3002524  \n",
      "1      TP=1,CL=1000003,CF=2001470,SF=3002524,FA=4004627  SF=3002524  \n",
      "2      TP=1,CL=1000002,CF=2000016,SF=3001156,FA=4003986  SF=3001156  \n",
      "3      TP=1,CL=1000002,CF=2000016,SF=3001156,FA=4003632  SF=3001156  \n",
      "4      TP=1,CL=1000002,CF=2000016,SF=3001156,FA=4002481  SF=3001156  \n",
      "...                                                 ...         ...  \n",
      "36895  TP=1,CL=1000003,CF=2000014,SF=3001155,FA=4001246  SF=3001155  \n",
      "36896  TP=1,CL=1000003,CF=2000014,SF=3001155,FA=4001246  SF=3001155  \n",
      "36897  TP=1,CL=1000003,CF=2000014,SF=3001155,FA=4001250  SF=3001155  \n",
      "36898  TP=1,CL=1000003,CF=2000014,SF=3001155,FA=4002630  SF=3001155  \n",
      "36899  TP=1,CL=1000003,CF=2000014,SF=3001155,FA=4001250  SF=3001155  \n",
      "\n",
      "[36900 rows x 12 columns]\n"
     ]
    },
    {
     "data": {
      "text/plain": [
       "(array([485.,  72.,  31.,  13.,   7.,   2.,   6.,   1.,   2.,   1.]),\n",
       " array([ 11. ,  61.7, 112.4, 163.1, 213.8, 264.5, 315.2, 365.9, 416.6,\n",
       "        467.3, 518. ]),\n",
       " <BarContainer object of 10 artists>)"
      ]
     },
     "execution_count": 33,
     "metadata": {},
     "output_type": "execute_result"
    },
    {
     "data": {
      "image/png": "[encoded data removed]",
      "text/plain": [
       "<Figure size 640x480 with 1 Axes>"
      ]
     },
     "metadata": {},
     "output_type": "display_data"
    }
   ],
   "source": [
    "scopdf = pd.read_csv('../SCOP_data/scop-cla-latest.txt', header = None, comment= '#' , sep = ' ')\n",
    "scopdf.columns = 'FA-DOMID FA-PDBID FA-PDBREG FA-UNIID FA-UNIREG SF-DOMID SF-PDBID SF-PDBREG SF-UNIID SF-UNIREG SCOPCLA'.split()\n",
    "scopdf['SF'] = scopdf['SCOPCLA'].map( lambda x : ''.join(x.split(',')[0-2]) )\n",
    "print(scopdf)\n",
    "\n",
    "vc = scopdf.SF.value_counts()\n",
    "plt.hist( vc[vc>10])\n"
   ]
  },
  {
   "cell_type": "code",
   "execution_count": null,
   "id": "45aab2af-036f-4095-9539-d536fa21048b",
   "metadata": {},
   "outputs": [
    {
     "name": "stdout",
     "output_type": "stream",
     "text": [
      "done 64\n"
     ]
    },
    {
     "data": {
      "image/png": "[encoded data removed]",
      "text/plain": [
       "<Figure size 640x480 with 1 Axes>"
      ]
     },
     "metadata": {},
     "output_type": "display_data"
    }
   ],
   "source": [
    "from src import AFDB_tools\n",
    "import os\n",
    "datapath = '../SCOP_data/'\n",
    "nprots = 500\n",
    "fams = 2000\n",
    "total = 0\n",
    "lengths = []\n",
    "#iterate over all superfamilies and create a tree for each\n",
    "\n",
    "if not os.path.exists(datapath):\n",
    "    os.mkdir(datapath)\n",
    "    \n",
    "for i,superfam in enumerate(scopdf.SF.unique()):\n",
    "    if not os.path.exists(datapath+superfam):\n",
    "        os.mkdir(datapath+superfam)\n",
    "\n",
    "    #create a tree for each superfam\n",
    "    #sample 1000 proteins from the superfam\n",
    "    sub = scopdf[scopdf.SF == superfam]\n",
    "    prots = list(sub['SF-UNIID'].unique())\n",
    "    prots = prots[:nprots]\n",
    "    #output the sequence dataset to a file\n",
    "    #create a folder for the superfam if it does not exist\n",
    "    #output the uniport ids to a file\n",
    "    if len(prots)> 100:\n",
    "        lengths.append(len(prots))\n",
    "        total+=1\n",
    "        with open(datapath+superfam+'/identifiers.txt', 'w') as f:\n",
    "            f.write('\\n'.join( prots ))\n",
    "print('done', total)\n",
    "plt.hist(lengths)\n",
    "plt.show()\n"
   ]
  },
  {
   "cell_type": "code",
   "execution_count": 38,
   "id": "bcb0eaeb-bae9-430f-9b15-85a0687ac9d2",
   "metadata": {},
   "outputs": [
    {
     "name": "stdout",
     "output_type": "stream",
     "text": [
      "../../../datasets/Structure_Trees_mk2/Bacteria/\n"
     ]
    },
    {
     "name": "stderr",
     "output_type": "stream",
     "text": [
      "100%|██████████| 671/671 [00:20<00:00, 32.43it/s]\n"
     ]
    },
    {
     "name": "stdout",
     "output_type": "stream",
     "text": [
      "../../../datasets/Structure_Trees_mk2/LUCA/\n"
     ]
    },
    {
     "name": "stderr",
     "output_type": "stream",
     "text": [
      "100%|██████████| 1392/1392 [00:33<00:00, 42.02it/s]\n"
     ]
    },
    {
     "name": "stdout",
     "output_type": "stream",
     "text": [
      "../../../datasets/Structure_Trees_mk2/Euteleostomi/\n"
     ]
    },
    {
     "name": "stderr",
     "output_type": "stream",
     "text": [
      "100%|██████████| 3267/3267 [01:22<00:00, 39.54it/s]\n"
     ]
    },
    {
     "name": "stdout",
     "output_type": "stream",
     "text": [
      "../../../datasets/Structure_Trees_mk2/Eumetazoa/\n"
     ]
    },
    {
     "name": "stderr",
     "output_type": "stream",
     "text": [
      "100%|██████████| 1568/1568 [00:35<00:00, 43.59it/s]\n"
     ]
    },
    {
     "name": "stdout",
     "output_type": "stream",
     "text": [
      "../../../datasets/Structure_Trees_mk2/Chordata/\n"
     ]
    },
    {
     "name": "stderr",
     "output_type": "stream",
     "text": [
      "100%|██████████| 1038/1038 [00:27<00:00, 37.52it/s]\n"
     ]
    },
    {
     "name": "stdout",
     "output_type": "stream",
     "text": [
      "../../../datasets/Structure_Trees_mk2/Tetrapoda/\n"
     ]
    },
    {
     "name": "stderr",
     "output_type": "stream",
     "text": [
      "100%|██████████| 359/359 [00:08<00:00, 42.78it/s]\n"
     ]
    },
    {
     "name": "stdout",
     "output_type": "stream",
     "text": [
      "../../../datasets/Structure_Trees_mk2/Opisthokonta/\n"
     ]
    },
    {
     "name": "stderr",
     "output_type": "stream",
     "text": [
      "100%|██████████| 662/662 [00:15<00:00, 42.24it/s]\n"
     ]
    },
    {
     "name": "stdout",
     "output_type": "stream",
     "text": [
      "../../../datasets/Structure_Trees_mk2/Dikarya/\n"
     ]
    },
    {
     "name": "stderr",
     "output_type": "stream",
     "text": [
      "100%|██████████| 186/186 [00:07<00:00, 26.55it/s]\n"
     ]
    },
    {
     "name": "stdout",
     "output_type": "stream",
     "text": [
      "../../../datasets/Structure_Trees_mk2/Fungi/\n"
     ]
    },
    {
     "name": "stderr",
     "output_type": "stream",
     "text": [
      "100%|██████████| 138/138 [00:03<00:00, 39.10it/s]\n"
     ]
    },
    {
     "name": "stdout",
     "output_type": "stream",
     "text": [
      "../../../datasets/Structure_Trees_mk2/Bilateria/\n"
     ]
    },
    {
     "name": "stderr",
     "output_type": "stream",
     "text": [
      "100%|██████████| 1033/1033 [00:27<00:00, 37.12it/s]\n"
     ]
    },
    {
     "name": "stdout",
     "output_type": "stream",
     "text": [
      "../../../datasets/Structure_Trees_mk2/Eukaryota/\n"
     ]
    },
    {
     "name": "stderr",
     "output_type": "stream",
     "text": [
      "100%|██████████| 3218/3218 [02:23<00:00, 22.41it/s]\n"
     ]
    },
    {
     "name": "stdout",
     "output_type": "stream",
     "text": [
      "{'../../../datasets/Structure_Trees_mk2/Bacteria/': 610, '../../../datasets/Structure_Trees_mk2/LUCA/': 1307, '../../../datasets/Structure_Trees_mk2/Euteleostomi/': 3007, '../../../datasets/Structure_Trees_mk2/Eumetazoa/': 1530, '../../../datasets/Structure_Trees_mk2/Chordata/': 1008, '../../../datasets/Structure_Trees_mk2/Tetrapoda/': 165, '../../../datasets/Structure_Trees_mk2/Opisthokonta/': 648, '../../../datasets/Structure_Trees_mk2/Dikarya/': 131, '../../../datasets/Structure_Trees_mk2/Fungi/': 117, '../../../datasets/Structure_Trees_mk2/Bilateria/': 1003, '../../../datasets/Structure_Trees_mk2/Eukaryota/': 3110}\n"
     ]
    },
    {
     "data": {
      "image/png": "[encoded data removed]",
      "text/plain": [
       "<Figure size 640x480 with 1 Axes>"
      ]
     },
     "metadata": {},
     "output_type": "display_data"
    }
   ],
   "source": [
    "#subsample the oma folders\n",
    "\n",
    "import os\n",
    "import shutil\n",
    "import random\n",
    "import glob\n",
    "from tqdm import tqdm\n",
    "from matplotlib import pyplot as plt\n",
    "\n",
    "\n",
    "\n",
    "#path to the oma folder\n",
    "path = '../../../datasets/Structure_Trees_mk2/*/'\n",
    "#path to the output folder\n",
    "outpath = '../OMA_data/'\n",
    "\n",
    "#make the output folder if it does not exist\n",
    "if not os.path.exists(outpath):\n",
    "    os.mkdir(outpath)\n",
    "\n",
    "#number of proteins to sample\n",
    "min_prots = 10\n",
    "#number of superfamilies to sample\n",
    "fams = 2000\n",
    "\n",
    "superfams={}\n",
    "#iterate over all superfamilies and compile an identifiers.txt file in the output folder\n",
    "for clade in glob.glob(path):\n",
    "    print(clade)\n",
    "    if clade not in superfams:\n",
    "        superfams[clade] = {}\n",
    "    #stores length of each superfam\n",
    "    superfam = set(glob.glob(clade+'*/'))-set([clade + 'logs/'])\n",
    "    #use tqdm progress bar\n",
    "    for s in tqdm(superfam):\n",
    "        \n",
    "        with open(clade+s+'identifiers.txt', 'r') as f:\n",
    "                nprots = len(f.readlines())\n",
    "        if nprots > min_prots:\n",
    "            superfams[clade][s] = nprots\n",
    "lengths = { c:len(superfams[c]) for c in superfams}\n",
    "print(lengths)\n",
    "plt.hist(list(lengths.values()))\n",
    "plt.show()\n"
   ]
  },
  {
   "cell_type": "code",
   "execution_count": 58,
   "id": "9c073b42",
   "metadata": {},
   "outputs": [
    {
     "name": "stdout",
     "output_type": "stream",
     "text": [
      "117\n",
      "../../../datasets/Structure_Trees_mk2/Bacteria/\n"
     ]
    },
    {
     "name": "stderr",
     "output_type": "stream",
     "text": [
      "100%|██████████| 117/117 [00:00<00:00, 438.17it/s]\n"
     ]
    },
    {
     "name": "stdout",
     "output_type": "stream",
     "text": [
      "../../../datasets/Structure_Trees_mk2/LUCA/\n"
     ]
    },
    {
     "name": "stderr",
     "output_type": "stream",
     "text": [
      "100%|██████████| 117/117 [00:00<00:00, 32842.56it/s]\n"
     ]
    },
    {
     "name": "stdout",
     "output_type": "stream",
     "text": [
      "../../../datasets/Structure_Trees_mk2/Euteleostomi/\n"
     ]
    },
    {
     "name": "stderr",
     "output_type": "stream",
     "text": [
      "100%|██████████| 117/117 [00:00<00:00, 37731.32it/s]\n"
     ]
    },
    {
     "name": "stdout",
     "output_type": "stream",
     "text": [
      "../../../datasets/Structure_Trees_mk2/Eumetazoa/\n"
     ]
    },
    {
     "name": "stderr",
     "output_type": "stream",
     "text": [
      "100%|██████████| 117/117 [00:00<00:00, 20771.79it/s]\n"
     ]
    },
    {
     "name": "stdout",
     "output_type": "stream",
     "text": [
      "../../../datasets/Structure_Trees_mk2/Chordata/\n"
     ]
    },
    {
     "name": "stderr",
     "output_type": "stream",
     "text": [
      "100%|██████████| 117/117 [00:00<00:00, 9890.23it/s]\n"
     ]
    },
    {
     "name": "stdout",
     "output_type": "stream",
     "text": [
      "../../../datasets/Structure_Trees_mk2/Tetrapoda/\n"
     ]
    },
    {
     "name": "stderr",
     "output_type": "stream",
     "text": [
      "100%|██████████| 117/117 [00:00<00:00, 8259.70it/s]\n"
     ]
    },
    {
     "name": "stdout",
     "output_type": "stream",
     "text": [
      "../../../datasets/Structure_Trees_mk2/Opisthokonta/\n"
     ]
    },
    {
     "name": "stderr",
     "output_type": "stream",
     "text": [
      "100%|██████████| 117/117 [00:00<00:00, 6208.99it/s]\n"
     ]
    },
    {
     "name": "stdout",
     "output_type": "stream",
     "text": [
      "../../../datasets/Structure_Trees_mk2/Dikarya/\n"
     ]
    },
    {
     "name": "stderr",
     "output_type": "stream",
     "text": [
      "100%|██████████| 117/117 [00:00<00:00, 23739.05it/s]\n"
     ]
    },
    {
     "name": "stdout",
     "output_type": "stream",
     "text": [
      "../../../datasets/Structure_Trees_mk2/Fungi/\n"
     ]
    },
    {
     "name": "stderr",
     "output_type": "stream",
     "text": [
      "100%|██████████| 117/117 [00:00<00:00, 9641.32it/s]\n"
     ]
    },
    {
     "name": "stdout",
     "output_type": "stream",
     "text": [
      "../../../datasets/Structure_Trees_mk2/Bilateria/\n"
     ]
    },
    {
     "name": "stderr",
     "output_type": "stream",
     "text": [
      "100%|██████████| 117/117 [00:00<00:00, 927.61it/s]\n"
     ]
    },
    {
     "name": "stdout",
     "output_type": "stream",
     "text": [
      "../../../datasets/Structure_Trees_mk2/Eukaryota/\n"
     ]
    },
    {
     "name": "stderr",
     "output_type": "stream",
     "text": [
      "100%|██████████| 117/117 [00:00<00:00, 331.71it/s]\n"
     ]
    }
   ],
   "source": [
    "minlen = min(list(lengths.values()) )\n",
    "print(minlen)\n",
    "#clear output directory\n",
    "\n",
    "\n",
    "#sample the superfamilies\n",
    "for clade in superfams:\n",
    "    cladestr = clade.split('/')[-2]+'/'\n",
    "    if not os.path.isdir(outpath+cladestr):\n",
    "        os.mkdir(outpath+cladestr)\n",
    "    print(clade)\n",
    "    superfams[clade] = random.sample( list(superfams[clade]) , minlen)\n",
    "    for s in tqdm(superfams[clade]):\n",
    "        #copy the files to the output folder\n",
    "        superfam = s.split('/')[-2]+'/'\n",
    "        if not os.path.exists(outpath+cladestr+superfam):\n",
    "            os.mkdir(outpath+cladestr+superfam)\n",
    "            shutil.copy(s+'identifiers.txt', outpath+cladestr+superfam+'identifiers.txt')\n"
   ]
  },
  {
   "cell_type": "code",
   "execution_count": null,
   "id": "e0793dd2",
   "metadata": {},
   "outputs": [],
   "source": []
  }
 ],
 "metadata": {
  "kernelspec": {
   "display_name": "Python 3 (ipykernel)",
   "language": "python",
   "name": "python3"
  },
  "language_info": {
   "codemirror_mode": {
    "name": "ipython",
    "version": 3
   },
   "file_extension": ".py",
   "mimetype": "text/x-python",
   "name": "python",
   "nbconvert_exporter": "python",
   "pygments_lexer": "ipython3",
   "version": "3.10.4"
  },
  "vscode": {
   "interpreter": {
    "hash": "de5d7f200d48311110fd5aad35b72e9d2d5b7cd2d05319e69d8eae45c81b4a25"
   }
  }
 },
 "nbformat": 4,
 "nbformat_minor": 5
}
