{
 "cells": [
  {
   "cell_type": "code",
   "execution_count": 32,
   "id": "b2012693-c6a3-4b72-bf8f-d657e3983ded",
   "metadata": {},
   "outputs": [
    {
     "name": "stdout",
     "output_type": "stream",
     "text": [
      "The autoreload extension is already loaded. To reload it, use:\n",
      "  %reload_ext autoreload\n"
     ]
    }
   ],
   "source": [
    "%load_ext autoreload\n",
    "%autoreload 2"
   ]
  },
  {
   "cell_type": "code",
   "execution_count": 33,
   "id": "9cf13a9a-2970-432c-a45b-91dbf077f11b",
   "metadata": {},
   "outputs": [],
   "source": [
    "import sys\n",
    "sys.path.append('../')\n",
    "from src import AFDB_tools, treescore , foldseek2tree\n",
    "import pandas as pd\n",
    "import torch"
   ]
  },
  {
   "cell_type": "code",
   "execution_count": 34,
   "id": "15642502-23d3-4cde-aa32-fb2c2cf68274",
   "metadata": {},
   "outputs": [
    {
     "name": "stdout",
     "output_type": "stream",
     "text": [
      "        0   1   2   3   4   5   6   7   8   9   10     11\n",
      "0  1oaiA00   1  10   8  10   1   1   1   1   1  59    1.0\n",
      "1  1go5A00   1  10   8  10   1   1   1   1   2  69  999.0\n",
      "2  3frhA01   1  10   8  10   2   1   1   1   1  58    1.2\n",
      "3  3friA01   1  10   8  10   2   1   1   1   2  54    1.8\n",
      "4  3b89A01   1  10   8  10   2   1   1   2   1  54    2.6\n"
     ]
    }
   ],
   "source": [
    "#load cath dataset from CATH data folder with comment lines as # and white space seperator\n",
    "domain_df = pd.read_csv('../CATH_data/cath-domain-list.txt' , comment='#' , header = None , delim_whitespace=True)\n",
    "print(domain_df.head())"
   ]
  },
  {
   "cell_type": "code",
   "execution_count": 35,
   "id": "21ea694f",
   "metadata": {},
   "outputs": [],
   "source": [
    "#change the type to string\n",
    "domain_df = domain_df.astype(str)\n",
    "domain_df['superfam'] = domain_df[[1,2,3,4]].apply(lambda x : '.'.join(x), axis = 1) \n"
   ]
  },
  {
   "cell_type": "code",
   "execution_count": 36,
   "id": "74af3e1f",
   "metadata": {},
   "outputs": [],
   "source": [
    "siftsdf = pd.read_csv('../CATH_data/pdb_chain_cath_uniprot.csv', header=1 )\n"
   ]
  },
  {
   "cell_type": "code",
   "execution_count": 37,
   "id": "9dc72239",
   "metadata": {},
   "outputs": [
    {
     "name": "stdout",
     "output_type": "stream",
     "text": [
      "6485\n",
      "    PDB CHAIN SP_PRIMARY  CATH_ID        0  1   2    3   4  5  6  7   8  9  \\\n",
      "0  101m     A     P02185  101mA00  101mA00  1  10  490  10  1  1  1  51  4   \n",
      "1  102l     A     P00720  102lA00  102lA00  1  10  530  40  1  1  2  30  2   \n",
      "2  102m     A     P02185  102mA00  102mA00  1  10  490  10  1  1  1  42  7   \n",
      "3  103l     A     P00720  103lA00  103lA00  1  10  530  40  1  1  2  69  2   \n",
      "4  103m     A     P02185  103mA00  103mA00  1  10  490  10  1  1  1  42  8   \n",
      "\n",
      "    10    11     superfam  \n",
      "0  154  2.07  1.10.490.10  \n",
      "1  163  1.74  1.10.530.40  \n",
      "2  154  1.84  1.10.490.10  \n",
      "3  159   1.9  1.10.530.40  \n",
      "4  154  2.07  1.10.490.10   451320 None\n"
     ]
    }
   ],
   "source": [
    "#merge with domain df on cath id\n",
    "siftsdf = siftsdf.merge(domain_df, left_on = 'CATH_ID' , right_on = 0 , how = 'left')\n",
    "siftsdf = siftsdf.dropna()\n",
    "print(siftsdf.head(), len(siftsdf) , print(len(siftsdf.superfam.unique())))"
   ]
  },
  {
   "cell_type": "code",
   "execution_count": 38,
   "id": "69e5913b",
   "metadata": {},
   "outputs": [
    {
     "name": "stdout",
     "output_type": "stream",
     "text": [
      "['1.10.490.10' '1.10.530.40' '3.40.30.10' ... '6.10.140.1500'\n",
      " '1.20.120.1500' '1.10.10.1760'] 6485\n"
     ]
    },
    {
     "data": {
      "image/png": "[encoded data removed]",
      "text/plain": [
       "<Figure size 640x480 with 1 Axes>"
      ]
     },
     "metadata": {},
     "output_type": "display_data"
    }
   ],
   "source": [
    "from matplotlib import pyplot as plt\n",
    "print(siftsdf.superfam.unique(),len(siftsdf.superfam.unique()))\n",
    "#make a histogram of the superfam counts\n",
    "famsizes = siftsdf.superfam.value_counts().to_numpy()\n",
    "\n",
    "\n",
    "plt.hist( famsizes[famsizes>10] , bins = 100)\n",
    "plt.show()"
   ]
  },
  {
   "cell_type": "code",
   "execution_count": 42,
   "id": "1a7d7f38",
   "metadata": {},
   "outputs": [
    {
     "name": "stdout",
     "output_type": "stream",
     "text": [
      "done 702\n"
     ]
    },
    {
     "data": {
      "image/png": "[encoded data removed]",
      "text/plain": [
       "<Figure size 640x480 with 1 Axes>"
      ]
     },
     "metadata": {},
     "output_type": "display_data"
    }
   ],
   "source": [
    "from src import AFDB_tools\n",
    "import os\n",
    "datapath = '../CATH_data/'\n",
    "nprots = 250\n",
    "minprots = 500\n",
    "fams = 2000\n",
    "total = 0\n",
    "lengths = []\n",
    "#iterate over all superfamilies and create a tree for each\n",
    "\n",
    "if not os.path.exists(datapath):\n",
    "    os.mkdir(datapath)\n",
    "for i,superfam in enumerate(siftsdf.superfam.unique()):\n",
    "    if not os.path.exists(datapath+superfam):\n",
    "        os.mkdir(datapath+superfam)\n",
    "\n",
    "    #create a tree for each superfam\n",
    "    #sample 1000 proteins from the superfam\n",
    "    sub = siftsdf[siftsdf.superfam == superfam]\n",
    "    prots = list(sub['SP_PRIMARY'].unique())\n",
    "    prots = prots[:nprots]\n",
    "    #output the sequence dataset to a file\n",
    "    #create a folder for the superfam if it does not exist\n",
    "    #output the uniport ids to a file\n",
    "    if len(prots)> 10:\n",
    "        lengths.append(len(prots))\n",
    "\n",
    "        total+=1\n",
    "        with open(datapath+superfam+'/identifiers.txt', 'w') as f:\n",
    "            f.write('\\n'.join( prots ))\n",
    "print('done', total)\n",
    "plt.hist(lengths)\n",
    "plt.show()"
   ]
  },
  {
   "cell_type": "code",
   "execution_count": null,
   "id": "a4650ada-b027-4ff9-b90e-61ee16b57f06",
   "metadata": {},
   "outputs": [],
   "source": []
  }
 ],
 "metadata": {
  "kernelspec": {
   "display_name": "Python 3 (ipykernel)",
   "language": "python",
   "name": "python3"
  },
  "language_info": {
   "codemirror_mode": {
    "name": "ipython",
    "version": 3
   },
   "file_extension": ".py",
   "mimetype": "text/x-python",
   "name": "python",
   "nbconvert_exporter": "python",
   "pygments_lexer": "ipython3",
   "version": "3.10.8"
  },
  "vscode": {
   "interpreter": {
    "hash": "de5d7f200d48311110fd5aad35b72e9d2d5b7cd2d05319e69d8eae45c81b4a25"
   }
  }
 },
 "nbformat": 4,
 "nbformat_minor": 5
}
