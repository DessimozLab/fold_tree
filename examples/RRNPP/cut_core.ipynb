{
 "cells": [
  {
   "cell_type": "code",
   "execution_count": 2,
   "id": "bba232e4-4b25-467d-8b77-489b1272a4f3",
   "metadata": {},
   "outputs": [],
   "source": [
    "import pandas as pd\n",
    "import Bio.PDB"
   ]
  },
  {
   "cell_type": "code",
   "execution_count": null,
   "id": "6680f906-1c89-4dab-9585-022a9e3dfe7e",
   "metadata": {},
   "outputs": [],
   "source": [
    "#read all results\n",
    "\n",
    "\n",
    "#map hits to each struc\n",
    "\n",
    "\n",
    "#cut at thresh of nhits/nstrcuts\n",
    "\n",
    "#output residue range for each struct\n",
    "\n",
    "\n",
    "#make core struct folder\n",
    "\n",
    "#ngl view some strcut vs core eamples\n",
    "\n",
    "\n",
    "#parse each struct and output core to folder \n",
    "parser = Bio.PDB.PDBParser.PDBParser()\n",
    "for structfile in ranges:\n",
    "    struct = parser.get_structure(structfile)\n",
    "    Bio.PDB.Dice.extract()\n",
    "    struct = \n",
    "#clip struct to core\n",
    "\n",
    "#recalc tree\n",
    "\n",
    "\n",
    "\n",
    "\n",
    "\n",
    "#"
   ]
  }
 ],
 "metadata": {
  "kernelspec": {
   "display_name": "Python 3 (ipykernel)",
   "language": "python",
   "name": "python3"
  },
  "language_info": {
   "codemirror_mode": {
    "name": "ipython",
    "version": 3
   },
   "file_extension": ".py",
   "mimetype": "text/x-python",
   "name": "python",
   "nbconvert_exporter": "python",
   "pygments_lexer": "ipython3",
   "version": "3.10.8"
  }
 },
 "nbformat": 4,
 "nbformat_minor": 5
}
