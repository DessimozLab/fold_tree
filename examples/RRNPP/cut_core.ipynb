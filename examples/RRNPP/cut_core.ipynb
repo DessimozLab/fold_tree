{
 "cells": [
  {
   "cell_type": "code",
   "execution_count": 1,
   "id": "bba232e4-4b25-467d-8b77-489b1272a4f3",
   "metadata": {},
   "outputs": [],
   "source": [
    "import pandas as pd\n",
    "import Bio.PDB\n",
    "import numpy as np\n",
    "import os\n",
    "import tqdm"
   ]
  },
  {
   "cell_type": "code",
   "execution_count": 13,
   "id": "d112b5cd-7d38-4396-8b79-140bc509e145",
   "metadata": {},
   "outputs": [
    {
     "name": "stdout",
     "output_type": "stream",
     "text": [
      "                    0               1     2      3             4   5    6   \\\n",
      "0       A0A060LXZ4.pdb  A0A060LXZ4.pdb  2487  1.000  5.344000e-43   0  361   \n",
      "1       A0A060LXZ4.pdb  A0A060M1P9.pdb  1418  0.526  2.304000e-26   0  361   \n",
      "2       A0A060LXZ4.pdb  A0A060M707.pdb  1128  0.398  1.259000e-21   1  361   \n",
      "3       A0A060LXZ4.pdb  A0A060LST4.pdb  1076  0.468  6.192000e-23   2  361   \n",
      "4       A0A060LXZ4.pdb  A0A060LTA2.pdb   942  0.318  1.327000e-18   1  359   \n",
      "...                ...             ...   ...    ...           ...  ..  ...   \n",
      "647746      V5MM16.pdb  A0A2Z6BN59.pdb    32  0.102  2.244000e+00  35  312   \n",
      "647747      V5MM16.pdb  A0A7H0Y2E7.pdb    31  0.131  1.201000e+00  92  376   \n",
      "647748      V5MM16.pdb      Q9A103.pdb    30  0.109  1.404000e+00  27  383   \n",
      "647749      V5MM16.pdb  A0A4U9YQS3.pdb    29  0.112  1.579000e+00  27  399   \n",
      "647750      V5MM16.pdb  A0A3S4SG61.pdb    22  0.120  3.586000e+00  27  366   \n",
      "\n",
      "         7   8    9    10                                                 11  \n",
      "0       362   0  361  362                                               362M  \n",
      "1       362   0  359  360                                      65M3I289M1D5M  \n",
      "2       362   2  363  364                                 73M4I190M4D88M1D6M  \n",
      "3       362   3  359  360                                  64M1I8M3I277M1D7M  \n",
      "4       362   2  363  364                        63M4D14M4I83M1I99M3D91M1D4M  \n",
      "...     ...  ..  ...  ...                                                ...  \n",
      "647746  407   7  263  281  7M6D17M2I5M3I4M9I14M3I10M6I4M6I38M8D4M3I13M2D4...  \n",
      "647747  407   3  265  293  5M1I19M1D9M6I2M2I8M1I4M8I11M11D9M1I24M2I15M3D2...  \n",
      "647748  407   4  280  283  22M1I9M1I6M1I27M2I7M13I16M7I9M13I28M3I17M2D3M5...  \n",
      "647749  407   4  278  284  22M1I9M1I6M1I37M3I15M1I9M31I26M3I17M2D3M5I13M4...  \n",
      "647750  407   4  277  283  22M1I9M1I6M1I27M2I7M14I16M6I5M10I5M3I27M3I17M2...  \n",
      "\n",
      "[647751 rows x 12 columns]\n"
     ]
    }
   ],
   "source": [
    "#read all results\n",
    "resdf = pd.read_table('structaln_score.tsv' , header = None)\n",
    "print(resdf)"
   ]
  },
  {
   "cell_type": "code",
   "execution_count": 15,
   "id": "aaee41d0-a54e-4a21-a50f-c1da8aaaf491",
   "metadata": {},
   "outputs": [
    {
     "name": "stderr",
     "output_type": "stream",
     "text": [
      "processed: 805: 100%|█████████████████████████| 805/805 [01:58<00:00,  6.79it/s]\n"
     ]
    }
   ],
   "source": [
    "#map hits to each struc\n",
    "hits = {}\n",
    "#proportion of structures that need to map to a residue for it to be kep in the final struct\n",
    "hitthresh = .8\n",
    "strcutfold = './structs/'\n",
    "with tqdm.tqdm(total=len(resdf[0].unique())) as pbar:\n",
    "    for i,q in enumerate(resdf[0].unique()):\n",
    "        sub = resdf[resdf[0] == q]\n",
    "        hitvec = np.zeros((1,sub.iloc[0][7]))\n",
    "        for idx,r in sub.iterrows():\n",
    "            hitvec[0,r[5]:r[6]] = hitvec[0,r[5]:r[6]]+1\n",
    "        hitvec /= len(resdf[0].unique())\n",
    "        core = np.where(hitvec>hitthresh)[1]\n",
    "        hits[q]= (np.amin(core), np.amax(core))\n",
    "        pbar.set_description('processed: %d' % (1 + i))\n",
    "        pbar.update(1)  "
   ]
  },
  {
   "cell_type": "code",
   "execution_count": 16,
   "id": "ca087b68-84ea-4bd5-9cc4-7f37e9001170",
   "metadata": {},
   "outputs": [
    {
     "name": "stdout",
     "output_type": "stream",
     "text": [
      "{'A0A060LXZ4.pdb': (15, 344), 'A0A075R948.pdb': (78, 386), 'A0A0F7FGL9.pdb': (62, 415), 'A0A0M3RAQ7.pdb': (10, 322), 'A0A109WF09.pdb': (17, 315), 'A0A1B1LDW3.pdb': (13, 317), 'A0A1E1G9T9.pdb': (4, 282), 'A0A1U9K4D6.pdb': (74, 369), 'A0A1W6AJ49.pdb': (24, 332), 'A0A1Y0IMR9.pdb': (73, 343), 'A0A1Y0IWF6.pdb': (73, 345), 'A0A223CZV5.pdb': (72, 345), 'A0A285BFV3.pdb': (9, 363), 'A0A2I5JZA3.pdb': (12, 328), 'A0A2K9IZF0.pdb': (61, 356), 'A0A2Z6BN59.pdb': (42, 257), 'A0A385T342.pdb': (78, 387), 'A0A3Q9HRH2.pdb': (15, 272), 'A0A3S9TJ74.pdb': (34, 328), 'A0A4P7A0I1.pdb': (62, 350), 'A0A518V219.pdb': (114, 447), 'A0A5J6SU43.pdb': (48, 328), 'A0A6G7JEB2.pdb': (19, 315), 'A0A6I6I7J9.pdb': (20, 277), 'A0A6I6UPL9.pdb': (63, 346), 'A0A6I7FCS7.pdb': (27, 320), 'A0A7G1IQM5.pdb': (5, 277), 'A0A7H0Y2E7.pdb': (15, 261), 'A0A7T5ESM5.pdb': (25, 355), 'A0A7Z2FZP5.pdb': (11, 314), 'A0A826GVE8.pdb': (21, 326), 'A7GVL1.pdb': (22, 296), 'A9VV35.pdb': (22, 315), 'B7IZ99.pdb': (21, 324), 'C2MNK1.pdb': (10, 297), 'C2PY33.pdb': (59, 368), 'C2VBZ6.pdb': (21, 315), 'C2Y441.pdb': (19, 317), 'C3DY65.pdb': (64, 397), 'D4FV89.pdb': (14, 322), 'E6TQP5.pdb': (29, 324), 'G7SF00.pdb': (4, 277), 'I9L4S7.pdb': (3, 271), 'M1MYJ6.pdb': (84, 375), 'Q5M4D0.pdb': (4, 276), 'Q65FD0.pdb': (13, 311), 'Q735S3.pdb': (29, 294), 'Q97TQ8.pdb': (12, 367), 'A0A060M073.pdb': (55, 356), 'A0A075RII6.pdb': (71, 413), 'A0A0F7HM59.pdb': (3, 286), 'A0A0H3E6Y7.pdb': (11, 342), 'A0A0T6BPN4.pdb': (11, 337), 'A0A158RMJ1.pdb': (65, 380), 'A0A1B1LIA5.pdb': (91, 393), 'A0A1L6ZIK7.pdb': (42, 330), 'A0A1W6AHL6.pdb': (69, 364), 'A0A1Y0ILD2.pdb': (64, 351), 'A0A1Y0ITL3.pdb': (9, 364), 'A0A222WK50.pdb': (7, 420), 'A0A239T000.pdb': (7, 281), 'A0A2B4JJM4.pdb': (60, 355), 'A0A2I7SPI0.pdb': (83, 368), 'A0A2S1AH59.pdb': (32, 303), 'A0A383R821.pdb': (75, 395), 'A0A387B4I6.pdb': (5, 276), 'A0A3R5QR53.pdb': (6, 369), 'A0A410WM21.pdb': (15, 312), 'A0A4P9F2M1.pdb': (16, 317), 'A0A518V4D5.pdb': (67, 394), 'A0A5J6SMR6.pdb': (6, 275), 'A0A679GZ89.pdb': (71, 361), 'A0A6G7JL46.pdb': (14, 318), 'A0A6H3AJL9.pdb': (70, 349), 'A0A6I7EFK2.pdb': (69, 361), 'A0A6M8D843.pdb': (37, 361), 'A0A7D4JF71.pdb': (12, 291), 'A0A7G8XB40.pdb': (65, 357), 'A0A7T5EIJ5.pdb': (65, 370), 'A0A7Z2J5L5.pdb': (18, 346), 'A0A826GSW8.pdb': (23, 316), 'A7GV98.pdb': (6, 277), 'A9VI48.pdb': (14, 296), 'B7IY66.pdb': (18, 365), 'C1CE45.pdb': (4, 278), 'C2PXB9.pdb': (8, 294), 'C2SX62.pdb': (45, 301), 'C2W4Q7.pdb': (26, 312), 'C3AM19.pdb': (20, 305), 'C3ED03.pdb': (13, 250), 'D8GX91.pdb': (39, 355), 'F8DHW7.pdb': (9, 273), 'I2C3P4.pdb': (15, 306), 'K0FX73.pdb': (67, 368), 'P94415.pdb': (17, 311), 'Q5LKC1.pdb': (105, 393), 'Q6HNL6.pdb': (68, 353), 'Q9K6M3.pdb': (28, 345), 'V5MLF0.pdb': (59, 357), 'A0A075RBX2.pdb': (80, 396), 'A0A0E1MKG4.pdb': (20, 313), 'A0A0M3RE22.pdb': (63, 342), 'A0A193CMT3.pdb': (21, 296), 'A0A1C3SCZ5.pdb': (12, 335), 'A0A1C9C3A8.pdb': (59, 365), 'A0A1W6AEV8.pdb': (106, 403), 'A0A1Y0IJ68.pdb': (68, 361), 'A0A220MJ59.pdb': (32, 375), 'A0A223D0Y3.pdb': (76, 353), 'A0A2B4PBZ4.pdb': (40, 297), 'A0A2I5KHZ4.pdb': (5, 274), 'A0A2S1AAB0.pdb': (22, 318), 'A0A2S1H1F5.pdb': (44, 373), 'A0A385T1V0.pdb': (66, 394), 'A0A3P5Y8E1.pdb': (29, 274), 'A0A3R5UAV6.pdb': (7, 366), 'A0A410WJB9.pdb': (32, 331), 'A0A4P9EVU0.pdb': (67, 350), 'A0A5B8PSY4.pdb': (68, 358), 'A0A5J6PNV7.pdb': (63, 346), 'A0A679H258.pdb': (62, 353), 'A0A6G7JI56.pdb': (12, 323), 'A0A6I6UPZ1.pdb': (5, 286), 'A0A6I7EWL3.pdb': (17, 337), 'A0A6P1HH13.pdb': (68, 361), 'A0A7H8QBB4.pdb': (64, 348), 'A0A809FN58.pdb': (17, 303), 'A7GUX4.pdb': (28, 331), 'A9KPE5.pdb': (6, 301), 'B7IR85.pdb': (26, 299), 'B9IRY3.pdb': (6, 274), 'C2MH55.pdb': (32, 306), 'C2RY88.pdb': (74, 367), 'C2VLE4.pdb': (29, 297), 'C2XDJ3.pdb': (90, 377), 'C3DEC5.pdb': (67, 369), 'D3T6U8.pdb': (4, 302), 'D5DDU4.pdb': (5, 280), 'E0TU98.pdb': (13, 324), 'G7M783.pdb': (87, 351), 'K0FM26.pdb': (16, 361), 'M1Q4T6.pdb': (5, 286), 'Q59HN8.pdb': (18, 344), 'Q65HV9.pdb': (13, 308), 'Q814S2.pdb': (5, 277), 'Q9CDL4.pdb': (5, 272), 'U5LFS4.pdb': (63, 348), 'A0A075R5V6.pdb': (72, 393), 'A0A0B4SDG1.pdb': (23, 336), 'A0A0H2UN31.pdb': (4, 282), 'A0A0H3DWQ7.pdb': (37, 319), 'A0A0M4FS88.pdb': (31, 355), 'A0A116PIE1.pdb': (4, 279), 'A0A193CXH4.pdb': (26, 302), 'A0A1B3XVB9.pdb': (6, 281), 'A0A1E1GA66.pdb': (5, 268), 'A0A1L6ZLN1.pdb': (11, 310), 'A0A1Y0IHI7.pdb': (17, 378), 'A0A1Y0IRN0.pdb': (80, 355), 'A0A223CWZ9.pdb': (68, 340), 'A0A223KT34.pdb': (6, 288), 'A0A248TIQ0.pdb': (7, 289), 'A0A2B5PUZ1.pdb': (5, 272), 'A0A2H3MLQ5.pdb': (29, 328), 'A0A2R2IP40.pdb': (68, 379), 'A0A2Z2KX58.pdb': (30, 274), 'A0A385T3M4.pdb': (66, 396), 'A0A3G5UB86.pdb': (67, 374), 'A0A3S9SZG5.pdb': (32, 283), 'A0A4P6ZW77.pdb': (60, 338), 'A0A518V1S1.pdb': (79, 395), 'A0A5C0WME3.pdb': (13, 347), 'A0A5P8Q322.pdb': (4, 298), 'A0A6G7JCZ0.pdb': (12, 320), 'A0A6H0WP66.pdb': (12, 311), 'A0A6I6UTI9.pdb': (61, 355), 'A0A6I7FCM0.pdb': (29, 355), 'A0A6S6QSW8.pdb': (6, 289), 'A0A7G7UBL7.pdb': (17, 310), 'A0A7S8HGM5.pdb': (65, 349), 'A0A7U6HAZ2.pdb': (63, 367), 'A0A806HXU6.pdb': (98, 403), 'A7GLT2.pdb': (20, 299), 'A9VNN3.pdb': (26, 311), 'B7HZ83.pdb': (10, 295), 'B9ITP0.pdb': (14, 300), 'C2P6P7.pdb': (6, 276), 'C2PQH4.pdb': (48, 368), 'C2V3H4.pdb': (5, 277), 'C2WQI3.pdb': (10, 315), 'C3AVH9.pdb': (41, 316), 'C3FZQ2.pdb': (10, 302), 'D8H6E1.pdb': (19, 321), 'G4NWJ5.pdb': (45, 334), 'J4A2D0.pdb': (86, 374), 'P45943.pdb': (14, 320), 'Q5WBV2.pdb': (19, 350), 'Q72X97.pdb': (5, 277), 'Q81H01.pdb': (13, 319), 'V5ME49.pdb': (64, 349), 'A0A075QYE8.pdb': (79, 394), 'A0A0B5AQA9.pdb': (64, 340), 'A0A0H3DWJ6.pdb': (13, 320), 'A0A0K0QCL2.pdb': (58, 362), 'A0A0X8UWJ2.pdb': (5, 276), 'A0A160IM77.pdb': (8, 284), 'A0A1B1LI23.pdb': (61, 373), 'A0A1C9BP84.pdb': (6, 271), 'A0A1L3MMI7.pdb': (6, 282), 'A0A1U9YLU3.pdb': (18, 327), 'A0A1Y0IHU3.pdb': (73, 344), 'A0A1Y0IRA1.pdb': (78, 374), 'A0A223CX87.pdb': (78, 389), 'A0A226V1P2.pdb': (6, 265), 'A0A291KW88.pdb': (12, 308), 'A0A2D1ST95.pdb': (73, 364), 'A0A2P0H9I7.pdb': (59, 358), 'A0A380KXM9.pdb': (4, 264), 'A0A386ZRR9.pdb': (69, 350), 'A0A3R5QS52.pdb': (60, 369), 'A0A410QF08.pdb': (8, 368), 'A0A4Y6UY33.pdb': (8, 416), 'A0A5B8TEE0.pdb': (14, 275), 'A0A5C1FMV7.pdb': (19, 299), 'A0A6F8TRF7.pdb': (63, 344), 'A0A6H0WHW6.pdb': (15, 329), 'A0A6I7F442.pdb': (16, 317), 'A0A6P1X321.pdb': (4, 276), 'A0A7D3YA17.pdb': (50, 370), 'A0A7M2QTU0.pdb': (67, 366), 'A0A7U5AUI0.pdb': (14, 315), 'A0A806PIQ5.pdb': (21, 413), 'A7GPZ9.pdb': (13, 334), 'A8MKY0.pdb': (65, 343), 'B7IR03.pdb': (6, 273), 'B9IXA1.pdb': (26, 335), 'C2PI20.pdb': (17, 289), 'C2UMS1.pdb': (26, 283), 'C2WFW0.pdb': (51, 301), 'C2ZG98.pdb': (63, 367), 'C3GC51.pdb': (90, 388), 'D6XZW8.pdb': (5, 275), 'F4BN04.pdb': (8, 287), 'G7M636.pdb': (10, 365), 'J7HY14.pdb': (63, 366), 'M1QXW8.pdb': (88, 377), 'Q5WBM7.pdb': (17, 321), 'Q6HME5.pdb': (29, 315), 'Q81H37.pdb': (5, 286), 'S5ZRX3.pdb': (65, 355), 'A0A075JST0.pdb': (46, 332), 'A0A075R862.pdb': (61, 394), 'A0A0D6T5D1.pdb': (6, 277), 'A0A0H3DXL3.pdb': (13, 310), 'A0A0M4G834.pdb': (66, 340), 'A0A133MT81.pdb': (4, 256), 'A0A193CZM6.pdb': (100, 390), 'A0A1C3SHV4.pdb': (12, 304), 'A0A1W5ZRK0.pdb': (97, 389), 'A0A1Y0II21.pdb': (78, 357), 'A0A1Y0IQZ0.pdb': (67, 359), 'A0A223CYP7.pdb': (13, 354), 'A0A223D5W5.pdb': (12, 352), 'A0A2B6IC24.pdb': (21, 316), 'A0A2I5K1Q4.pdb': (21, 306), 'A0A2K9J471.pdb': (61, 343), 'A0A2Z5U3H1.pdb': (2, 279), 'A0A385TFQ4.pdb': (58, 387), 'A0A3S4NUA8.pdb': (5, 279), 'A0A410MFJ3.pdb': (63, 335), 'A0A511DV58.pdb': (6, 280), 'A0A5B8ZBN8.pdb': (7, 272), 'A0A5C4NZD7.pdb': (4, 278), 'A0A5K1KZZ4.pdb': (31, 348), 'A0A6G7JF69.pdb': (31, 323), 'A0A6H2JMZ8.pdb': (13, 322), 'A0A6I7F671.pdb': (11, 344), 'A0A6P1HNY8.pdb': (25, 331), 'A0A7D4JKG1.pdb': (64, 328), 'A0A7T2CVM3.pdb': (5, 267), 'A0A7T5EW61.pdb': (53, 356), 'A0A806HWZ5.pdb': (22, 318), 'A0A857HJ64.pdb': (76, 371), 'A7Z3N2.pdb': (22, 311), 'B1HUT9.pdb': (65, 356), 'B9J687.pdb': (22, 325), 'C2PA83.pdb': (68, 359), 'C2V7X4.pdb': (13, 317), 'C2XM02.pdb': (72, 358), 'C3BSZ0.pdb': (5, 283), 'C3DW77.pdb': (20, 311), 'D4G6U9.pdb': (31, 312), 'F0NX47.pdb': (9, 284), 'G7M9E0.pdb': (97, 380), 'M1MBP2.pdb': (86, 354), 'Q5FMT7.pdb': (3, 258), 'Q5WC17.pdb': (6, 285), 'Q65M77.pdb': (12, 314), 'Q8DYJ0.pdb': (4, 265), 'U5S7M3.pdb': (10, 287), 'A0A060M707.pdb': (17, 335), 'A0A075R6G0.pdb': (78, 400), 'A0A0B8R220.pdb': (14, 292), 'A0A0H3E4S2.pdb': (12, 315), 'A0A0M5JM86.pdb': (16, 325), 'A0A158RI13.pdb': (6, 272), 'A0A1B1LG80.pdb': (33, 306), 'A0A1L6ZEG5.pdb': (27, 346), 'A0A1U9YQH6.pdb': (9, 302), 'A0A1W6N9K3.pdb': (4, 260), 'A0A1Y0IP80.pdb': (16, 375), 'A0A220U740.pdb': (48, 337), 'A0A223CXX7.pdb': (124, 438), 'A0A291BKT9.pdb': (93, 413), 'A0A2I0RBA8.pdb': (18, 320), 'A0A2K9IXZ6.pdb': (59, 355), 'A0A385NLJ8.pdb': (66, 350), 'A0A387A8Y1.pdb': (39, 360), 'A0A3Q9BK89.pdb': (10, 284), 'A0A3T0HVC0.pdb': (41, 356), 'A0A448DD76.pdb': (5, 290), 'A0A514LKS8.pdb': (26, 314), 'A0A518V353.pdb': (78, 393), 'A0A5K1KRS0.pdb': (20, 302), 'A0A5P9Y049.pdb': (21, 328), 'A0A6G7WHI8.pdb': (11, 278), 'A0A6H3ACA0.pdb': (69, 358), 'A0A6I7FCM9.pdb': (29, 330), 'A0A7D3YVT9.pdb': (67, 364), 'A0A7G9AYC3.pdb': (4, 281), 'A0A7U4KSU1.pdb': (13, 318), 'A0R9N5.pdb': (69, 356), 'A8FC49.pdb': (11, 312), 'B4U0L0.pdb': (5, 279), 'B7JCU9.pdb': (14, 302), 'B9J3W7.pdb': (69, 356), 'C2PB77.pdb': (17, 315), 'C2UMT0.pdb': (69, 382), 'C2WPP6.pdb': (27, 370), 'C2ZAQ4.pdb': (22, 306), 'C3DV05.pdb': (12, 279), 'C3EEB6.pdb': (71, 374), 'D9TNF0.pdb': (6, 368), 'F8LYE6.pdb': (5, 273), 'I0JSP6.pdb': (99, 391), 'K0FYC4.pdb': (75, 373), 'O32294.pdb': (15, 337), 'Q5WC62.pdb': (12, 253), 'Q6EZI3.pdb': (21, 305), 'Q81EW5.pdb': (70, 350), 'Q9KBW0.pdb': (5, 286), 'V5MJE8.pdb': (42, 332), 'A0A060M7H6.pdb': (43, 340), 'A0A075R6V5.pdb': (75, 393), 'A0A0B5SCI6.pdb': (21, 295), 'A0A0H3E2G4.pdb': (57, 277), 'A0A0K2SN64.pdb': (67, 334), 'A0A0U4F518.pdb': (61, 337), 'A0A1B1KZE3.pdb': (75, 361), 'A0A1C3SD88.pdb': (82, 374), 'A0A1S7FG60.pdb': (87, 373), 'A0A1W6AJG0.pdb': (21, 328), 'A0A1Y0IPZ3.pdb': (73, 364), 'A0A220MMU8.pdb': (25, 398), 'A0A223D4X5.pdb': (69, 337), 'A0A291KK33.pdb': (30, 337), 'A0A2I5KE12.pdb': (5, 270), 'A0A2K8TKG6.pdb': (92, 394), 'A0A2S1AB96.pdb': (27, 310), 'A0A385T016.pdb': (67, 382), 'A0A387BG42.pdb': (9, 278), 'A0A3R8S8M5.pdb': (5, 275), 'A0A410DTG4.pdb': (6, 364), 'A0A4P9F448.pdb': (64, 354), 'A0A518V4B4.pdb': (79, 394), 'A0A5K1KVV2.pdb': (14, 335), 'A0A6B9YH72.pdb': (6, 289), 'A0A6G7JFH7.pdb': (12, 339), 'A0A6H3ABQ7.pdb': (20, 315), 'A0A6I7EX47.pdb': (13, 318), 'A0A6I7FF07.pdb': (11, 321), 'A0A7D3Y9S7.pdb': (68, 373), 'A0A7G9W5D9.pdb': (6, 355), 'A0A7T5JMW1.pdb': (89, 412), 'A0A7Z2STY0.pdb': (27, 335), 'A0A809FAL7.pdb': (19, 329), 'A7Z1I3.pdb': (31, 324), 'A8FIS5.pdb': (18, 333), 'B7JPI7.pdb': (68, 356), 'C0ZJQ0.pdb': (76, 394), 'C2R4H1.pdb': (13, 295), 'C2VL16.pdb': (91, 387), 'C2XMT9.pdb': (17, 296), 'C3DUD2.pdb': (35, 325), 'D3G1X9.pdb': (5, 287), 'E0RKZ4.pdb': (22, 268), 'F9UT06.pdb': (5, 271), 'G7VZH1.pdb': (19, 409), 'K0FZK1.pdb': (82, 399), 'P96649.pdb': (17, 360), 'Q65MM8.pdb': (11, 321), 'Q97CZ5.pdb': (11, 263), 'S6G2L3.pdb': (34, 292), 'A0A060M1P9.pdb': (12, 342), 'A0A075R207.pdb': (26, 399), 'A0A0B5SFU9.pdb': (16, 299), 'A0A0H3DYI3.pdb': (11, 316), 'A0A0M5JM41.pdb': (32, 320), 'A0A172ZAX4.pdb': (20, 413), 'A0A1C7DKM6.pdb': (77, 360), 'A0A1L6ZHD0.pdb': (13, 352), 'A0A1W5ZSE3.pdb': (40, 330), 'A0A1Y0IH37.pdb': (13, 341), 'A0A1Y0IPD0.pdb': (73, 368), 'A0A220U6Z0.pdb': (63, 358), 'A0A223EHS4.pdb': (5, 281), 'A0A239XEA8.pdb': (8, 284), 'A0A2B5NL02.pdb': (69, 355), 'A0A2K8U1H8.pdb': (54, 315), 'A0A2S1AHN8.pdb': (87, 377), 'A0A345VKN9.pdb': (4, 261), 'A0A385T6Z3.pdb': (63, 394), 'A0A3G4Z074.pdb': (70, 350), 'A0A410DXN0.pdb': (7, 365), 'A0A4U9XQ67.pdb': (4, 289), 'A0A518V1Q8.pdb': (65, 396), 'A0A5C0WCZ0.pdb': (23, 337), 'A0A5P9HLI5.pdb': (72, 347), 'A0A6G7JLW6.pdb': (16, 302), 'A0A6I6UUP9.pdb': (5, 287), 'A0A6I7F953.pdb': (30, 304), 'A0A6P1YE95.pdb': (11, 342), 'A0A7G7UEF1.pdb': (13, 314), 'A0A7T5JNR9.pdb': (27, 401), 'A0A806HN73.pdb': (69, 358), 'A7GL59.pdb': (69, 358), 'A8FCC6.pdb': (18, 318), 'B7HM99.pdb': (70, 350), 'C0MFK1.pdb': (6, 270), 'C2P7B9.pdb': (68, 383), 'C2URM8.pdb': (21, 296), 'C2X036.pdb': (89, 376), 'C3BPR2.pdb': (30, 332), 'C5WF66.pdb': (4, 264), 'D5HEX3.pdb': (142, 214), 'D8HAH8.pdb': (71, 379), 'G0I7K9.pdb': (3, 269), 'I2C4P6.pdb': (15, 306), 'K0FS52.pdb': (71, 363), 'O34930.pdb': (15, 339), 'Q5WD65.pdb': (55, 347), 'Q74NU6.pdb': (21, 303), 'Q8R6S1.pdb': (45, 240), 'U5LGD2.pdb': (6, 282), 'A0A060LTA2.pdb': (15, 315), 'A0A075LME0.pdb': (15, 314), 'A0A0B4S7Z8.pdb': (11, 322), 'A0A0G3WCM6.pdb': (36, 309), 'A0A0K0QMT7.pdb': (16, 331), 'A0A0U3DAT4.pdb': (4, 273), 'A0A161SWS9.pdb': (5, 287), 'A0A1B1LGZ2.pdb': (28, 328), 'A0A1D7MQG5.pdb': (36, 412), 'A0A1W6AJ91.pdb': (18, 289), 'A0A1Y0INP3.pdb': (73, 346), 'A0A220MFE2.pdb': (15, 427), 'A0A223D0R6.pdb': (21, 276), 'A0A291BK34.pdb': (15, 423), 'A0A2H2WIM5.pdb': (26, 316), 'A0A2R3JQ24.pdb': (5, 271), 'A0A2X3VKT6.pdb': (4, 282), 'A0A385T3E4.pdb': (41, 425), 'A0A3S9SVK0.pdb': (6, 322), 'A0A4P8SHT2.pdb': (3, 280), 'A0A517IBE2.pdb': (80, 393), 'A0A5C0WEH4.pdb': (12, 314), 'A0A5P9HTJ6.pdb': (6, 281), 'A0A6G7JAH3.pdb': (15, 302), 'A0A6H0WEL2.pdb': (15, 357), 'A0A6I6UR51.pdb': (68, 349), 'A0A6I7FCV5.pdb': (19, 344), 'A0A7D4BXG0.pdb': (49, 368), 'A0A7H1VRK5.pdb': (169, 248), 'A0A7S8CE02.pdb': (66, 342), 'A0A7U4KS82.pdb': (80, 372), 'A0A7Z2SZN2.pdb': (65, 358), 'A7GMG1.pdb': (23, 311), 'A8FIQ8.pdb': (28, 357), 'B7IKA1.pdb': (22, 317), 'C0Z8G2.pdb': (25, 399), 'C2SD77.pdb': (59, 369), 'C2VXA4.pdb': (71, 371), 'C2YTQ0.pdb': (67, 334), 'C3GSN6.pdb': (54, 380), 'E0RHI2.pdb': (20, 423), 'G9WIW9.pdb': (8, 282), 'J7I1B6.pdb': (74, 365), 'M1R4G2.pdb': (21, 313), 'Q631L1.pdb': (29, 314), 'Q81E45.pdb': (17, 288), 'Q97M74.pdb': (81, 357), 'A0A068NGC1.pdb': (6, 277), 'A0A075RAN3.pdb': (17, 228), 'A0A0B5S0K7.pdb': (6, 269), 'A0A0H3E1H2.pdb': (30, 353), 'A0A0K2MEJ7.pdb': (16, 321), 'A0A0X8KJX9.pdb': (65, 366), 'A0A193D294.pdb': (67, 374), 'A0A1C3SE68.pdb': (14, 334), 'A0A1S7FCY4.pdb': (25, 335), 'A0A1W6AJ35.pdb': (63, 369), 'A0A1Y0IM54.pdb': (18, 379), 'A0A1Y0ISY6.pdb': (75, 329), 'A0A223KVX5.pdb': (65, 346), 'A0A2C4XGM5.pdb': (25, 316), 'A0A2L1U980.pdb': (82, 416), 'A0A345X4M7.pdb': (22, 313), 'A0A385T692.pdb': (20, 415), 'A0A3Q9HRX4.pdb': (32, 319), 'A0A410MES7.pdb': (66, 358), 'A0A4V7TJT2.pdb': (17, 326), 'A0A5B8PT60.pdb': (27, 328), 'A0A5P8FHV3.pdb': (35, 310), 'A0A6F8TS12.pdb': (69, 361), 'A0A6H0WNI7.pdb': (12, 323), 'A0A6I6UY47.pdb': (17, 266), 'A0A6I7F7F1.pdb': (29, 321), 'A0A7D3Y3L0.pdb': (29, 296), 'A0A7G7U8K8.pdb': (27, 323), 'A0A7Z2FVU2.pdb': (22, 315), 'A0A856M8Z8.pdb': (14, 316), 'A7Z9V6.pdb': (26, 320), 'A9VSE8.pdb': (6, 277), 'B7H5Q3.pdb': (65, 382), 'C0Z4L6.pdb': (23, 399), 'C2PSB6.pdb': (15, 320), 'C2URQ9.pdb': (13, 302), 'C2X5G2.pdb': (59, 365), 'C3BGX2.pdb': (20, 295), 'C3ECP0.pdb': (14, 238), 'C7RGK2.pdb': (9, 296), 'D5H0M3.pdb': (3, 260), 'E3EAN0.pdb': (67, 419), 'G7SEP2.pdb': (5, 265), 'I2C5N7.pdb': (65, 367), 'K0J028.pdb': (29, 326), 'P71002.pdb': (12, 319), 'Q5WJ47.pdb': (21, 311), 'Q733Y4.pdb': (23, 299), 'Q9A103.pdb': (4, 277), 'S6FLB3.pdb': (15, 343), 'A0A060LXZ7.pdb': (5, 271), 'A0A075LHN5.pdb': (61, 356), 'A0A075RCM7.pdb': (68, 391), 'A0A0H2URV9.pdb': (3, 277), 'A0A0H3E6Y0.pdb': (14, 313), 'A0A0T6BJL1.pdb': (16, 316), 'A0A160FC76.pdb': (72, 360), 'A0A1B1LIJ8.pdb': (14, 298), 'A0A1C9C349.pdb': (47, 330), 'A0A1U9YPT3.pdb': (11, 319), 'A0A1X9MGV7.pdb': (28, 318), 'A0A1Y0ILE5.pdb': (67, 336), 'A0A1Y0IVU3.pdb': (73, 368), 'A0A223CYZ7.pdb': (48, 344), 'A0A239SSV0.pdb': (3, 282), 'A0A2B0KN76.pdb': (35, 373), 'A0A2I5KI81.pdb': (5, 273), 'A0A2K9J047.pdb': (61, 354), 'A0A2X3SEZ5.pdb': (9, 281), 'A0A383R4W7.pdb': (16, 392), 'A0A387A675.pdb': (48, 360), 'A0A3R5QRI6.pdb': (7, 365), 'A0A410WJW3.pdb': (29, 308), 'A0A502H580.pdb': (66, 395), 'A0A518V769.pdb': (55, 397), 'A0A5P9HT58.pdb': (6, 287), 'A0A6F8TZ02.pdb': (6, 287), 'A0A6G7K9G3.pdb': (10, 284), 'A0A6H2JMB5.pdb': (15, 301), 'A0A6I7EBT2.pdb': (26, 373), 'A0A6P1HFR4.pdb': (29, 346), 'A0A7D4BZ44.pdb': (64, 358), 'A0A7H8V064.pdb': (21, 276), 'A0A7T2Y9R1.pdb': (9, 273), 'A0A7U4I121.pdb': (15, 322), 'A0A7Z9D2C2.pdb': (4, 270), 'A0A859ENS0.pdb': (4, 282), 'A0RGR9.pdb': (28, 314), 'A7ZAM5.pdb': (29, 349), 'B4U262.pdb': (13, 256), 'B7IWX6.pdb': (68, 355), 'C2NRY6.pdb': (66, 377), 'C2SUH0.pdb': (22, 302), 'C2W3Z4.pdb': (69, 355), 'C2Z018.pdb': (13, 307), 'C3ECN1.pdb': (97, 394), 'D4G1I3.pdb': (35, 357), 'E0TY01.pdb': (43, 337), 'G7SDC7.pdb': (4, 279), 'I2C5I8.pdb': (29, 318), 'M1MWU1.pdb': (90, 369), 'Q5WJB6.pdb': (49, 340), 'Q73DP7.pdb': (69, 359), 'Q9KBE1.pdb': (20, 318), 'A0A075JKC7.pdb': (63, 337), 'A0A0B4R9Q6.pdb': (64, 348), 'A0A0H2UPU6.pdb': (4, 282), 'A0A0H3E5A1.pdb': (26, 347), 'A0A0T6BSE8.pdb': (19, 323), 'A0A193D2I8.pdb': (57, 369), 'A0A1B2E6P0.pdb': (7, 407), 'A0A1S7F781.pdb': (67, 377), 'A0A1W6AHD5.pdb': (15, 310), 'A0A1Y0ILA0.pdb': (23, 368), 'A0A1Y0ITQ7.pdb': (8, 319), 'A0A223CWR7.pdb': (21, 300), 'A0A223D340.pdb': (67, 359), 'A0A291BT04.pdb': (25, 419), 'A0A2I7SNJ8.pdb': (72, 409), 'A0A2U8EEW0.pdb': (67, 337), 'A0A383R6Z7.pdb': (10, 338), 'A0A387B9W1.pdb': (36, 287), 'A0A3S4SG61.pdb': (4, 266), 'A0A3S8SBI0.pdb': (18, 278), 'A0A410WKX5.pdb': (17, 323), 'A0A516GK55.pdb': (4, 275), 'A0A518VED6.pdb': (16, 431), 'A0A5P2TVV6.pdb': (7, 284), 'A0A679FHW6.pdb': (65, 351), 'A0A6H2JYQ3.pdb': (11, 279), 'A0A6I7EEE1.pdb': (17, 296), 'A0A6L8P236.pdb': (13, 308), 'A0A7D4C5X7.pdb': (74, 377), 'A0A7H8V470.pdb': (5, 261), 'A0A7T3MNG3.pdb': (75, 387), 'A0A7Z2NN06.pdb': (64, 347), 'A0A859FBS3.pdb': (61, 378), 'A8FAH6.pdb': (6, 354), 'B4U5B4.pdb': (5, 281), 'B7JU66.pdb': (21, 324), 'C0ZDG0.pdb': (26, 431), 'C2SDR3.pdb': (36, 302), 'C2W1E6.pdb': (30, 315), 'C2XKZ3.pdb': (10, 299), 'C3DQ44.pdb': (40, 359), 'D3G1N8.pdb': (5, 283), 'E0RLU3.pdb': (7, 411), 'G7W1Q3.pdb': (7, 410), 'K0G6P9.pdb': (51, 363), 'Q00828.pdb': (15, 314), 'Q65LL9.pdb': (18, 337), 'Q81AP3.pdb': (17, 304), 'Q9K5S4.pdb': (27, 314), 'V5MKJ5.pdb': (61, 368), 'A0A075R5M8.pdb': (73, 393), 'A0A0B5S9W9.pdb': (16, 309), 'A0A0H3E241.pdb': (19, 313), 'A0A0M4FPQ7.pdb': (63, 346), 'A0A0Z8EDW7.pdb': (4, 277), 'A0A193CMZ1.pdb': (80, 388), 'A0A1C3SAM2.pdb': (13, 321), 'A0A1U9K5B0.pdb': (77, 381), 'A0A1W7LWQ5.pdb': (6, 364), 'A0A1Y0IPE1.pdb': (28, 284), 'A0A220MQY1.pdb': (72, 393), 'A0A223D1V7.pdb': (73, 350), 'A0A291BU46.pdb': (62, 384), 'A0A2K9IW55.pdb': (36, 336), 'A0A2S2F733.pdb': (5, 271), 'A0A345PM60.pdb': (62, 336), 'A0A3G2R470.pdb': (75, 342), 'A0A3T0I385.pdb': (72, 361), 'A0A4U9YQS3.pdb': (4, 263), 'A0A518V314.pdb': (22, 392), 'A0A5K1KSV2.pdb': (35, 348), 'A0A6B8KA71.pdb': (66, 361), 'A0A6H1PB23.pdb': (63, 353), 'A0A6I6W9I7.pdb': (6, 275), 'A0A6I7FCJ6.pdb': (12, 304), 'A0A7D3XZ49.pdb': (55, 351), 'A0A7H8SAJ4.pdb': (62, 340), 'A0A7W4QCL5.pdb': (35, 352), 'A0A807MCP9.pdb': (25, 343), 'A7GL11.pdb': (21, 296), 'A8FC58.pdb': (29, 327), 'B7HFP8.pdb': (5, 266), 'B7JTX9.pdb': (82, 369), 'C2NVB0.pdb': (11, 316), 'C2UNP6.pdb': (26, 326), 'C2WWI6.pdb': (14, 288), 'C3DP37.pdb': (29, 337), 'C8WYH9.pdb': (62, 368), 'E3EAH4.pdb': (10, 403), 'G4NT83.pdb': (13, 313), 'I2C8V2.pdb': (22, 326), 'M1MZ65.pdb': (7, 362), 'Q65GG8.pdb': (31, 318), 'Q74NS7.pdb': (69, 355), 'S6FLN1.pdb': (62, 368), 'A0A060LT68.pdb': (28, 314), 'A0A075LSN7.pdb': (15, 287), 'A0A0B4S6J1.pdb': (12, 319), 'A0A0H3DVB7.pdb': (16, 323), 'A0A0J6EBB4.pdb': (28, 320), 'A0A0T6BQE4.pdb': (18, 318), 'A0A160IIM1.pdb': (61, 341), 'A0A1B1LIV8.pdb': (65, 355), 'A0A1C7HTJ6.pdb': (75, 395), 'A0A1U9YPK5.pdb': (22, 319), 'A0A1Y0IHR0.pdb': (23, 255), 'A0A1Y0IQ51.pdb': (85, 360), 'A0A222WTN7.pdb': (58, 394), 'A0A223D573.pdb': (16, 373), 'A0A291KLC3.pdb': (74, 373), 'A0A2I5KRB1.pdb': (5, 278), 'A0A2I7SU61.pdb': (12, 376), 'A0A2Z4MR52.pdb': (70, 374), 'A0A385TII1.pdb': (102, 427), 'A0A3S6Z492.pdb': (65, 340), 'A0A448D4L8.pdb': (4, 279), 'A0A517IE81.pdb': (15, 413), 'A0A5C1FEK2.pdb': (17, 361), 'A0A5P9HJ48.pdb': (12, 294), 'A0A6G7JD58.pdb': (12, 336), 'A0A6H2JLZ9.pdb': (45, 333), 'A0A6I6WC20.pdb': (4, 280), 'A0A6I7FGZ0.pdb': (28, 317), 'A0A7D4CEB2.pdb': (76, 387), 'A0A7S7RCA3.pdb': (147, 458), 'A0A7Z2K7Z4.pdb': (65, 356), 'A7GME7.pdb': (23, 327), 'A8FF04.pdb': (13, 301), 'B7HXS4.pdb': (26, 319), 'C1C9L4.pdb': (3, 279), 'C2P4I8.pdb': (21, 306), 'C2SN31.pdb': (19, 304), 'C2W2G4.pdb': (11, 297), 'C2XMV1.pdb': (28, 308), 'C3DVK3.pdb': (26, 258), 'C3GX39.pdb': (21, 302), 'D7ASA6.pdb': (10, 300), 'F2QFT3.pdb': (7, 278), 'G3FEJ7.pdb': (10, 278), 'G7VZS9.pdb': (19, 256), 'J4A2B0.pdb': (21, 311), 'M1MY12.pdb': (10, 358), 'Q5WBC1.pdb': (16, 318), 'Q65FR7.pdb': (13, 323), 'Q7AJX7.pdb': (31, 340), 'Q8EN90.pdb': (65, 355), 'A0A060LST4.pdb': (16, 331), 'A0A075R1W4.pdb': (22, 396), 'A0A075SI32.pdb': (3, 281), 'A0A0E0TEQ9.pdb': (65, 354), 'A0A0J6EG35.pdb': (23, 341), 'A0A0T6BTL7.pdb': (16, 324), 'A0A167UYA1.pdb': (18, 353), 'A0A1B1L9H6.pdb': (70, 356), 'A0A1C7DV57.pdb': (77, 361), 'A0A1W6AID9.pdb': (59, 357), 'A0A1Y0IJN9.pdb': (23, 322), 'A0A1Y0IP73.pdb': (46, 343), 'A0A221MEF8.pdb': (32, 331), 'A0A223D190.pdb': (16, 338), 'A0A291BQ42.pdb': (65, 389), 'A0A2C5MKZ3.pdb': (5, 277), 'A0A2I7SPL7.pdb': (80, 383), 'A0A2S1H643.pdb': (5, 277), 'A0A345PE41.pdb': (63, 350), 'A0A385T7V4.pdb': (82, 398), 'A0A3Q9HPK8.pdb': (19, 282), 'A0A3S8RZW0.pdb': (17, 266), 'A0A410PQC2.pdb': (82, 346), 'A0A516KJT0.pdb': (44, 330), 'A0A5B8PT53.pdb': (21, 310), 'A0A5C1FPG1.pdb': (15, 324), 'A0A5S4Z6I7.pdb': (62, 352), 'A0A6G7Y1A2.pdb': (15, 295), 'A0A6I6Q166.pdb': (7, 290), 'A0A6I7F7W7.pdb': (29, 344), 'A0A6P1TLL5.pdb': (6, 297), 'A0A7D4F9I6.pdb': (69, 350), 'A0A7M1KSS6.pdb': (3, 276), 'A0A7T5EL03.pdb': (75, 388), 'A0A7Z2J5F3.pdb': (28, 326), 'A0A826H478.pdb': (19, 317), 'A7GRV1.pdb': (70, 350), 'A8FDL3.pdb': (30, 357), 'B7H8P5.pdb': (10, 296), 'B9J6N4.pdb': (74, 361), 'C2P7P3.pdb': (28, 328), 'C2UN53.pdb': (10, 309), 'C2X867.pdb': (10, 295), 'C3BVN4.pdb': (32, 328), 'C3HBU9.pdb': (13, 293), 'D6S299.pdb': (4, 280), 'E8UV92.pdb': (9, 370), 'K0FRX4.pdb': (15, 293), 'M1R499.pdb': (29, 315), 'Q5M4L6.pdb': (9, 279), 'Q65FZ3.pdb': (54, 299), 'Q7CC21.pdb': (9, 285), 'Q9A132.pdb': (4, 270), 'V5MM16.pdb': (97, 394)}\n"
     ]
    }
   ],
   "source": [
    "print(hits)"
   ]
  },
  {
   "cell_type": "code",
   "execution_count": 17,
   "id": "0c0e6418-3a7d-4948-8d88-20d76de70aac",
   "metadata": {},
   "outputs": [
    {
     "name": "stdout",
     "output_type": "stream",
     "text": [
      "already\n"
     ]
    },
    {
     "name": "stderr",
     "output_type": "stream",
     "text": [
      "processed: 805: 100%|█████████████████████████| 805/805 [01:02<00:00, 12.96it/s]\n"
     ]
    }
   ],
   "source": [
    "\n",
    "corefolder = 'core_structs/'\n",
    "structfolder = 'structs/'\n",
    "#make core struct folder\n",
    "try:\n",
    "    os.mkdir(corefolder)\n",
    "except:\n",
    "    print('already')\n",
    "#parse each struct and output core to folder \n",
    "parser = Bio.PDB.PDBParser()\n",
    "with tqdm.tqdm(total=len(hits)) as pbar:\n",
    "    for i,q in enumerate(hits):\n",
    "        struct = parser.get_structure(q.split('.')[0] , structfolder+q )\n",
    "        #zero based indexing...\n",
    "        struct_core = Bio.PDB.Dice.extract(struct ,'A' , hits[q][0]+1 , hits[q][1]+1 , corefolder+q  )\n",
    "        pbar.set_description('processed: %d' % (1 + i))\n",
    "        pbar.update(1)            #todo ngl view some structs vs core\n",
    "#recalc tree w foldtree outside the notebook"
   ]
  },
  {
   "cell_type": "code",
   "execution_count": 18,
   "id": "17712caf-86cc-4d4e-9b2c-9f3a19d95b2f",
   "metadata": {},
   "outputs": [
    {
     "name": "stdout",
     "output_type": "stream",
     "text": [
      "The autoreload extension is already loaded. To reload it, use:\n",
      "  %reload_ext autoreload\n"
     ]
    }
   ],
   "source": [
    "#redo tree\n",
    "import subprocess, shlex\n",
    "import sys\n",
    "sys.path.append('../../src/')\n",
    "%load_ext autoreload\n",
    "%autoreload 2"
   ]
  },
  {
   "cell_type": "code",
   "execution_count": 19,
   "id": "29e5962e-b1fe-4358-b0c5-bb53cc886b57",
   "metadata": {},
   "outputs": [
    {
     "name": "stdout",
     "output_type": "stream",
     "text": [
      "core_structs/structblobDB exists and will be overwritten\n",
      "createdb core_structs/ core_structs/structblobDB \n",
      "\n",
      "MMseqs Version:  \t1.3c64211\n",
      "Chain name mode  \t0\n",
      "Write lookup file\t1\n",
      "Threads          \t4\n",
      "Verbosity        \t3\n",
      "\n",
      "Output file: core_structs/structblobDB\n",
      "[=================================================================] 823 0s 889ms\n",
      "Time for merging to structblobDB_ss: 0h 0m 0s 2ms\n",
      "Time for merging to structblobDB_h: 0h 0m 0s 1ms\n",
      "Time for merging to structblobDB_ca: 0h 0m 0s 10ms\n",
      "Time for merging to structblobDB: 0h 0m 0s 1ms\n",
      "Ignore 0 out of 823.\n",
      "Too short: 0, incorrect  0.\n",
      "Time for processing: 0h 0m 0s 927ms\n",
      "core_structs/structblobDB \n"
     ]
    }
   ],
   "source": [
    "import foldseek2tree\n",
    "db = foldseek2tree.runFoldseekdb(corefolder , corefolder )\n",
    "print(db)"
   ]
  },
  {
   "cell_type": "code",
   "execution_count": 20,
   "id": "2bd1d479-3623-4afc-b5d7-1f1fe662b664",
   "metadata": {},
   "outputs": [
    {
     "name": "stdout",
     "output_type": "stream",
     "text": [
      "logs/structblobDB exists and will be overwritten\n",
      "createdb core_structs/ logs/structblobDB \n",
      "\n",
      "MMseqs Version:  \t1.3c64211\n",
      "Chain name mode  \t0\n",
      "Write lookup file\t1\n",
      "Threads          \t4\n",
      "Verbosity        \t3\n",
      "\n",
      "Output file: logs/structblobDB\n",
      "[=================================================================] 823 0s 936ms\n",
      "Time for merging to structblobDB_ss: 0h 0m 0s 1ms\n",
      "Time for merging to structblobDB_h: 0h 0m 0s 1ms\n",
      "Time for merging to structblobDB_ca: 0h 0m 0s 10ms\n",
      "Time for merging to structblobDB: 0h 0m 0s 1ms\n",
      "Ignore 0 out of 823.\n",
      "Too short: 0, incorrect  0.\n",
      "Time for processing: 0h 0m 0s 981ms\n",
      "search logs/structblobDB logs/structblobDB logs/aln tmp -a --max-seqs 3000 \n",
      "\n",
      "MMseqs Version:              \t1.3c64211\n",
      "Seq. id. threshold           \t0\n",
      "Coverage threshold           \t0\n",
      "Coverage mode                \t0\n",
      "Max reject                   \t2147483647\n",
      "Max accept                   \t2147483647\n",
      "Add backtrace                \ttrue\n",
      "TMscore threshold            \t0.5\n",
      "TMalign fast                 \t1\n",
      "Preload mode                 \t0\n",
      "Threads                      \t4\n",
      "Verbosity                    \t3\n",
      "Substitution matrix          \taa:3di.out,nucl:3di.out\n",
      "Alignment mode               \t3\n",
      "Alignment mode               \t0\n",
      "E-value threshold            \t0.001\n",
      "Min alignment length         \t0\n",
      "Seq. id. mode                \t0\n",
      "Alternative alignments       \t0\n",
      "Max sequence length          \t65535\n",
      "Compositional bias           \t1\n",
      "Compositional bias           \t1\n",
      "Gap open cost                \taa:10,nucl:10\n",
      "Gap extension cost           \taa:1,nucl:1\n",
      "Compressed                   \t0\n",
      "Seed substitution matrix     \taa:3di.out,nucl:3di.out\n",
      "Sensitivity                  \t7.5\n",
      "k-mer length                 \t0\n",
      "k-score                      \tseq:2147483647,prof:2147483647\n",
      "Max results per query        \t3000\n",
      "Split database               \t0\n",
      "Split mode                   \t2\n",
      "Split memory limit           \t0\n",
      "Diagonal scoring             \ttrue\n",
      "Exact k-mer matching         \t0\n",
      "Mask residues                \t0\n",
      "Mask residues probability    \t0.99995\n",
      "Mask lower case residues     \t0\n",
      "Minimum diagonal score       \t15\n",
      "Spaced k-mers                \t1\n",
      "Spaced k-mer pattern         \t\n",
      "Local temporary path         \t\n",
      "Alignment type               \t2\n",
      "Remove temporary files       \ttrue\n",
      "MPI runner                   \t\n",
      "Force restart with latest tmp\tfalse\n",
      "\n",
      "prefilter logs/structblobDB_ss logs/structblobDB_ss tmp/4719039004038821396/pref --sub-mat aa:3di.out,nucl:3di.out --seed-sub-mat aa:3di.out,nucl:3di.out -s 7.5 -k 0 --k-score seq:2147483647,prof:2147483647 --alph-size aa:21,nucl:5 --max-seq-len 65535 --max-seqs 3000 --split 0 --split-mode 2 --split-memory-limit 0 -c 0 --cov-mode 0 --comp-bias-corr 1 --comp-bias-corr-scale 0.15 --diag-score 1 --exact-kmer-matching 0 --mask 0 --mask-prob 0.99995 --mask-lower-case 0 --min-ungapped-score 15 --add-self-matches 0 --spaced-kmer-mode 1 --db-load-mode 0 --pca substitution:1.100,context:1.400 --pcb substitution:4.100,context:5.800 --threads 4 --compressed 0 -v 3 \n",
      "\n",
      "Query database size: 805 type: Aminoacid\n",
      "Estimated memory consumption: 979M\n",
      "Target database size: 805 type: Aminoacid\n",
      "Index table k-mer threshold: 96 at k-mer size 6 \n",
      "Index table: counting k-mers\n",
      "[=================================================================] 805 0s 11ms\n",
      "Index table: Masked residues: 0\n",
      "Index table: fill\n",
      "[=================================================================] 805 0s 15ms\n",
      "Index statistics\n",
      "Entries:          182880\n",
      "DB size:          489 MB\n",
      "Avg k-mer size:   0.002857\n",
      "Top 10 k-mers\n",
      "    LVSVVV\t764\n",
      "    SLSLCV\t693\n",
      "    VLSLLV\t659\n",
      "    LVLVVV\t648\n",
      "    LSLSVV\t577\n",
      "    LVNVVV\t559\n",
      "    NVSVVV\t541\n",
      "    SNVCVV\t487\n",
      "    SLSVVV\t486\n",
      "    SVSVVV\t425\n",
      "Time for index table init: 0h 0m 0s 666ms\n",
      "Process prefiltering step 1 of 1\n",
      "\n",
      "k-mer similarity threshold: 96\n",
      "Starting prefiltering scores calculation (step 1 of 1)\n",
      "Query db start 1 to 805\n",
      "Target db start 1 to 805\n",
      "[=================================================================] 805 1s 161ms\n",
      "\n",
      "21.675087 k-mers per position\n",
      "94625 DB matches per sequence\n",
      "0 overflows\n",
      "0 queries produce too many hits (truncated result)\n",
      "798 sequences passed prefiltering per query sequence\n",
      "804 median result list length\n",
      "0 sequences with 0 size result lists\n",
      "Time for merging to pref: 0h 0m 0s 1ms\n",
      "Time for processing: 0h 0m 3s 679ms\n",
      "structurealign logs/structblobDB logs/structblobDB tmp/4719039004038821396/pref tmp/4719039004038821396/aln --sub-mat aa:3di.out,nucl:3di.out -a 1 --alignment-mode 3 --alignment-output-mode 0 --wrapped-scoring 0 -e 0.001 --min-seq-id 0 --min-aln-len 0 --seq-id-mode 0 --alt-ali 0 -c 0 --cov-mode 0 --max-seq-len 65535 --comp-bias-corr 1 --comp-bias-corr-scale 0.5 --max-rejected 2147483647 --max-accept 2147483647 --add-self-matches 0 --db-load-mode 0 --pca substitution:1.100,context:1.400 --pcb substitution:4.100,context:5.800 --score-bias 0 --realign 0 --realign-score-bias -0.2 --realign-max-seqs 2147483647 --corr-score-weight 0 --gap-open aa:10,nucl:10 --gap-extend aa:1,nucl:1 --zdrop 40 --threads 4 --compressed 0 -v 3 \n",
      "\n",
      "[=================================================================] 805 1m 22s 643ms\n",
      "Time for merging to aln: 0h 0m 0s 1ms\n",
      "Time for processing: 0h 1m 23s 43ms\n",
      "mvdb tmp/4719039004038821396/aln logs/aln \n",
      "\n",
      "Time for processing: 0h 0m 0s 63ms\n",
      "Removing temporary files\n",
      "rmdb tmp/4719039004038821396/pref \n",
      "\n",
      "Time for processing: 0h 0m 0s 6ms\n",
      "createtsv logs/structblobDB logs/structblobDB logs/aln logs/aln_score.tsv \n",
      "\n",
      "MMseqs Version:                 \t1.3c64211\n",
      "First sequence as representative\tfalse\n",
      "Target column                   \t1\n",
      "Add full header                 \tfalse\n",
      "Sequence source                 \t0\n",
      "Database output                 \tfalse\n",
      "Threads                         \t4\n",
      "Compressed                      \t0\n",
      "Verbosity                       \t3\n",
      "\n",
      "Time for merging to aln_score.tsv: 0h 0m 0s 118ms\n",
      "Time for processing: 0h 0m 0s 469ms\n",
      "\n",
      " . This analysis will run on 4 threads.\n",
      "\n",
      "#  Analysing dataset 1\n",
      "\n",
      " . Computing tree...\n",
      "\n",
      " . Performing NNI...\n",
      "\n",
      " . Warning: \n",
      "\tExplained variance = 0.787 (<0.90).\n",
      "\tCheck your input data.\n",
      "\n",
      " . Time used 0h00m01s\n"
     ]
    }
   ],
   "source": [
    "treefile = foldseek2tree.structblob2tree(corefolder , 'logs/' )"
   ]
  },
  {
   "cell_type": "code",
   "execution_count": 22,
   "id": "6efb68d0-e741-490f-ac4a-c72aa123cfe2",
   "metadata": {},
   "outputs": [],
   "source": [
    "#postprocess and madroot\n",
    "pp = foldseek2tree.postprocess(treefile)\n"
   ]
  },
  {
   "cell_type": "code",
   "execution_count": null,
   "id": "b457e81f-6b09-4671-80c5-dc070ab4d5e8",
   "metadata": {},
   "outputs": [],
   "source": []
  }
 ],
 "metadata": {
  "kernelspec": {
   "display_name": "Python 3 (ipykernel)",
   "language": "python",
   "name": "python3"
  },
  "language_info": {
   "codemirror_mode": {
    "name": "ipython",
    "version": 3
   },
   "file_extension": ".py",
   "mimetype": "text/x-python",
   "name": "python",
   "nbconvert_exporter": "python",
   "pygments_lexer": "ipython3",
   "version": "3.10.4"
  }
 },
 "nbformat": 4,
 "nbformat_minor": 5
}
