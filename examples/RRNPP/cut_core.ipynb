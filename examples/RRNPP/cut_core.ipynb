{
 "cells": [
  {
   "cell_type": "code",
   "execution_count": 1,
   "id": "bba232e4-4b25-467d-8b77-489b1272a4f3",
   "metadata": {},
   "outputs": [],
   "source": [
    "import pandas as pd\n",
    "import Bio.PDB\n",
    "import numpy as np\n",
    "import os\n",
    "import tqdm"
   ]
  },
  {
   "cell_type": "code",
   "execution_count": 13,
   "id": "d112b5cd-7d38-4396-8b79-140bc509e145",
   "metadata": {},
   "outputs": [
    {
     "name": "stdout",
     "output_type": "stream",
     "text": [
      "                    0               1     2      3             4   5    6   \\\n",
      "0       A0A060LXZ4.pdb  A0A060LXZ4.pdb  2487  1.000  5.344000e-43   0  361   \n",
      "1       A0A060LXZ4.pdb  A0A060M1P9.pdb  1418  0.526  2.304000e-26   0  361   \n",
      "2       A0A060LXZ4.pdb  A0A060M707.pdb  1128  0.398  1.259000e-21   1  361   \n",
      "3       A0A060LXZ4.pdb  A0A060LST4.pdb  1076  0.468  6.192000e-23   2  361   \n",
      "4       A0A060LXZ4.pdb  A0A060LTA2.pdb   942  0.318  1.327000e-18   1  359   \n",
      "...                ...             ...   ...    ...           ...  ..  ...   \n",
      "647746      V5MM16.pdb  A0A2Z6BN59.pdb    32  0.102  2.244000e+00  35  312   \n",
      "647747      V5MM16.pdb  A0A7H0Y2E7.pdb    31  0.131  1.201000e+00  92  376   \n",
      "647748      V5MM16.pdb      Q9A103.pdb    30  0.109  1.404000e+00  27  383   \n",
      "647749      V5MM16.pdb  A0A4U9YQS3.pdb    29  0.112  1.579000e+00  27  399   \n",
      "647750      V5MM16.pdb  A0A3S4SG61.pdb    22  0.120  3.586000e+00  27  366   \n",
      "\n",
      "         7   8    9    10                                                 11  \n",
      "0       362   0  361  362                                               362M  \n",
      "1       362   0  359  360                                      65M3I289M1D5M  \n",
      "2       362   2  363  364                                 73M4I190M4D88M1D6M  \n",
      "3       362   3  359  360                                  64M1I8M3I277M1D7M  \n",
      "4       362   2  363  364                        63M4D14M4I83M1I99M3D91M1D4M  \n",
      "...     ...  ..  ...  ...                                                ...  \n",
      "647746  407   7  263  281  7M6D17M2I5M3I4M9I14M3I10M6I4M6I38M8D4M3I13M2D4...  \n",
      "647747  407   3  265  293  5M1I19M1D9M6I2M2I8M1I4M8I11M11D9M1I24M2I15M3D2...  \n",
      "647748  407   4  280  283  22M1I9M1I6M1I27M2I7M13I16M7I9M13I28M3I17M2D3M5...  \n",
      "647749  407   4  278  284  22M1I9M1I6M1I37M3I15M1I9M31I26M3I17M2D3M5I13M4...  \n",
      "647750  407   4  277  283  22M1I9M1I6M1I27M2I7M14I16M6I5M10I5M3I27M3I17M2...  \n",
      "\n",
      "[647751 rows x 12 columns]\n"
     ]
    }
   ],
   "source": [
    "#read all results\n",
    "resdf = pd.read_table('structaln_score.tsv' , header = None)\n",
    "print(resdf)"
   ]
  },
  {
   "cell_type": "code",
   "execution_count": 15,
   "id": "aaee41d0-a54e-4a21-a50f-c1da8aaaf491",
   "metadata": {},
   "outputs": [
    {
     "name": "stderr",
     "output_type": "stream",
     "text": [
      "processed: 805: 100%|█████████████████████████| 805/805 [01:58<00:00,  6.79it/s]\n"
     ]
    }
   ],
   "source": [
    "#map hits to each struc\n",
    "hits = {}\n",
    "#proportion of structures that need to map to a residue for it to be kep in the final struct\n",
    "hitthresh = .8\n",
    "strcutfold = './structs/'\n",
    "with tqdm.tqdm(total=len(resdf[0].unique())) as pbar:\n",
    "    for i,q in enumerate(resdf[0].unique()):\n",
    "        sub = resdf[resdf[0] == q]\n",
    "        hitvec = np.zeros((1,sub.iloc[0][7]))\n",
    "        for idx,r in sub.iterrows():\n",
    "            hitvec[0,r[5]:r[6]] = hitvec[0,r[5]:r[6]]+1\n",
    "        hitvec /= len(resdf[0].unique())\n",
    "        core = np.where(hitvec>hitthresh)[1]\n",
    "        hits[q]= (np.amin(core), np.amax(core))\n",
    "        pbar.set_description('processed: %d' % (1 + i))\n",
    "        pbar.update(1)  "
   ]
  },
  {
   "cell_type": "code",
   "execution_count": 17,
   "id": "0c0e6418-3a7d-4948-8d88-20d76de70aac",
   "metadata": {},
   "outputs": [
    {
     "name": "stdout",
     "output_type": "stream",
     "text": [
      "already\n"
     ]
    },
    {
     "name": "stderr",
     "output_type": "stream",
     "text": [
      "processed: 805: 100%|█████████████████████████| 805/805 [01:02<00:00, 12.96it/s]\n"
     ]
    }
   ],
   "source": [
    "\n",
    "corefolder = 'core_structs/'\n",
    "structfolder = 'structs/'\n",
    "#make core struct folder\n",
    "try:\n",
    "    os.mkdir(corefolder)\n",
    "except:\n",
    "    print('already')\n",
    "#parse each struct and output core to folder \n",
    "parser = Bio.PDB.PDBParser()\n",
    "with tqdm.tqdm(total=len(hits)) as pbar:\n",
    "    for i,q in enumerate(hits):\n",
    "        struct = parser.get_structure(q.split('.')[0] , structfolder+q )\n",
    "        #zero based indexing...\n",
    "        struct_core = Bio.PDB.Dice.extract(struct ,'A' , hits[q][0]+1 , hits[q][1]+1 , corefolder+q  )\n",
    "        pbar.set_description('processed: %d' % (1 + i))\n",
    "        pbar.update(1)            #todo ngl view some structs vs core\n",
    "#recalc tree w foldtree outside the notebook"
   ]
  },
  {
   "cell_type": "code",
   "execution_count": 18,
   "id": "17712caf-86cc-4d4e-9b2c-9f3a19d95b2f",
   "metadata": {},
   "outputs": [
    {
     "name": "stdout",
     "output_type": "stream",
     "text": [
      "The autoreload extension is already loaded. To reload it, use:\n",
      "  %reload_ext autoreload\n"
     ]
    }
   ],
   "source": [
    "#redo tree\n",
    "import subprocess, shlex\n",
    "import sys\n",
    "sys.path.append('../../src/')\n",
    "%load_ext autoreload\n",
    "%autoreload 2"
   ]
  },
  {
   "cell_type": "code",
   "execution_count": 19,
   "id": "29e5962e-b1fe-4358-b0c5-bb53cc886b57",
   "metadata": {},
   "outputs": [
    {
     "name": "stdout",
     "output_type": "stream",
     "text": [
      "core_structs/structblobDB exists and will be overwritten\n",
      "createdb core_structs/ core_structs/structblobDB \n",
      "\n",
      "MMseqs Version:  \t1.3c64211\n",
      "Chain name mode  \t0\n",
      "Write lookup file\t1\n",
      "Threads          \t4\n",
      "Verbosity        \t3\n",
      "\n",
      "Output file: core_structs/structblobDB\n",
      "[=================================================================] 823 0s 889ms\n",
      "Time for merging to structblobDB_ss: 0h 0m 0s 2ms\n",
      "Time for merging to structblobDB_h: 0h 0m 0s 1ms\n",
      "Time for merging to structblobDB_ca: 0h 0m 0s 10ms\n",
      "Time for merging to structblobDB: 0h 0m 0s 1ms\n",
      "Ignore 0 out of 823.\n",
      "Too short: 0, incorrect  0.\n",
      "Time for processing: 0h 0m 0s 927ms\n",
      "core_structs/structblobDB \n"
     ]
    }
   ],
   "source": [
    "import foldseek2tree\n",
    "db = foldseek2tree.runFoldseekdb(corefolder , corefolder )\n",
    "print(db)"
   ]
  },
  {
   "cell_type": "code",
   "execution_count": 20,
   "id": "2bd1d479-3623-4afc-b5d7-1f1fe662b664",
   "metadata": {},
   "outputs": [
    {
     "name": "stdout",
     "output_type": "stream",
     "text": [
      "logs/structblobDB exists and will be overwritten\n",
      "createdb core_structs/ logs/structblobDB \n",
      "\n",
      "MMseqs Version:  \t1.3c64211\n",
      "Chain name mode  \t0\n",
      "Write lookup file\t1\n",
      "Threads          \t4\n",
      "Verbosity        \t3\n",
      "\n",
      "Output file: logs/structblobDB\n",
      "[=================================================================] 823 0s 936ms\n",
      "Time for merging to structblobDB_ss: 0h 0m 0s 1ms\n",
      "Time for merging to structblobDB_h: 0h 0m 0s 1ms\n",
      "Time for merging to structblobDB_ca: 0h 0m 0s 10ms\n",
      "Time for merging to structblobDB: 0h 0m 0s 1ms\n",
      "Ignore 0 out of 823.\n",
      "Too short: 0, incorrect  0.\n",
      "Time for processing: 0h 0m 0s 981ms\n",
      "search logs/structblobDB logs/structblobDB logs/aln tmp -a --max-seqs 3000 \n",
      "\n",
      "MMseqs Version:              \t1.3c64211\n",
      "Seq. id. threshold           \t0\n",
      "Coverage threshold           \t0\n",
      "Coverage mode                \t0\n",
      "Max reject                   \t2147483647\n",
      "Max accept                   \t2147483647\n",
      "Add backtrace                \ttrue\n",
      "TMscore threshold            \t0.5\n",
      "TMalign fast                 \t1\n",
      "Preload mode                 \t0\n",
      "Threads                      \t4\n",
      "Verbosity                    \t3\n",
      "Substitution matrix          \taa:3di.out,nucl:3di.out\n",
      "Alignment mode               \t3\n",
      "Alignment mode               \t0\n",
      "E-value threshold            \t0.001\n",
      "Min alignment length         \t0\n",
      "Seq. id. mode                \t0\n",
      "Alternative alignments       \t0\n",
      "Max sequence length          \t65535\n",
      "Compositional bias           \t1\n",
      "Compositional bias           \t1\n",
      "Gap open cost                \taa:10,nucl:10\n",
      "Gap extension cost           \taa:1,nucl:1\n",
      "Compressed                   \t0\n",
      "Seed substitution matrix     \taa:3di.out,nucl:3di.out\n",
      "Sensitivity                  \t7.5\n",
      "k-mer length                 \t0\n",
      "k-score                      \tseq:2147483647,prof:2147483647\n",
      "Max results per query        \t3000\n",
      "Split database               \t0\n",
      "Split mode                   \t2\n",
      "Split memory limit           \t0\n",
      "Diagonal scoring             \ttrue\n",
      "Exact k-mer matching         \t0\n",
      "Mask residues                \t0\n",
      "Mask residues probability    \t0.99995\n",
      "Mask lower case residues     \t0\n",
      "Minimum diagonal score       \t15\n",
      "Spaced k-mers                \t1\n",
      "Spaced k-mer pattern         \t\n",
      "Local temporary path         \t\n",
      "Alignment type               \t2\n",
      "Remove temporary files       \ttrue\n",
      "MPI runner                   \t\n",
      "Force restart with latest tmp\tfalse\n",
      "\n",
      "prefilter logs/structblobDB_ss logs/structblobDB_ss tmp/4719039004038821396/pref --sub-mat aa:3di.out,nucl:3di.out --seed-sub-mat aa:3di.out,nucl:3di.out -s 7.5 -k 0 --k-score seq:2147483647,prof:2147483647 --alph-size aa:21,nucl:5 --max-seq-len 65535 --max-seqs 3000 --split 0 --split-mode 2 --split-memory-limit 0 -c 0 --cov-mode 0 --comp-bias-corr 1 --comp-bias-corr-scale 0.15 --diag-score 1 --exact-kmer-matching 0 --mask 0 --mask-prob 0.99995 --mask-lower-case 0 --min-ungapped-score 15 --add-self-matches 0 --spaced-kmer-mode 1 --db-load-mode 0 --pca substitution:1.100,context:1.400 --pcb substitution:4.100,context:5.800 --threads 4 --compressed 0 -v 3 \n",
      "\n",
      "Query database size: 805 type: Aminoacid\n",
      "Estimated memory consumption: 979M\n",
      "Target database size: 805 type: Aminoacid\n",
      "Index table k-mer threshold: 96 at k-mer size 6 \n",
      "Index table: counting k-mers\n",
      "[=================================================================] 805 0s 11ms\n",
      "Index table: Masked residues: 0\n",
      "Index table: fill\n",
      "[=================================================================] 805 0s 15ms\n",
      "Index statistics\n",
      "Entries:          182880\n",
      "DB size:          489 MB\n",
      "Avg k-mer size:   0.002857\n",
      "Top 10 k-mers\n",
      "    LVSVVV\t764\n",
      "    SLSLCV\t693\n",
      "    VLSLLV\t659\n",
      "    LVLVVV\t648\n",
      "    LSLSVV\t577\n",
      "    LVNVVV\t559\n",
      "    NVSVVV\t541\n",
      "    SNVCVV\t487\n",
      "    SLSVVV\t486\n",
      "    SVSVVV\t425\n",
      "Time for index table init: 0h 0m 0s 666ms\n",
      "Process prefiltering step 1 of 1\n",
      "\n",
      "k-mer similarity threshold: 96\n",
      "Starting prefiltering scores calculation (step 1 of 1)\n",
      "Query db start 1 to 805\n",
      "Target db start 1 to 805\n",
      "[=================================================================] 805 1s 161ms\n",
      "\n",
      "21.675087 k-mers per position\n",
      "94625 DB matches per sequence\n",
      "0 overflows\n",
      "0 queries produce too many hits (truncated result)\n",
      "798 sequences passed prefiltering per query sequence\n",
      "804 median result list length\n",
      "0 sequences with 0 size result lists\n",
      "Time for merging to pref: 0h 0m 0s 1ms\n",
      "Time for processing: 0h 0m 3s 679ms\n",
      "structurealign logs/structblobDB logs/structblobDB tmp/4719039004038821396/pref tmp/4719039004038821396/aln --sub-mat aa:3di.out,nucl:3di.out -a 1 --alignment-mode 3 --alignment-output-mode 0 --wrapped-scoring 0 -e 0.001 --min-seq-id 0 --min-aln-len 0 --seq-id-mode 0 --alt-ali 0 -c 0 --cov-mode 0 --max-seq-len 65535 --comp-bias-corr 1 --comp-bias-corr-scale 0.5 --max-rejected 2147483647 --max-accept 2147483647 --add-self-matches 0 --db-load-mode 0 --pca substitution:1.100,context:1.400 --pcb substitution:4.100,context:5.800 --score-bias 0 --realign 0 --realign-score-bias -0.2 --realign-max-seqs 2147483647 --corr-score-weight 0 --gap-open aa:10,nucl:10 --gap-extend aa:1,nucl:1 --zdrop 40 --threads 4 --compressed 0 -v 3 \n",
      "\n",
      "[=================================================================] 805 1m 22s 643ms\n",
      "Time for merging to aln: 0h 0m 0s 1ms\n",
      "Time for processing: 0h 1m 23s 43ms\n",
      "mvdb tmp/4719039004038821396/aln logs/aln \n",
      "\n",
      "Time for processing: 0h 0m 0s 63ms\n",
      "Removing temporary files\n",
      "rmdb tmp/4719039004038821396/pref \n",
      "\n",
      "Time for processing: 0h 0m 0s 6ms\n",
      "createtsv logs/structblobDB logs/structblobDB logs/aln logs/aln_score.tsv \n",
      "\n",
      "MMseqs Version:                 \t1.3c64211\n",
      "First sequence as representative\tfalse\n",
      "Target column                   \t1\n",
      "Add full header                 \tfalse\n",
      "Sequence source                 \t0\n",
      "Database output                 \tfalse\n",
      "Threads                         \t4\n",
      "Compressed                      \t0\n",
      "Verbosity                       \t3\n",
      "\n",
      "Time for merging to aln_score.tsv: 0h 0m 0s 118ms\n",
      "Time for processing: 0h 0m 0s 469ms\n",
      "\n",
      " . This analysis will run on 4 threads.\n",
      "\n",
      "#  Analysing dataset 1\n",
      "\n",
      " . Computing tree...\n",
      "\n",
      " . Performing NNI...\n",
      "\n",
      " . Warning: \n",
      "\tExplained variance = 0.787 (<0.90).\n",
      "\tCheck your input data.\n",
      "\n",
      " . Time used 0h00m01s\n"
     ]
    }
   ],
   "source": [
    "treefile = foldseek2tree.structblob2tree(corefolder , 'logs/' )"
   ]
  },
  {
   "cell_type": "code",
   "execution_count": 22,
   "id": "6efb68d0-e741-490f-ac4a-c72aa123cfe2",
   "metadata": {},
   "outputs": [],
   "source": [
    "#postprocess and madroot\n",
    "pp = foldseek2tree.postprocess(treefile)\n"
   ]
  },
  {
   "cell_type": "code",
   "execution_count": null,
   "id": "b457e81f-6b09-4671-80c5-dc070ab4d5e8",
   "metadata": {},
   "outputs": [],
   "source": []
  }
 ],
 "metadata": {
  "kernelspec": {
   "display_name": "Python 3 (ipykernel)",
   "language": "python",
   "name": "python3"
  },
  "language_info": {
   "codemirror_mode": {
    "name": "ipython",
    "version": 3
   },
   "file_extension": ".py",
   "mimetype": "text/x-python",
   "name": "python",
   "nbconvert_exporter": "python",
   "pygments_lexer": "ipython3",
   "version": "3.10.4"
  }
 },
 "nbformat": 4,
 "nbformat_minor": 5
}
