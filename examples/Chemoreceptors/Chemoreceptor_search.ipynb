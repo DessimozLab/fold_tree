{
 "cells": [
  {
   "cell_type": "code",
   "execution_count": 5,
   "id": "cfa7dfb7-4915-46f2-ae06-beb980cdcb82",
   "metadata": {},
   "outputs": [
    {
     "name": "stdout",
     "output_type": "stream",
     "text": [
      "The autoreload extension is already loaded. To reload it, use:\n",
      "  %reload_ext autoreload\n"
     ]
    }
   ],
   "source": [
    "from Bio import SeqIO\n",
    "import subprocess, shlex\n",
    "import sys\n",
    "sys.path.append('../../src/')\n",
    "%load_ext autoreload"
   ]
  },
  {
   "cell_type": "code",
   "execution_count": 9,
   "id": "ab707bd9-4a78-4cfa-b193-6e587af3009e",
   "metadata": {},
   "outputs": [],
   "source": [
    "import AFDB_tools\n",
    "from csb.bio.io.hhpred import HHOutputParser\n",
    "import glob"
   ]
  },
  {
   "cell_type": "code",
   "execution_count": 10,
   "id": "0df476a7-42f7-49a5-8bc3-1552669df1c1",
   "metadata": {},
   "outputs": [
    {
     "name": "stdout",
     "output_type": "stream",
     "text": [
      "['A0A0G4ECU2', 'A0A1W0WCK9', 'A0A2B4RET4', 'R7UX01', 'A0A2B4SJY9', 'A0A2B4SA53', 'A0A1W0WP51', 'A0A1W0WCM9', 'A0A0C5GSD5', 'A0A1W0XBU3', 'A0A1D1VZU7', 'R7UWX7', 'A0A2T7P0V3', 'R7TAN0', 'A0A2G8LI57', 'A0A210QE02', 'A0A1D1VJQ6', 'A0A210QDZ6', 'A0A210QE16', 'R7TG78', 'A0A1S3I4F4', 'A0A2T7P0W5', 'V4AUT3', 'A7S888', 'A0A1D1UWB7', 'A0A267F808', 'K1PXY2', 'A0A2B4RIQ9', 'A0A267ED12', 'B3SAF5', 'X1ZH67', 'A0A226EWM0', 'D6WNG0', 'R7UUM2', 'V4C6X0', 'A0A1Y3AWZ8', 'R7VGJ8', 'A0A061SLH1', 'V3ZP73', 'A0A1W0WBW0', 'R7VDR8', 'B3NG15', 'A0A1W0WCL9', 'A0A1I7RPY7', 'A0A1Y9TJK6', 'T1H0K6', 'T1JL73', 'K1Q8W0', 'R7TMM4', 'A0A1W4WHQ3', 'A0A210PUD5', 'A0A2A6C2S9', 'A0A2C9K7C5', 'A0A226EFB9', 'A0A1W4XRY6', 'A0A1B0GFY2', 'A0A0A9XH93', 'A0A0K8TUG1', 'A0A1B0GG10', 'A0A2B4RIQ9', 'A0A1W0WHD3', 'A0A182YKC9']\n"
     ]
    }
   ],
   "source": [
    "hhrs = glob.glob('./HHfiles/*.hhr')\n",
    "#using the top hit from the previous paper\n",
    "for i,hhr in enumerate(hhrs):\n",
    "    protlist = []\n",
    "    profile = HHOutputParser(alignments=False).parse_file(hhr)\n",
    "    for hit in profile:\n",
    "        if hit.probability > .95:\n",
    "            protlist.append(hit.id.split('|')[1])\n",
    "print(protlist)"
   ]
  },
  {
   "cell_type": "code",
   "execution_count": 13,
   "id": "95cea207-3757-4d88-986b-5c0e2b5ea998",
   "metadata": {},
   "outputs": [
    {
     "name": "stdout",
     "output_type": "stream",
     "text": [
      "already\n",
      "A0A0G4ECU2\n",
      "A0A1W0WCK9\n",
      "A0A2B4RET4\n",
      "R7UX01\n",
      "A0A2B4SJY9\n",
      "A0A2B4SA53\n",
      "A0A1W0WP51\n",
      "A0A1W0WCM9\n",
      "A0A0C5GSD5\n",
      "A0A1W0XBU3\n",
      "A0A1D1VZU7\n",
      "R7UWX7\n",
      "A0A2T7P0V3\n",
      "R7TAN0\n",
      "A0A2G8LI57\n",
      "A0A210QE02\n",
      "A0A1D1VJQ6\n",
      "A0A210QDZ6\n",
      "A0A210QE16\n",
      "R7TG78\n",
      "A0A1S3I4F4\n",
      "A0A2T7P0W5\n",
      "V4AUT3\n",
      "A7S888\n",
      "structure not found A7S888\n",
      "A0A1D1UWB7\n",
      "A0A267F808\n",
      "K1PXY2\n",
      "A0A2B4RIQ9\n",
      "A0A267ED12\n",
      "B3SAF5\n",
      "X1ZH67\n",
      "A0A226EWM0\n",
      "D6WNG0\n",
      "R7UUM2\n",
      "V4C6X0\n",
      "A0A1Y3AWZ8\n",
      "R7VGJ8\n",
      "A0A061SLH1\n",
      "V3ZP73\n",
      "A0A1W0WBW0\n",
      "R7VDR8\n",
      "B3NG15\n",
      "A0A1W0WCL9\n",
      "A0A1I7RPY7\n",
      "A0A1Y9TJK6\n",
      "T1H0K6\n",
      "T1JL73\n",
      "K1Q8W0\n",
      "R7TMM4\n",
      "A0A1W4WHQ3\n",
      "A0A210PUD5\n",
      "A0A2A6C2S9\n",
      "structure not found A0A2A6C2S9\n",
      "A0A2C9K7C5\n",
      "A0A226EFB9\n",
      "A0A1W4XRY6\n",
      "A0A1B0GFY2\n",
      "A0A0A9XH93\n",
      "A0A0K8TUG1\n",
      "A0A1B0GG10\n",
      "A0A2B4RIQ9\n",
      "A0A1W0WHD3\n",
      "A0A182YKC9\n",
      "['A7S888', 'A0A2A6C2S9']\n"
     ]
    }
   ],
   "source": [
    "#grab prots\n",
    "import os\n",
    "\n",
    "struct_folder = 'starting_set/'\n",
    "try:\n",
    "    os.mkdir(struct_folder)\n",
    "except:\n",
    "    print('already' )\n",
    "missing = [ AFDB_tools.grab_struct( p , struct_folder ) for p in protlist ]\n",
    "missing = [ m for m in missing if m]\n",
    "print(missing) "
   ]
  },
  {
   "cell_type": "code",
   "execution_count": 19,
   "id": "0c2c2484-6f1c-444d-a462-0dbc21969d0b",
   "metadata": {},
   "outputs": [
    {
     "name": "stdout",
     "output_type": "stream",
     "text": [
      "clean already\n",
      "createdb starting_set/ queriesdb \n",
      "\n",
      "MMseqs Version:        \t4.645b789\n",
      "Chain name mode        \t0\n",
      "Mask b-factor threshold\t0\n",
      "Coord store mode       \t1\n",
      "Write lookup file      \t1\n",
      "Tar Inclusion Regex    \t.*\n",
      "Tar Exclusion Regex    \t^$\n",
      "Threads                \t48\n",
      "Verbosity              \t3\n",
      "\n",
      "Output file: queriesdb\n",
      "[=================================================================] 61 0s 105ms\n",
      "Time for merging to queriesdb_ss: 0h 0m 0s 61ms\n",
      "Time for merging to queriesdb_h: 0h 0m 0s 36ms\n",
      "Time for merging to queriesdb_ca: 0h 0m 0s 36ms\n",
      "Time for merging to queriesdb: 0h 0m 0s 37ms\n",
      "Ignore 0 out of 59.\n",
      "Too short: 0, incorrect  0.\n",
      "Time for processing: 0h 0m 0s 630ms\n"
     ]
    }
   ],
   "source": [
    "#make db\n",
    "uniref_path = '/work/FAC/FBM/DBC/cdessim2/default/dmoi/datasets/foldseek/uniref90'\n",
    "import foldseek2tree\n",
    "\n",
    "try:\n",
    "    os.rmdir('tmp')\n",
    "except:\n",
    "    print('clean already')\n",
    "\n",
    "args = 'foldseek createdb '+  struct_folder + ' queriesdb '\n",
    "p = foldseek2tree.runargs(args)"
   ]
  },
  {
   "cell_type": "code",
   "execution_count": null,
   "id": "7245725a-135e-40b4-bd70-bbbd200ee7c6",
   "metadata": {},
   "outputs": [],
   "source": [
    "#args = 'foldseek search queriesdb ' + uniref_path + ' ' +'qaln tmp -a --split-mode 2 --split-memory-limit 20G '\n",
    "#p =foldseek2tree.runargs(args)\n",
    "\n",
    "#ran this on the cluster with its own job...\n",
    "#just going to parse the results later.\n",
    "\n"
   ]
  },
  {
   "cell_type": "code",
   "execution_count": null,
   "id": "055d9f00-1bff-4534-b44a-078afa884710",
   "metadata": {},
   "outputs": [],
   "source": [
    "#compile search results\n",
    "args = 'foldseek createtsv '+  'qaln ' +' '  + uniref_path  + ' ' + 'aln '  + struct_folder +'aln_score.tsv'\n",
    "foldseek2tree.runargs(args)\n",
    "#filter to significant evals and lengths\n",
    "\n",
    "#grab result structs from AFDB\n",
    "\n",
    "#make tree w fold tree outside this notebook w starting set and amplified set.\n",
    "\n"
   ]
  },
  {
   "cell_type": "code",
   "execution_count": null,
   "id": "f98c14b9-03a5-40d8-a8b5-e77d7ccb1493",
   "metadata": {},
   "outputs": [],
   "source": []
  },
  {
   "cell_type": "code",
   "execution_count": null,
   "id": "3f0ef5e5-b83a-47ef-8e41-b848acbe7861",
   "metadata": {},
   "outputs": [],
   "source": [
    "#dl structs"
   ]
  },
  {
   "cell_type": "code",
   "execution_count": null,
   "id": "f5112ca3-0fc1-4999-a4d1-8869c57fab58",
   "metadata": {},
   "outputs": [],
   "source": [
    "#makedb\n",
    "\n",
    "#foldseek search vs uniprort"
   ]
  },
  {
   "cell_type": "code",
   "execution_count": null,
   "id": "2ff1fcdf-c86f-48a2-a311-f867a05ff46c",
   "metadata": {},
   "outputs": [],
   "source": [
    "#grab identifiers\n"
   ]
  }
 ],
 "metadata": {
  "kernelspec": {
   "display_name": "Python 3 (ipykernel)",
   "language": "python",
   "name": "python3"
  },
  "language_info": {
   "codemirror_mode": {
    "name": "ipython",
    "version": 3
   },
   "file_extension": ".py",
   "mimetype": "text/x-python",
   "name": "python",
   "nbconvert_exporter": "python",
   "pygments_lexer": "ipython3",
   "version": "3.10.4"
  }
 },
 "nbformat": 4,
 "nbformat_minor": 5
}
