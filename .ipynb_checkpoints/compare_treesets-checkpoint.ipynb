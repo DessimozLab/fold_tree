{
 "cells": [
  {
   "cell_type": "code",
   "execution_count": null,
   "id": "67fc2832-1431-49b6-8b3f-faecf7840a7a",
   "metadata": {},
   "outputs": [],
   "source": [
    "import json\n",
    "import seaborn as sns\n",
    "import glob\n",
    "import os\n",
    "import numpy as np\n"
   ]
  },
  {
   "cell_type": "code",
   "execution_count": 12,
   "id": "2ad3e1ab-15d7-4e81-9dcc-61e32bcecabc",
   "metadata": {},
   "outputs": [
    {
     "ename": "SyntaxError",
     "evalue": "expected 'except' or 'finally' block (483202352.py, line 20)",
     "output_type": "error",
     "traceback": [
      "\u001b[0;36m  Cell \u001b[0;32mIn[12], line 20\u001b[0;36m\u001b[0m\n\u001b[0;31m    if len(res)>0:\u001b[0m\n\u001b[0m    ^\u001b[0m\n\u001b[0;31mSyntaxError\u001b[0m\u001b[0;31m:\u001b[0m expected 'except' or 'finally' block\n"
     ]
    }
   ],
   "source": [
    "import pandas as pd\n",
    "i =0\n",
    "cladefolders = '/work/FAC/FBM/DBC/cdessim2/default/dmoi/datasets/Structure_Trees/*/'\n",
    "allfolders = glob.glob(cladefolders)\n",
    "dfs = []\n",
    "print(allfolders)\n",
    "for clade in allfolders:\n",
    "    print(clade)\n",
    "    res = {}\n",
    "    folders = glob.glob(clade + '*/' )\n",
    "    for folder in folders:\n",
    "        if os.path.isfile(folder + 'RFdistances.json' ) and   os.path.isfile(folder + 'treescores.json' ):\n",
    "            with open(folder + 'RFdistances.json') as rfin:\n",
    "                rf_res = json.load(rfin)\n",
    "            with open(folder + 'treescores.json') as taxin:\n",
    "                tax_res = json.load(taxin)\n",
    "            tax_res= {s.split('/')[-1]:tax_res[s] for s in tax_res}\n",
    "            try:\n",
    "                res[folder] = { s:tax_res[s]['score'] for s in tax_res}\n",
    "            except:\n",
    "                pass\n",
    "            \n",
    "    if len(res)>0:\n",
    "        resdf = pd.DataFrame.from_dict(res, orient = 'index')\n",
    "        resdf['delta'] = resdf['struct_tree.nwk.PP.nwk.rooted'] - resdf['sequences.aln.fst.nwk.rooted'] \n",
    "        resdf['max'] = resdf[['struct_tree.nwk.PP.nwk.rooted','sequences.aln.fst.nwk.rooted']].apply( max , axis = 1) \n",
    "        resdf['delta_norm'] = resdf['delta'] / resdf['max']\n",
    "        resdf['clade'] = clade\n",
    "        \n",
    "        resdf['HOG'] = folder.split('/')[-1]\n",
    "        \n",
    "        dfs.append(resdf)\n",
    "tree_resdf = pd.concat(dfs)\n",
    "\n"
   ]
  },
  {
   "cell_type": "code",
   "execution_count": null,
   "id": "f7cade13-8eb4-4385-9bb0-354af2e2d773",
   "metadata": {},
   "outputs": [],
   "source": [
    "print(tree_resdf)"
   ]
  },
  {
   "cell_type": "code",
   "execution_count": null,
   "id": "b267f3e7-1306-4812-ae23-de90bf33d64a",
   "metadata": {},
   "outputs": [],
   "source": [
    "#add nsequences \n",
    "#ncoverage clade\n",
    "#len sequence\n",
    "#pdb pred quality\n",
    "#rf dist\n",
    "#resdf = resdf[resdf.clade == '/work/FAC/FBM/DBC/cdessim2/default/dmoi/datasets/Structure_Trees/Eumetazoa/' ]\n",
    "print(len(tree_resdf))"
   ]
  },
  {
   "cell_type": "code",
   "execution_count": null,
   "id": "9a0f6f7f-9719-4080-a6e6-06ff7846bfba",
   "metadata": {},
   "outputs": [],
   "source": [
    "sns.scatterplot(resdf, x = 'sequences.aln.fst.nwk.rooted', y='struct_tree.nwk.PP.nwk.rooted' , alpha = .15 )\n",
    "from scipy.stats import wilcoxon\n",
    "print(wilcoxon(tree_resdf.delta))\n",
    "sns.lineplot(x = [0,3000] , y = [0,3000])"
   ]
  },
  {
   "cell_type": "code",
   "execution_count": null,
   "id": "b7b12a61-604b-4808-821b-7f42a5a61b6f",
   "metadata": {},
   "outputs": [],
   "source": [
    "sns.violinplot(resdf['delta_norm'])\n",
    "\n",
    "print(tree_resdf['delta'].sum() )\n",
    "print(tree_resdf['delta_norm'].sum() )\n"
   ]
  },
  {
   "cell_type": "code",
   "execution_count": null,
   "id": "ebb7332a-5cd3-4a5b-80eb-8819853f29fd",
   "metadata": {},
   "outputs": [],
   "source": [
    "sns.violinplot(tree_resdf['delta'])\n"
   ]
  },
  {
   "cell_type": "code",
   "execution_count": null,
   "id": "571b7fbf-31bd-4fda-8d4f-c49434148bc9",
   "metadata": {},
   "outputs": [],
   "source": [
    "#sub = resdf[['sequences.aln.fst.nwk.rooted' , 'struct_tree.nwk.PP.nwk.rooted' ]]\n",
    "from matplotlib import pyplot as plt\n",
    "\n",
    "for folder in tree_resdf.clade.unique():\n",
    "    print(folder)\n",
    "    sub = tree_resdf[tree_resdf.clade == folder]\n",
    "    \n",
    "    \n",
    "    sns.scatterplot(sub, x = 'sequences.aln.fst.nwk.rooted', y='struct_tree.nwk.PP.nwk.rooted' , alpha = .15 )\n",
    "    sns.lineplot(x = [0,3000] , y = [0,3000])\n",
    "    plt.show()\n",
    "    \n",
    "    print( sub.delta.sum(), wilcoxon(sub.delta))\n",
    "    \n",
    "    \n",
    "    \n",
    "    "
   ]
  },
  {
   "cell_type": "code",
   "execution_count": null,
   "id": "8a459d39-1889-4795-9832-044e2cf93a07",
   "metadata": {},
   "outputs": [],
   "source": [
    "#construct structure and sequence feature dataset\n",
    "\n",
    "def ret_description(vec , label = ''):\n",
    "    return { label+'_mean': np.mean(vec) , label+'_max': np.amax(vec) , label+'_min': np.amin(vec) ,label+'_var': np.var(vec) }\n",
    "\n",
    "allfolders = glob.glob(cladefolders)\n",
    "dfs = []\n",
    "print(allfolders)\n",
    "for clade in allfolders:\n",
    "    print(clade)\n",
    "    res = {}\n",
    "    folders = glob.glob(clade + '*/' )\n",
    "    for folder in folders:\n",
    "        if os.path.isfile(folder + 'plddt.json' ) and os.path.isfile(folder + 'sequence_dataset.csv' ) :\n",
    "            plddt_df = pd.read_json(folder + 'plddt.json').T\n",
    "            if len(plddt_df)>0:\n",
    "                plddt_df.columns = 'nobs,minmax,mean,variance,skewness,kurtosis'.split(',')\n",
    "                plddt_df['min'] = plddt_df.minmax.map( lambda r: r[0] )\n",
    "                plddt_df['max'] = plddt_df.minmax.map( lambda r: r[1] )\n",
    "                res[folder] = {}\n",
    "                for col in ['nobs', 'min' , 'max' , 'mean' , 'variance' , 'skewness' , 'kurtosis' ]:\n",
    "                    descriptors = ret_description(plddt_df[col] , label = col)\n",
    "                    for l in descriptors:\n",
    "                        res[folder][l] = descriptors[l]\n",
    "                #add in some descriptors of the taxonomic spread and sequence set\n",
    "                seqdf = pd.read_csv(folder+'sequence_dataset.csv' )\n",
    "                res[folder]['nprots'] = len(seqdf)\n",
    "                cladesets = [ set(l.split(',')) for l in  seqdf['Taxonomic lineage (Ids)'] ]\n",
    "                union_all = cladesets[0]\n",
    "                intersection_all = cladesets[0]\n",
    "                for c in cladesets:\n",
    "                    union_all = union_all.union(c)\n",
    "                    intersection_all.intersection(c)\n",
    "                res[folder]['n_clades'] = len(union_all)\n",
    "                res[folder]['inter_clades'] = len(intersection_all)\n",
    "                res[folder]['inter/nc'] =  res[folder]['inter_clades'] /  res[folder]['n_clades'] \n",
    "                res[folder]['nc/np'] = res[folder]['nprots'] / res[folder]['n_clades']\n",
    "    resdf = pd.DataFrame.from_dict(res, orient = 'index')\n",
    "    dfs.append(resdf)\n",
    "seqset_resdf = pd.concat(dfs)"
   ]
  },
  {
   "cell_type": "code",
   "execution_count": null,
   "id": "c05f5f2b-5d2f-4cdb-b8fd-3feafd161d4d",
   "metadata": {},
   "outputs": [],
   "source": [
    "print(allres_df)\n",
    "allres_df.to_csv('structure_and_sequence_qcmetrics.csv')"
   ]
  },
  {
   "cell_type": "code",
   "execution_count": null,
   "id": "68cdd04b-69ed-4701-a6f4-ea45a60cc3b5",
   "metadata": {},
   "outputs": [],
   "source": [
    "#add to the tree comparison data\n",
    "tree_resdf = tree_resdf.merge( allres_df , left_index = True, right_index = True, how = 'inner' )\n",
    "print(tree_resdf)"
   ]
  },
  {
   "cell_type": "code",
   "execution_count": null,
   "id": "908ab994-314d-47e0-840f-81e3b77dd15c",
   "metadata": {},
   "outputs": [],
   "source": [
    "print(tree_resdf.columns)"
   ]
  },
  {
   "cell_type": "code",
   "execution_count": null,
   "id": "2a32ca4d-7439-4295-88be-4f7550e80da7",
   "metadata": {},
   "outputs": [],
   "source": [
    "#try to predict the delta using these features w gradient boosted trees\n",
    "#try to predict the RF distance as well\n",
    "\n",
    "import matplotlib.pyplot as plt\n",
    "import numpy as np\n",
    "from sklearn import datasets, ensemble\n",
    "from sklearn.inspection import permutation_importance\n",
    "from sklearn.metrics import mean_squared_error\n",
    "from sklearn.model_selection import train_test_split\n"
   ]
  },
  {
   "cell_type": "code",
   "execution_count": null,
   "id": "c94cb523-9edf-4136-88d7-58ed2476f749",
   "metadata": {},
   "outputs": [],
   "source": [
    "X, y = tree_resdf[['nobs_mean', 'nobs_max',\n",
    "       'nobs_min', 'nobs_var', 'min_mean', 'min_max', 'min_min', 'min_var',\n",
    "       'max_mean', 'max_max', 'max_min', 'max_var', 'mean_mean', 'mean_max',\n",
    "       'mean_min', 'mean_var', 'variance_mean', 'variance_max', 'variance_min',\n",
    "       'variance_var', 'skewness_mean', 'skewness_max', 'skewness_min',\n",
    "       'skewness_var', 'kurtosis_mean', 'kurtosis_max', 'kurtosis_min',\n",
    "       'kurtosis_var', 'nprots', 'n_clades', 'inter_clades', 'inter/nc',\n",
    "       'nc/np']], tree_resdf.delta\n",
    "\n",
    "print(len\n",
    "X_train, X_test, y_train, y_test = train_test_split(\n",
    "    X, y, test_size=0.1, random_state=13\n",
    ")\n",
    "\n",
    "params = {\n",
    "    \"n_estimators\": 500,\n",
    "    \"max_depth\": 4,\n",
    "    \"min_samples_split\": 5,\n",
    "    \"learning_rate\": 0.01,\n",
    "    \"loss\": \"squared_error\",\n",
    "}\n",
    "\n",
    "\n",
    "reg = ensemble.GradientBoostingRegressor(**params)\n",
    "reg.fit(X_train, y_train)\n",
    "\n",
    "mse = mean_squared_error(y_test, reg.predict(X_test))\n",
    "print(\"The mean squared error (MSE) on test set: {:.4f}\".format(mse))\n",
    "\n",
    "test_score = np.zeros((params[\"n_estimators\"],), dtype=np.float64)\n",
    "for i, y_pred in enumerate(reg.staged_predict(X_test)):\n",
    "    test_score[i] = mean_squared_error(y_test, y_pred)"
   ]
  },
  {
   "cell_type": "code",
   "execution_count": null,
   "id": "953fe125-c5a3-4247-b1d5-9fbe94d677d9",
   "metadata": {},
   "outputs": [],
   "source": [
    "fig = plt.figure(figsize=(6, 6))\n",
    "plt.subplot(1, 1, 1)\n",
    "plt.title(\"Deviance\")\n",
    "plt.plot(\n",
    "    np.arange(params[\"n_estimators\"]) + 1,\n",
    "    reg.train_score_,\n",
    "    \"b-\",\n",
    "    label=\"Training Set Deviance\",\n",
    ")\n",
    "plt.plot(\n",
    "    np.arange(params[\"n_estimators\"]) + 1, test_score, \"r-\", label=\"Test Set Deviance\"\n",
    ")\n",
    "plt.legend(loc=\"upper right\")\n",
    "plt.xlabel(\"Boosting Iterations\")\n",
    "plt.ylabel(\"Deviance\")\n",
    "fig.tight_layout()\n",
    "plt.show()"
   ]
  },
  {
   "cell_type": "code",
   "execution_count": null,
   "id": "100989e4-dd12-43dc-85de-09f4b5992042",
   "metadata": {},
   "outputs": [],
   "source": [
    "feature_importance = reg.feature_importances_\n",
    "sorted_idx = np.argsort(feature_importance)\n",
    "pos = np.arange(sorted_idx.shape[0]) + 0.5\n",
    "fig = plt.figure(figsize=(12, 6))\n",
    "plt.subplot(1, 2, 1)\n",
    "plt.barh(pos, feature_importance[sorted_idx], align=\"center\")\n",
    "plt.yticks(pos, np.array(X.columns)[sorted_idx])\n",
    "plt.title(\"Feature Importance (MDI)\")\n",
    "\n",
    "result = permutation_importance(\n",
    "    reg, X_test, y_test, n_repeats=10, random_state=42, n_jobs=2\n",
    ")\n",
    "sorted_idx = result.importances_mean.argsort()\n",
    "plt.subplot(1, 2, 2)\n",
    "plt.boxplot(\n",
    "    result.importances[sorted_idx].T,\n",
    "    vert=False,\n",
    "    labels=np.array(X.columns)[sorted_idx],\n",
    ")\n",
    "plt.title(\"Permutation Importance (test set)\")\n",
    "fig.tight_layout()\n",
    "plt.show()"
   ]
  },
  {
   "cell_type": "code",
   "execution_count": null,
   "id": "0e63f798-ba8f-49c2-acf6-648e394d738f",
   "metadata": {},
   "outputs": [],
   "source": []
  }
 ],
 "metadata": {
  "kernelspec": {
   "display_name": "Python 3 (ipykernel)",
   "language": "python",
   "name": "python3"
  },
  "language_info": {
   "codemirror_mode": {
    "name": "ipython",
    "version": 3
   },
   "file_extension": ".py",
   "mimetype": "text/x-python",
   "name": "python",
   "nbconvert_exporter": "python",
   "pygments_lexer": "ipython3",
   "version": "3.10.8"
  }
 },
 "nbformat": 4,
 "nbformat_minor": 5
}
